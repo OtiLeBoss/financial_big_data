{
 "cells": [
  {
   "cell_type": "code",
   "execution_count": 13,
   "metadata": {},
   "outputs": [
    {
     "name": "stdout",
     "output_type": "stream",
     "text": [
      "Skipping non-directory item: .DS_Store\n",
      "Processing stock: A\n"
     ]
    },
    {
     "ename": "KeyboardInterrupt",
     "evalue": "",
     "output_type": "error",
     "traceback": [
      "\u001b[0;31m---------------------------------------------------------------------------\u001b[0m",
      "\u001b[0;31mKeyboardInterrupt\u001b[0m                         Traceback (most recent call last)",
      "\u001b[0;32m/var/folders/m4/7y6r9d5x1f9g7xkd8133tc2r0000gn/T/ipykernel_91956/233049753.py\u001b[0m in \u001b[0;36m<module>\u001b[0;34m\u001b[0m\n\u001b[1;32m     84\u001b[0m \u001b[0;31m# Example usage\u001b[0m\u001b[0;34m\u001b[0m\u001b[0;34m\u001b[0m\u001b[0m\n\u001b[1;32m     85\u001b[0m \u001b[0mbase_directory\u001b[0m \u001b[0;34m=\u001b[0m \u001b[0;34m\"/Users/othmaneio/Documents/financial_big_data/data\"\u001b[0m  \u001b[0;31m# Replace with the path to your stock directories\u001b[0m\u001b[0;34m\u001b[0m\u001b[0;34m\u001b[0m\u001b[0m\n\u001b[0;32m---> 86\u001b[0;31m \u001b[0mprocess_all_stocks\u001b[0m\u001b[0;34m(\u001b[0m\u001b[0mbase_directory\u001b[0m\u001b[0;34m)\u001b[0m\u001b[0;34m\u001b[0m\u001b[0;34m\u001b[0m\u001b[0m\n\u001b[0m",
      "\u001b[0;32m/var/folders/m4/7y6r9d5x1f9g7xkd8133tc2r0000gn/T/ipykernel_91956/233049753.py\u001b[0m in \u001b[0;36mprocess_all_stocks\u001b[0;34m(base_dir)\u001b[0m\n\u001b[1;32m     78\u001b[0m         \u001b[0;32mif\u001b[0m \u001b[0mos\u001b[0m\u001b[0;34m.\u001b[0m\u001b[0mpath\u001b[0m\u001b[0;34m.\u001b[0m\u001b[0misdir\u001b[0m\u001b[0;34m(\u001b[0m\u001b[0mstock_dir\u001b[0m\u001b[0;34m)\u001b[0m\u001b[0;34m:\u001b[0m\u001b[0;34m\u001b[0m\u001b[0;34m\u001b[0m\u001b[0m\n\u001b[1;32m     79\u001b[0m             \u001b[0mprint\u001b[0m\u001b[0;34m(\u001b[0m\u001b[0;34mf\"Processing stock: {stock}\"\u001b[0m\u001b[0;34m)\u001b[0m\u001b[0;34m\u001b[0m\u001b[0;34m\u001b[0m\u001b[0m\n\u001b[0;32m---> 80\u001b[0;31m             \u001b[0mmerge_stock_data\u001b[0m\u001b[0;34m(\u001b[0m\u001b[0mstock_dir\u001b[0m\u001b[0;34m)\u001b[0m\u001b[0;34m\u001b[0m\u001b[0;34m\u001b[0m\u001b[0m\n\u001b[0m\u001b[1;32m     81\u001b[0m         \u001b[0;32melse\u001b[0m\u001b[0;34m:\u001b[0m\u001b[0;34m\u001b[0m\u001b[0;34m\u001b[0m\u001b[0m\n\u001b[1;32m     82\u001b[0m             \u001b[0mprint\u001b[0m\u001b[0;34m(\u001b[0m\u001b[0;34mf\"Skipping non-directory item: {stock}\"\u001b[0m\u001b[0;34m)\u001b[0m\u001b[0;34m\u001b[0m\u001b[0;34m\u001b[0m\u001b[0m\n",
      "\u001b[0;32m/var/folders/m4/7y6r9d5x1f9g7xkd8133tc2r0000gn/T/ipykernel_91956/233049753.py\u001b[0m in \u001b[0;36mmerge_stock_data\u001b[0;34m(stock_dir)\u001b[0m\n\u001b[1;32m     41\u001b[0m \u001b[0;34m\u001b[0m\u001b[0m\n\u001b[1;32m     42\u001b[0m             aggregated_df = (\n\u001b[0;32m---> 43\u001b[0;31m                 \u001b[0mmerged_df\u001b[0m\u001b[0;34m.\u001b[0m\u001b[0mgroupby\u001b[0m\u001b[0;34m(\u001b[0m\u001b[0;34m[\u001b[0m\u001b[0;34m'datetime'\u001b[0m\u001b[0;34m]\u001b[0m\u001b[0;34m)\u001b[0m  \u001b[0;31m# Grouping by 'datetime' or any key to identify duplicates\u001b[0m\u001b[0;34m\u001b[0m\u001b[0;34m\u001b[0m\u001b[0m\n\u001b[0m\u001b[1;32m     44\u001b[0m                 .apply(lambda g: pd.Series({\n\u001b[1;32m     45\u001b[0m                     \u001b[0;34m'weighted_bid_price'\u001b[0m\u001b[0;34m:\u001b[0m \u001b[0;34m(\u001b[0m\u001b[0mg\u001b[0m\u001b[0;34m[\u001b[0m\u001b[0;34m'bid-price'\u001b[0m\u001b[0;34m]\u001b[0m \u001b[0;34m*\u001b[0m \u001b[0mg\u001b[0m\u001b[0;34m[\u001b[0m\u001b[0;34m'bid-volume'\u001b[0m\u001b[0;34m]\u001b[0m\u001b[0;34m)\u001b[0m\u001b[0;34m.\u001b[0m\u001b[0msum\u001b[0m\u001b[0;34m(\u001b[0m\u001b[0;34m)\u001b[0m \u001b[0;34m/\u001b[0m \u001b[0mg\u001b[0m\u001b[0;34m[\u001b[0m\u001b[0;34m'bid-volume'\u001b[0m\u001b[0;34m]\u001b[0m\u001b[0;34m.\u001b[0m\u001b[0msum\u001b[0m\u001b[0;34m(\u001b[0m\u001b[0;34m)\u001b[0m\u001b[0;34m,\u001b[0m\u001b[0;34m\u001b[0m\u001b[0;34m\u001b[0m\u001b[0m\n",
      "\u001b[0;32m~/opt/miniconda3/envs/adaexam/lib/python3.9/site-packages/pandas/core/groupby/groupby.py\u001b[0m in \u001b[0;36mapply\u001b[0;34m(self, func, include_groups, *args, **kwargs)\u001b[0m\n\u001b[1;32m   1822\u001b[0m         \u001b[0;32mwith\u001b[0m \u001b[0moption_context\u001b[0m\u001b[0;34m(\u001b[0m\u001b[0;34m\"mode.chained_assignment\"\u001b[0m\u001b[0;34m,\u001b[0m \u001b[0;32mNone\u001b[0m\u001b[0;34m)\u001b[0m\u001b[0;34m:\u001b[0m\u001b[0;34m\u001b[0m\u001b[0;34m\u001b[0m\u001b[0m\n\u001b[1;32m   1823\u001b[0m             \u001b[0;32mtry\u001b[0m\u001b[0;34m:\u001b[0m\u001b[0;34m\u001b[0m\u001b[0;34m\u001b[0m\u001b[0m\n\u001b[0;32m-> 1824\u001b[0;31m                 \u001b[0mresult\u001b[0m \u001b[0;34m=\u001b[0m \u001b[0mself\u001b[0m\u001b[0;34m.\u001b[0m\u001b[0m_python_apply_general\u001b[0m\u001b[0;34m(\u001b[0m\u001b[0mf\u001b[0m\u001b[0;34m,\u001b[0m \u001b[0mself\u001b[0m\u001b[0;34m.\u001b[0m\u001b[0m_selected_obj\u001b[0m\u001b[0;34m)\u001b[0m\u001b[0;34m\u001b[0m\u001b[0;34m\u001b[0m\u001b[0m\n\u001b[0m\u001b[1;32m   1825\u001b[0m                 if (\n\u001b[1;32m   1826\u001b[0m                     \u001b[0;32mnot\u001b[0m \u001b[0misinstance\u001b[0m\u001b[0;34m(\u001b[0m\u001b[0mself\u001b[0m\u001b[0;34m.\u001b[0m\u001b[0mobj\u001b[0m\u001b[0;34m,\u001b[0m \u001b[0mSeries\u001b[0m\u001b[0;34m)\u001b[0m\u001b[0;34m\u001b[0m\u001b[0;34m\u001b[0m\u001b[0m\n",
      "\u001b[0;32m~/opt/miniconda3/envs/adaexam/lib/python3.9/site-packages/pandas/core/groupby/groupby.py\u001b[0m in \u001b[0;36m_python_apply_general\u001b[0;34m(self, f, data, not_indexed_same, is_transform, is_agg)\u001b[0m\n\u001b[1;32m   1883\u001b[0m             \u001b[0mdata\u001b[0m \u001b[0mafter\u001b[0m \u001b[0mapplying\u001b[0m \u001b[0mf\u001b[0m\u001b[0;34m\u001b[0m\u001b[0;34m\u001b[0m\u001b[0m\n\u001b[1;32m   1884\u001b[0m         \"\"\"\n\u001b[0;32m-> 1885\u001b[0;31m         \u001b[0mvalues\u001b[0m\u001b[0;34m,\u001b[0m \u001b[0mmutated\u001b[0m \u001b[0;34m=\u001b[0m \u001b[0mself\u001b[0m\u001b[0;34m.\u001b[0m\u001b[0m_grouper\u001b[0m\u001b[0;34m.\u001b[0m\u001b[0mapply_groupwise\u001b[0m\u001b[0;34m(\u001b[0m\u001b[0mf\u001b[0m\u001b[0;34m,\u001b[0m \u001b[0mdata\u001b[0m\u001b[0;34m,\u001b[0m \u001b[0mself\u001b[0m\u001b[0;34m.\u001b[0m\u001b[0maxis\u001b[0m\u001b[0;34m)\u001b[0m\u001b[0;34m\u001b[0m\u001b[0;34m\u001b[0m\u001b[0m\n\u001b[0m\u001b[1;32m   1886\u001b[0m         \u001b[0;32mif\u001b[0m \u001b[0mnot_indexed_same\u001b[0m \u001b[0;32mis\u001b[0m \u001b[0;32mNone\u001b[0m\u001b[0;34m:\u001b[0m\u001b[0;34m\u001b[0m\u001b[0;34m\u001b[0m\u001b[0m\n\u001b[1;32m   1887\u001b[0m             \u001b[0mnot_indexed_same\u001b[0m \u001b[0;34m=\u001b[0m \u001b[0mmutated\u001b[0m\u001b[0;34m\u001b[0m\u001b[0;34m\u001b[0m\u001b[0m\n",
      "\u001b[0;32m~/opt/miniconda3/envs/adaexam/lib/python3.9/site-packages/pandas/core/groupby/ops.py\u001b[0m in \u001b[0;36mapply_groupwise\u001b[0;34m(self, f, data, axis)\u001b[0m\n\u001b[1;32m    917\u001b[0m             \u001b[0;31m# group might be modified\u001b[0m\u001b[0;34m\u001b[0m\u001b[0;34m\u001b[0m\u001b[0m\n\u001b[1;32m    918\u001b[0m             \u001b[0mgroup_axes\u001b[0m \u001b[0;34m=\u001b[0m \u001b[0mgroup\u001b[0m\u001b[0;34m.\u001b[0m\u001b[0maxes\u001b[0m\u001b[0;34m\u001b[0m\u001b[0;34m\u001b[0m\u001b[0m\n\u001b[0;32m--> 919\u001b[0;31m             \u001b[0mres\u001b[0m \u001b[0;34m=\u001b[0m \u001b[0mf\u001b[0m\u001b[0;34m(\u001b[0m\u001b[0mgroup\u001b[0m\u001b[0;34m)\u001b[0m\u001b[0;34m\u001b[0m\u001b[0;34m\u001b[0m\u001b[0m\n\u001b[0m\u001b[1;32m    920\u001b[0m             \u001b[0;32mif\u001b[0m \u001b[0;32mnot\u001b[0m \u001b[0mmutated\u001b[0m \u001b[0;32mand\u001b[0m \u001b[0;32mnot\u001b[0m \u001b[0m_is_indexed_like\u001b[0m\u001b[0;34m(\u001b[0m\u001b[0mres\u001b[0m\u001b[0;34m,\u001b[0m \u001b[0mgroup_axes\u001b[0m\u001b[0;34m,\u001b[0m \u001b[0maxis\u001b[0m\u001b[0;34m)\u001b[0m\u001b[0;34m:\u001b[0m\u001b[0;34m\u001b[0m\u001b[0;34m\u001b[0m\u001b[0m\n\u001b[1;32m    921\u001b[0m                 \u001b[0mmutated\u001b[0m \u001b[0;34m=\u001b[0m \u001b[0;32mTrue\u001b[0m\u001b[0;34m\u001b[0m\u001b[0;34m\u001b[0m\u001b[0m\n",
      "\u001b[0;32m/var/folders/m4/7y6r9d5x1f9g7xkd8133tc2r0000gn/T/ipykernel_91956/233049753.py\u001b[0m in \u001b[0;36m<lambda>\u001b[0;34m(g)\u001b[0m\n\u001b[1;32m     45\u001b[0m                     \u001b[0;34m'weighted_bid_price'\u001b[0m\u001b[0;34m:\u001b[0m \u001b[0;34m(\u001b[0m\u001b[0mg\u001b[0m\u001b[0;34m[\u001b[0m\u001b[0;34m'bid-price'\u001b[0m\u001b[0;34m]\u001b[0m \u001b[0;34m*\u001b[0m \u001b[0mg\u001b[0m\u001b[0;34m[\u001b[0m\u001b[0;34m'bid-volume'\u001b[0m\u001b[0;34m]\u001b[0m\u001b[0;34m)\u001b[0m\u001b[0;34m.\u001b[0m\u001b[0msum\u001b[0m\u001b[0;34m(\u001b[0m\u001b[0;34m)\u001b[0m \u001b[0;34m/\u001b[0m \u001b[0mg\u001b[0m\u001b[0;34m[\u001b[0m\u001b[0;34m'bid-volume'\u001b[0m\u001b[0;34m]\u001b[0m\u001b[0;34m.\u001b[0m\u001b[0msum\u001b[0m\u001b[0;34m(\u001b[0m\u001b[0;34m)\u001b[0m\u001b[0;34m,\u001b[0m\u001b[0;34m\u001b[0m\u001b[0;34m\u001b[0m\u001b[0m\n\u001b[1;32m     46\u001b[0m                     \u001b[0;34m'total_bid_quantity'\u001b[0m\u001b[0;34m:\u001b[0m \u001b[0mg\u001b[0m\u001b[0;34m[\u001b[0m\u001b[0;34m'bid-volume'\u001b[0m\u001b[0;34m]\u001b[0m\u001b[0;34m.\u001b[0m\u001b[0msum\u001b[0m\u001b[0;34m(\u001b[0m\u001b[0;34m)\u001b[0m\u001b[0;34m,\u001b[0m\u001b[0;34m\u001b[0m\u001b[0;34m\u001b[0m\u001b[0m\n\u001b[0;32m---> 47\u001b[0;31m                     \u001b[0;34m'max_bid_quantity'\u001b[0m\u001b[0;34m:\u001b[0m \u001b[0mg\u001b[0m\u001b[0;34m[\u001b[0m\u001b[0;34m'bid-volume'\u001b[0m\u001b[0;34m]\u001b[0m\u001b[0;34m.\u001b[0m\u001b[0mmax\u001b[0m\u001b[0;34m(\u001b[0m\u001b[0;34m)\u001b[0m\u001b[0;34m,\u001b[0m\u001b[0;34m\u001b[0m\u001b[0;34m\u001b[0m\u001b[0m\n\u001b[0m\u001b[1;32m     48\u001b[0m                     \u001b[0;34m'weighted_ask_price'\u001b[0m\u001b[0;34m:\u001b[0m \u001b[0;34m(\u001b[0m\u001b[0mg\u001b[0m\u001b[0;34m[\u001b[0m\u001b[0;34m'ask-price'\u001b[0m\u001b[0;34m]\u001b[0m \u001b[0;34m*\u001b[0m \u001b[0mg\u001b[0m\u001b[0;34m[\u001b[0m\u001b[0;34m'ask-volume'\u001b[0m\u001b[0;34m]\u001b[0m\u001b[0;34m)\u001b[0m\u001b[0;34m.\u001b[0m\u001b[0msum\u001b[0m\u001b[0;34m(\u001b[0m\u001b[0;34m)\u001b[0m \u001b[0;34m/\u001b[0m \u001b[0mg\u001b[0m\u001b[0;34m[\u001b[0m\u001b[0;34m'ask-volume'\u001b[0m\u001b[0;34m]\u001b[0m\u001b[0;34m.\u001b[0m\u001b[0msum\u001b[0m\u001b[0;34m(\u001b[0m\u001b[0;34m)\u001b[0m\u001b[0;34m,\u001b[0m\u001b[0;34m\u001b[0m\u001b[0;34m\u001b[0m\u001b[0m\n\u001b[1;32m     49\u001b[0m                     \u001b[0;34m'total_ask_quantity'\u001b[0m\u001b[0;34m:\u001b[0m \u001b[0mg\u001b[0m\u001b[0;34m[\u001b[0m\u001b[0;34m'ask-volume'\u001b[0m\u001b[0;34m]\u001b[0m\u001b[0;34m.\u001b[0m\u001b[0msum\u001b[0m\u001b[0;34m(\u001b[0m\u001b[0;34m)\u001b[0m\u001b[0;34m,\u001b[0m\u001b[0;34m\u001b[0m\u001b[0;34m\u001b[0m\u001b[0m\n",
      "\u001b[0;32m~/opt/miniconda3/envs/adaexam/lib/python3.9/site-packages/pandas/core/series.py\u001b[0m in \u001b[0;36mmax\u001b[0;34m(self, axis, skipna, numeric_only, **kwargs)\u001b[0m\n\u001b[1;32m   6515\u001b[0m         \u001b[0;34m**\u001b[0m\u001b[0mkwargs\u001b[0m\u001b[0;34m,\u001b[0m\u001b[0;34m\u001b[0m\u001b[0;34m\u001b[0m\u001b[0m\n\u001b[1;32m   6516\u001b[0m     ):\n\u001b[0;32m-> 6517\u001b[0;31m         \u001b[0;32mreturn\u001b[0m \u001b[0mNDFrame\u001b[0m\u001b[0;34m.\u001b[0m\u001b[0mmax\u001b[0m\u001b[0;34m(\u001b[0m\u001b[0mself\u001b[0m\u001b[0;34m,\u001b[0m \u001b[0maxis\u001b[0m\u001b[0;34m,\u001b[0m \u001b[0mskipna\u001b[0m\u001b[0;34m,\u001b[0m \u001b[0mnumeric_only\u001b[0m\u001b[0;34m,\u001b[0m \u001b[0;34m**\u001b[0m\u001b[0mkwargs\u001b[0m\u001b[0;34m)\u001b[0m\u001b[0;34m\u001b[0m\u001b[0;34m\u001b[0m\u001b[0m\n\u001b[0m\u001b[1;32m   6518\u001b[0m \u001b[0;34m\u001b[0m\u001b[0m\n\u001b[1;32m   6519\u001b[0m     \u001b[0;34m@\u001b[0m\u001b[0mdoc\u001b[0m\u001b[0;34m(\u001b[0m\u001b[0mmake_doc\u001b[0m\u001b[0;34m(\u001b[0m\u001b[0;34m\"sum\"\u001b[0m\u001b[0;34m,\u001b[0m \u001b[0mndim\u001b[0m\u001b[0;34m=\u001b[0m\u001b[0;36m1\u001b[0m\u001b[0;34m)\u001b[0m\u001b[0;34m)\u001b[0m\u001b[0;34m\u001b[0m\u001b[0;34m\u001b[0m\u001b[0m\n",
      "\u001b[0;32m~/opt/miniconda3/envs/adaexam/lib/python3.9/site-packages/pandas/core/generic.py\u001b[0m in \u001b[0;36mmax\u001b[0;34m(self, axis, skipna, numeric_only, **kwargs)\u001b[0m\n\u001b[1;32m  12402\u001b[0m         \u001b[0;34m**\u001b[0m\u001b[0mkwargs\u001b[0m\u001b[0;34m,\u001b[0m\u001b[0;34m\u001b[0m\u001b[0;34m\u001b[0m\u001b[0m\n\u001b[1;32m  12403\u001b[0m     ):\n\u001b[0;32m> 12404\u001b[0;31m         return self._stat_function(\n\u001b[0m\u001b[1;32m  12405\u001b[0m             \u001b[0;34m\"max\"\u001b[0m\u001b[0;34m,\u001b[0m\u001b[0;34m\u001b[0m\u001b[0;34m\u001b[0m\u001b[0m\n\u001b[1;32m  12406\u001b[0m             \u001b[0mnanops\u001b[0m\u001b[0;34m.\u001b[0m\u001b[0mnanmax\u001b[0m\u001b[0;34m,\u001b[0m\u001b[0;34m\u001b[0m\u001b[0;34m\u001b[0m\u001b[0m\n",
      "\u001b[0;32m~/opt/miniconda3/envs/adaexam/lib/python3.9/site-packages/pandas/core/generic.py\u001b[0m in \u001b[0;36m_stat_function\u001b[0;34m(self, name, func, axis, skipna, numeric_only, **kwargs)\u001b[0m\n\u001b[1;32m  12375\u001b[0m         \u001b[0mvalidate_bool_kwarg\u001b[0m\u001b[0;34m(\u001b[0m\u001b[0mskipna\u001b[0m\u001b[0;34m,\u001b[0m \u001b[0;34m\"skipna\"\u001b[0m\u001b[0;34m,\u001b[0m \u001b[0mnone_allowed\u001b[0m\u001b[0;34m=\u001b[0m\u001b[0;32mFalse\u001b[0m\u001b[0;34m)\u001b[0m\u001b[0;34m\u001b[0m\u001b[0;34m\u001b[0m\u001b[0m\n\u001b[1;32m  12376\u001b[0m \u001b[0;34m\u001b[0m\u001b[0m\n\u001b[0;32m> 12377\u001b[0;31m         return self._reduce(\n\u001b[0m\u001b[1;32m  12378\u001b[0m             \u001b[0mfunc\u001b[0m\u001b[0;34m,\u001b[0m \u001b[0mname\u001b[0m\u001b[0;34m=\u001b[0m\u001b[0mname\u001b[0m\u001b[0;34m,\u001b[0m \u001b[0maxis\u001b[0m\u001b[0;34m=\u001b[0m\u001b[0maxis\u001b[0m\u001b[0;34m,\u001b[0m \u001b[0mskipna\u001b[0m\u001b[0;34m=\u001b[0m\u001b[0mskipna\u001b[0m\u001b[0;34m,\u001b[0m \u001b[0mnumeric_only\u001b[0m\u001b[0;34m=\u001b[0m\u001b[0mnumeric_only\u001b[0m\u001b[0;34m\u001b[0m\u001b[0;34m\u001b[0m\u001b[0m\n\u001b[1;32m  12379\u001b[0m         )\n",
      "\u001b[0;32m~/opt/miniconda3/envs/adaexam/lib/python3.9/site-packages/pandas/core/series.py\u001b[0m in \u001b[0;36m_reduce\u001b[0;34m(self, op, name, axis, skipna, numeric_only, filter_type, **kwds)\u001b[0m\n\u001b[1;32m   6455\u001b[0m                     \u001b[0;34m\"with non-numeric dtypes.\"\u001b[0m\u001b[0;34m\u001b[0m\u001b[0;34m\u001b[0m\u001b[0m\n\u001b[1;32m   6456\u001b[0m                 )\n\u001b[0;32m-> 6457\u001b[0;31m             \u001b[0;32mreturn\u001b[0m \u001b[0mop\u001b[0m\u001b[0;34m(\u001b[0m\u001b[0mdelegate\u001b[0m\u001b[0;34m,\u001b[0m \u001b[0mskipna\u001b[0m\u001b[0;34m=\u001b[0m\u001b[0mskipna\u001b[0m\u001b[0;34m,\u001b[0m \u001b[0;34m**\u001b[0m\u001b[0mkwds\u001b[0m\u001b[0;34m)\u001b[0m\u001b[0;34m\u001b[0m\u001b[0;34m\u001b[0m\u001b[0m\n\u001b[0m\u001b[1;32m   6458\u001b[0m \u001b[0;34m\u001b[0m\u001b[0m\n\u001b[1;32m   6459\u001b[0m     \u001b[0;34m@\u001b[0m\u001b[0mAppender\u001b[0m\u001b[0;34m(\u001b[0m\u001b[0mmake_doc\u001b[0m\u001b[0;34m(\u001b[0m\u001b[0;34m\"any\"\u001b[0m\u001b[0;34m,\u001b[0m \u001b[0mndim\u001b[0m\u001b[0;34m=\u001b[0m\u001b[0;36m1\u001b[0m\u001b[0;34m)\u001b[0m\u001b[0;34m)\u001b[0m\u001b[0;34m\u001b[0m\u001b[0;34m\u001b[0m\u001b[0m\n",
      "\u001b[0;32m~/opt/miniconda3/envs/adaexam/lib/python3.9/site-packages/pandas/core/nanops.py\u001b[0m in \u001b[0;36mf\u001b[0;34m(values, axis, skipna, **kwds)\u001b[0m\n\u001b[1;32m    145\u001b[0m                     \u001b[0mresult\u001b[0m \u001b[0;34m=\u001b[0m \u001b[0malt\u001b[0m\u001b[0;34m(\u001b[0m\u001b[0mvalues\u001b[0m\u001b[0;34m,\u001b[0m \u001b[0maxis\u001b[0m\u001b[0;34m=\u001b[0m\u001b[0maxis\u001b[0m\u001b[0;34m,\u001b[0m \u001b[0mskipna\u001b[0m\u001b[0;34m=\u001b[0m\u001b[0mskipna\u001b[0m\u001b[0;34m,\u001b[0m \u001b[0;34m**\u001b[0m\u001b[0mkwds\u001b[0m\u001b[0;34m)\u001b[0m\u001b[0;34m\u001b[0m\u001b[0;34m\u001b[0m\u001b[0m\n\u001b[1;32m    146\u001b[0m             \u001b[0;32melse\u001b[0m\u001b[0;34m:\u001b[0m\u001b[0;34m\u001b[0m\u001b[0;34m\u001b[0m\u001b[0m\n\u001b[0;32m--> 147\u001b[0;31m                 \u001b[0mresult\u001b[0m \u001b[0;34m=\u001b[0m \u001b[0malt\u001b[0m\u001b[0;34m(\u001b[0m\u001b[0mvalues\u001b[0m\u001b[0;34m,\u001b[0m \u001b[0maxis\u001b[0m\u001b[0;34m=\u001b[0m\u001b[0maxis\u001b[0m\u001b[0;34m,\u001b[0m \u001b[0mskipna\u001b[0m\u001b[0;34m=\u001b[0m\u001b[0mskipna\u001b[0m\u001b[0;34m,\u001b[0m \u001b[0;34m**\u001b[0m\u001b[0mkwds\u001b[0m\u001b[0;34m)\u001b[0m\u001b[0;34m\u001b[0m\u001b[0;34m\u001b[0m\u001b[0m\n\u001b[0m\u001b[1;32m    148\u001b[0m \u001b[0;34m\u001b[0m\u001b[0m\n\u001b[1;32m    149\u001b[0m             \u001b[0;32mreturn\u001b[0m \u001b[0mresult\u001b[0m\u001b[0;34m\u001b[0m\u001b[0;34m\u001b[0m\u001b[0m\n",
      "\u001b[0;32m~/opt/miniconda3/envs/adaexam/lib/python3.9/site-packages/pandas/core/nanops.py\u001b[0m in \u001b[0;36mnew_func\u001b[0;34m(values, axis, skipna, mask, **kwargs)\u001b[0m\n\u001b[1;32m    402\u001b[0m             \u001b[0mmask\u001b[0m \u001b[0;34m=\u001b[0m \u001b[0misna\u001b[0m\u001b[0;34m(\u001b[0m\u001b[0mvalues\u001b[0m\u001b[0;34m)\u001b[0m\u001b[0;34m\u001b[0m\u001b[0;34m\u001b[0m\u001b[0m\n\u001b[1;32m    403\u001b[0m \u001b[0;34m\u001b[0m\u001b[0m\n\u001b[0;32m--> 404\u001b[0;31m         \u001b[0mresult\u001b[0m \u001b[0;34m=\u001b[0m \u001b[0mfunc\u001b[0m\u001b[0;34m(\u001b[0m\u001b[0mvalues\u001b[0m\u001b[0;34m,\u001b[0m \u001b[0maxis\u001b[0m\u001b[0;34m=\u001b[0m\u001b[0maxis\u001b[0m\u001b[0;34m,\u001b[0m \u001b[0mskipna\u001b[0m\u001b[0;34m=\u001b[0m\u001b[0mskipna\u001b[0m\u001b[0;34m,\u001b[0m \u001b[0mmask\u001b[0m\u001b[0;34m=\u001b[0m\u001b[0mmask\u001b[0m\u001b[0;34m,\u001b[0m \u001b[0;34m**\u001b[0m\u001b[0mkwargs\u001b[0m\u001b[0;34m)\u001b[0m\u001b[0;34m\u001b[0m\u001b[0;34m\u001b[0m\u001b[0m\n\u001b[0m\u001b[1;32m    405\u001b[0m \u001b[0;34m\u001b[0m\u001b[0m\n\u001b[1;32m    406\u001b[0m         \u001b[0;32mif\u001b[0m \u001b[0mdatetimelike\u001b[0m\u001b[0;34m:\u001b[0m\u001b[0;34m\u001b[0m\u001b[0;34m\u001b[0m\u001b[0m\n",
      "\u001b[0;32m~/opt/miniconda3/envs/adaexam/lib/python3.9/site-packages/pandas/core/nanops.py\u001b[0m in \u001b[0;36mreduction\u001b[0;34m(values, axis, skipna, mask)\u001b[0m\n\u001b[1;32m   1097\u001b[0m         )\n\u001b[1;32m   1098\u001b[0m         \u001b[0mresult\u001b[0m \u001b[0;34m=\u001b[0m \u001b[0mgetattr\u001b[0m\u001b[0;34m(\u001b[0m\u001b[0mvalues\u001b[0m\u001b[0;34m,\u001b[0m \u001b[0mmeth\u001b[0m\u001b[0;34m)\u001b[0m\u001b[0;34m(\u001b[0m\u001b[0maxis\u001b[0m\u001b[0;34m)\u001b[0m\u001b[0;34m\u001b[0m\u001b[0;34m\u001b[0m\u001b[0m\n\u001b[0;32m-> 1099\u001b[0;31m         \u001b[0mresult\u001b[0m \u001b[0;34m=\u001b[0m \u001b[0m_maybe_null_out\u001b[0m\u001b[0;34m(\u001b[0m\u001b[0mresult\u001b[0m\u001b[0;34m,\u001b[0m \u001b[0maxis\u001b[0m\u001b[0;34m,\u001b[0m \u001b[0mmask\u001b[0m\u001b[0;34m,\u001b[0m \u001b[0mvalues\u001b[0m\u001b[0;34m.\u001b[0m\u001b[0mshape\u001b[0m\u001b[0;34m)\u001b[0m\u001b[0;34m\u001b[0m\u001b[0;34m\u001b[0m\u001b[0m\n\u001b[0m\u001b[1;32m   1100\u001b[0m         \u001b[0;32mreturn\u001b[0m \u001b[0mresult\u001b[0m\u001b[0;34m\u001b[0m\u001b[0;34m\u001b[0m\u001b[0m\n\u001b[1;32m   1101\u001b[0m \u001b[0;34m\u001b[0m\u001b[0m\n",
      "\u001b[0;32m~/opt/miniconda3/envs/adaexam/lib/python3.9/site-packages/pandas/core/nanops.py\u001b[0m in \u001b[0;36m_maybe_null_out\u001b[0;34m(result, axis, mask, shape, min_count)\u001b[0m\n\u001b[1;32m   1534\u001b[0m                 \u001b[0mresult\u001b[0m\u001b[0;34m[\u001b[0m\u001b[0mnull_mask\u001b[0m\u001b[0;34m]\u001b[0m \u001b[0;34m=\u001b[0m \u001b[0;32mNone\u001b[0m\u001b[0;34m\u001b[0m\u001b[0;34m\u001b[0m\u001b[0m\n\u001b[1;32m   1535\u001b[0m     \u001b[0;32melif\u001b[0m \u001b[0mresult\u001b[0m \u001b[0;32mis\u001b[0m \u001b[0;32mnot\u001b[0m \u001b[0mNaT\u001b[0m\u001b[0;34m:\u001b[0m\u001b[0;34m\u001b[0m\u001b[0;34m\u001b[0m\u001b[0m\n\u001b[0;32m-> 1536\u001b[0;31m         \u001b[0;32mif\u001b[0m \u001b[0mcheck_below_min_count\u001b[0m\u001b[0;34m(\u001b[0m\u001b[0mshape\u001b[0m\u001b[0;34m,\u001b[0m \u001b[0mmask\u001b[0m\u001b[0;34m,\u001b[0m \u001b[0mmin_count\u001b[0m\u001b[0;34m)\u001b[0m\u001b[0;34m:\u001b[0m\u001b[0;34m\u001b[0m\u001b[0;34m\u001b[0m\u001b[0m\n\u001b[0m\u001b[1;32m   1537\u001b[0m             \u001b[0mresult_dtype\u001b[0m \u001b[0;34m=\u001b[0m \u001b[0mgetattr\u001b[0m\u001b[0;34m(\u001b[0m\u001b[0mresult\u001b[0m\u001b[0;34m,\u001b[0m \u001b[0;34m\"dtype\"\u001b[0m\u001b[0;34m,\u001b[0m \u001b[0;32mNone\u001b[0m\u001b[0;34m)\u001b[0m\u001b[0;34m\u001b[0m\u001b[0;34m\u001b[0m\u001b[0m\n\u001b[1;32m   1538\u001b[0m             \u001b[0;32mif\u001b[0m \u001b[0mis_float_dtype\u001b[0m\u001b[0;34m(\u001b[0m\u001b[0mresult_dtype\u001b[0m\u001b[0;34m)\u001b[0m\u001b[0;34m:\u001b[0m\u001b[0;34m\u001b[0m\u001b[0;34m\u001b[0m\u001b[0m\n",
      "\u001b[0;32m~/opt/miniconda3/envs/adaexam/lib/python3.9/site-packages/pandas/core/nanops.py\u001b[0m in \u001b[0;36mcheck_below_min_count\u001b[0;34m(shape, mask, min_count)\u001b[0m\n\u001b[1;32m   1568\u001b[0m         \u001b[0;32mif\u001b[0m \u001b[0mmask\u001b[0m \u001b[0;32mis\u001b[0m \u001b[0;32mNone\u001b[0m\u001b[0;34m:\u001b[0m\u001b[0;34m\u001b[0m\u001b[0;34m\u001b[0m\u001b[0m\n\u001b[1;32m   1569\u001b[0m             \u001b[0;31m# no missing values, only check size\u001b[0m\u001b[0;34m\u001b[0m\u001b[0;34m\u001b[0m\u001b[0m\n\u001b[0;32m-> 1570\u001b[0;31m             \u001b[0mnon_nulls\u001b[0m \u001b[0;34m=\u001b[0m \u001b[0mnp\u001b[0m\u001b[0;34m.\u001b[0m\u001b[0mprod\u001b[0m\u001b[0;34m(\u001b[0m\u001b[0mshape\u001b[0m\u001b[0;34m)\u001b[0m\u001b[0;34m\u001b[0m\u001b[0;34m\u001b[0m\u001b[0m\n\u001b[0m\u001b[1;32m   1571\u001b[0m         \u001b[0;32melse\u001b[0m\u001b[0;34m:\u001b[0m\u001b[0;34m\u001b[0m\u001b[0;34m\u001b[0m\u001b[0m\n\u001b[1;32m   1572\u001b[0m             \u001b[0mnon_nulls\u001b[0m \u001b[0;34m=\u001b[0m \u001b[0mmask\u001b[0m\u001b[0;34m.\u001b[0m\u001b[0msize\u001b[0m \u001b[0;34m-\u001b[0m \u001b[0mmask\u001b[0m\u001b[0;34m.\u001b[0m\u001b[0msum\u001b[0m\u001b[0;34m(\u001b[0m\u001b[0;34m)\u001b[0m\u001b[0;34m\u001b[0m\u001b[0;34m\u001b[0m\u001b[0m\n",
      "\u001b[0;32m~/opt/miniconda3/envs/adaexam/lib/python3.9/site-packages/numpy/core/fromnumeric.py\u001b[0m in \u001b[0;36mprod\u001b[0;34m(a, axis, dtype, out, keepdims, initial, where)\u001b[0m\n\u001b[1;32m   3098\u001b[0m     \u001b[0;36m10\u001b[0m\u001b[0;34m\u001b[0m\u001b[0;34m\u001b[0m\u001b[0m\n\u001b[1;32m   3099\u001b[0m     \"\"\"\n\u001b[0;32m-> 3100\u001b[0;31m     return _wrapreduction(a, np.multiply, 'prod', axis, dtype, out,\n\u001b[0m\u001b[1;32m   3101\u001b[0m                           keepdims=keepdims, initial=initial, where=where)\n\u001b[1;32m   3102\u001b[0m \u001b[0;34m\u001b[0m\u001b[0m\n",
      "\u001b[0;32m~/opt/miniconda3/envs/adaexam/lib/python3.9/site-packages/numpy/core/fromnumeric.py\u001b[0m in \u001b[0;36m_wrapreduction\u001b[0;34m(obj, ufunc, method, axis, dtype, out, **kwargs)\u001b[0m\n\u001b[1;32m     70\u001b[0m \u001b[0;34m\u001b[0m\u001b[0m\n\u001b[1;32m     71\u001b[0m \u001b[0;32mdef\u001b[0m \u001b[0m_wrapreduction\u001b[0m\u001b[0;34m(\u001b[0m\u001b[0mobj\u001b[0m\u001b[0;34m,\u001b[0m \u001b[0mufunc\u001b[0m\u001b[0;34m,\u001b[0m \u001b[0mmethod\u001b[0m\u001b[0;34m,\u001b[0m \u001b[0maxis\u001b[0m\u001b[0;34m,\u001b[0m \u001b[0mdtype\u001b[0m\u001b[0;34m,\u001b[0m \u001b[0mout\u001b[0m\u001b[0;34m,\u001b[0m \u001b[0;34m**\u001b[0m\u001b[0mkwargs\u001b[0m\u001b[0;34m)\u001b[0m\u001b[0;34m:\u001b[0m\u001b[0;34m\u001b[0m\u001b[0;34m\u001b[0m\u001b[0m\n\u001b[0;32m---> 72\u001b[0;31m     passkwargs = {k: v for k, v in kwargs.items()\n\u001b[0m\u001b[1;32m     73\u001b[0m                   if v is not np._NoValue}\n\u001b[1;32m     74\u001b[0m \u001b[0;34m\u001b[0m\u001b[0m\n",
      "\u001b[0;32m~/opt/miniconda3/envs/adaexam/lib/python3.9/site-packages/numpy/core/fromnumeric.py\u001b[0m in \u001b[0;36m<dictcomp>\u001b[0;34m(.0)\u001b[0m\n\u001b[1;32m     70\u001b[0m \u001b[0;34m\u001b[0m\u001b[0m\n\u001b[1;32m     71\u001b[0m \u001b[0;32mdef\u001b[0m \u001b[0m_wrapreduction\u001b[0m\u001b[0;34m(\u001b[0m\u001b[0mobj\u001b[0m\u001b[0;34m,\u001b[0m \u001b[0mufunc\u001b[0m\u001b[0;34m,\u001b[0m \u001b[0mmethod\u001b[0m\u001b[0;34m,\u001b[0m \u001b[0maxis\u001b[0m\u001b[0;34m,\u001b[0m \u001b[0mdtype\u001b[0m\u001b[0;34m,\u001b[0m \u001b[0mout\u001b[0m\u001b[0;34m,\u001b[0m \u001b[0;34m**\u001b[0m\u001b[0mkwargs\u001b[0m\u001b[0;34m)\u001b[0m\u001b[0;34m:\u001b[0m\u001b[0;34m\u001b[0m\u001b[0;34m\u001b[0m\u001b[0m\n\u001b[0;32m---> 72\u001b[0;31m     passkwargs = {k: v for k, v in kwargs.items()\n\u001b[0m\u001b[1;32m     73\u001b[0m                   if v is not np._NoValue}\n\u001b[1;32m     74\u001b[0m \u001b[0;34m\u001b[0m\u001b[0m\n",
      "\u001b[0;31mKeyboardInterrupt\u001b[0m: "
     ]
    }
   ],
   "source": [
    "import os\n",
    "import pandas as pd\n",
    "import warnings\n",
    "# Suppress all warnings\n",
    "warnings.filterwarnings(\"ignore\")\n",
    "\n",
    "def merge_stock_data(stock_dir):\n",
    "    \"\"\"Merge all bbo and trade files for a single stock and save the result.\"\"\"\n",
    "    bbo_dir = os.path.join(stock_dir, 'bbo')\n",
    "    trade_dir = os.path.join(stock_dir, 'trade')\n",
    "    \n",
    "    # Ensure subdirectories exist\n",
    "    if not os.path.exists(bbo_dir) or not os.path.exists(trade_dir):\n",
    "        print(f\"Skipping {stock_dir}: Missing 'bbo' or 'trade' subdirectories.\")\n",
    "        return None\n",
    "    \n",
    "    daily_dfs = []\n",
    "    \n",
    "    # Get sorted list of files in both directories\n",
    "    bbo_files = sorted(os.listdir(bbo_dir))\n",
    "    trade_files = sorted(os.listdir(trade_dir))\n",
    "    \n",
    "    # Match files by name (assuming they correspond, e.g., '1.csv', '2.csv')\n",
    "    for bbo_file, trade_file in zip(bbo_files, trade_files):\n",
    "        bbo_path = os.path.join(bbo_dir, bbo_file)\n",
    "        trade_path = os.path.join(trade_dir, trade_file)\n",
    "        \n",
    "        if os.path.isfile(bbo_path) and os.path.isfile(trade_path):\n",
    "            # Load the files\n",
    "            bbo_df = pd.read_parquet(bbo_path)\n",
    "            trade_df = pd.read_parquet(trade_path)\n",
    "            \n",
    "            # Merge on a common key (adjust the key column name as necessary)\n",
    "            merged_df = pd.merge(bbo_df, trade_df, on='xltime', how='inner')  # Replace 'timestamp' if needed\n",
    "\n",
    "            # Check if 'xltime' column exists and transform it to datetime\n",
    "            if 'xltime' in merged_df.columns:\n",
    "                merged_df['datetime'] = pd.to_datetime('1899-12-30') + pd.to_timedelta(merged_df['xltime'], unit='D')\n",
    "            else:\n",
    "                print(\"'xltime' column not found in the dataset.\")\n",
    "\n",
    "            aggregated_df = (\n",
    "                merged_df.groupby(['datetime'])  # Grouping by 'datetime' or any key to identify duplicates\n",
    "                .apply(lambda g: pd.Series({\n",
    "                    'weighted_bid_price': (g['bid-price'] * g['bid-volume']).sum() / g['bid-volume'].sum(),\n",
    "                    'total_bid_quantity': g['bid-volume'].sum(),\n",
    "                    'max_bid_quantity': g['bid-volume'].max(),\n",
    "                    'weighted_ask_price': (g['ask-price'] * g['ask-volume']).sum() / g['ask-volume'].sum(),\n",
    "                    'total_ask_quantity': g['ask-volume'].sum(),\n",
    "                    'max_ask_quantity': g['ask-volume'].max(),\n",
    "                    'total_trade_volume': g['trade-volume'].sum(),\n",
    "\n",
    "\n",
    "                }))\n",
    "                .reset_index()\n",
    "            )\n",
    "            \n",
    "            # Append the merged DataFrame to the list\n",
    "            daily_dfs.append(aggregated_df)\n",
    "        else:\n",
    "            print(f\"Skipping unmatched files: {bbo_file}, {trade_file}\")\n",
    "    \n",
    "    # Concatenate all daily DataFrames into one for the stock\n",
    "    if daily_dfs:\n",
    "        stock_merged_df = pd.concat(daily_dfs, ignore_index=True)\n",
    "        \n",
    "        # Save the merged DataFrame in the stock's folder\n",
    "        output_path = os.path.join(stock_dir, 'merged_data.csv')  # Save as CSV\n",
    "        stock_merged_df.to_csv(output_path, index=False)\n",
    "        print(f\"Merged data saved for stock: {os.path.basename(stock_dir)}\")\n",
    "    else:\n",
    "        print(f\"No data to merge for stock: {os.path.basename(stock_dir)}\")\n",
    "\n",
    "def process_all_stocks(base_dir):\n",
    "    \"\"\"Process all stocks in the base directory.\"\"\"\n",
    "    for stock in sorted(os.listdir(base_dir)):\n",
    "        stock_dir = os.path.join(base_dir, stock)\n",
    "        if os.path.isdir(stock_dir):\n",
    "            print(f\"Processing stock: {stock}\")\n",
    "            merge_stock_data(stock_dir)\n",
    "        else:\n",
    "            print(f\"Skipping non-directory item: {stock}\")\n",
    "\n",
    "# Example usage\n",
    "base_directory = \"/Users/othmaneio/Documents/financial_big_data/data\"  # Replace with the path to your stock directories\n",
    "process_all_stocks(base_directory)\n"
   ]
  },
  {
   "cell_type": "code",
   "execution_count": 8,
   "metadata": {},
   "outputs": [
    {
     "name": "stdout",
     "output_type": "stream",
     "text": [
      "Collecting polars\n",
      "  Downloading polars-1.17.1-cp39-abi3-macosx_10_12_x86_64.whl (33.0 MB)\n",
      "\u001b[K     |████████████████████████████████| 33.0 MB 3.9 kB/s eta 0:00:011     |█████████████████▊              | 18.3 MB 14.0 MB/s eta 0:00:02MB 11.1 MB/s eta 0:00:01\n",
      "\u001b[?25hInstalling collected packages: polars\n",
      "Successfully installed polars-1.17.1\n"
     ]
    }
   ],
   "source": [
    "!pip install polars\n"
   ]
  },
  {
   "cell_type": "code",
   "execution_count": 18,
   "metadata": {},
   "outputs": [
    {
     "name": "stdout",
     "output_type": "stream",
     "text": [
      "Skipping non-directory item: .DS_Store\n",
      "Processing stock: A\n",
      "Merged data saved as CSV for stock: A\n",
      "Processing stock: AA\n",
      "Merged data saved as CSV for stock: AA\n",
      "Processing stock: AAP\n",
      "Merged data saved as CSV for stock: AAP\n",
      "Processing stock: ABC\n",
      "Merged data saved as CSV for stock: ABC\n",
      "Processing stock: ABD\n",
      "Merged data saved as CSV for stock: ABD\n",
      "Processing stock: ABT\n",
      "Merged data saved as CSV for stock: ABT\n",
      "Processing stock: ACE\n",
      "Merged data saved as CSV for stock: ACE\n",
      "Processing stock: ACL\n",
      "Merged data saved as CSV for stock: ACL\n",
      "Processing stock: ACN\n",
      "Merged data saved as CSV for stock: ACN\n",
      "Processing stock: ADI\n",
      "Merged data saved as CSV for stock: ADI\n",
      "Processing stock: ADM\n",
      "Merged data saved as CSV for stock: ADM\n",
      "Processing stock: ADS\n",
      "Merged data saved as CSV for stock: ADS\n",
      "Processing stock: AEE\n",
      "Merged data saved as CSV for stock: AEE\n",
      "Processing stock: AEP\n",
      "Merged data saved as CSV for stock: AEP\n",
      "Processing stock: AES\n",
      "Merged data saved as CSV for stock: AES\n",
      "Processing stock: AFL\n",
      "Merged data saved as CSV for stock: AFL\n",
      "Processing stock: AGN\n",
      "Merged data saved as CSV for stock: AGN\n",
      "Processing stock: AHC\n",
      "Merged data saved as CSV for stock: AHC\n",
      "Processing stock: AIG\n",
      "Merged data saved as CSV for stock: AIG\n",
      "Processing stock: AIV\n",
      "Merged data saved as CSV for stock: AIV\n",
      "Processing stock: AIZ\n",
      "Merged data saved as CSV for stock: AIZ\n",
      "Processing stock: AJG\n",
      "Merged data saved as CSV for stock: AJG\n",
      "Processing stock: ALB\n",
      "Merged data saved as CSV for stock: ALB\n",
      "Processing stock: ALK\n",
      "Merged data saved as CSV for stock: ALK\n",
      "Processing stock: ALL\n",
      "Merged data saved as CSV for stock: ALL\n",
      "Processing stock: AMB\n",
      "Merged data saved as CSV for stock: AMB\n",
      "Processing stock: AMD\n",
      "Merged data saved as CSV for stock: AMD\n",
      "Processing stock: AME\n",
      "Merged data saved as CSV for stock: AME\n",
      "Processing stock: AMP\n",
      "Merged data saved as CSV for stock: AMP\n",
      "Processing stock: AMR\n",
      "Merged data saved as CSV for stock: AMR\n",
      "Processing stock: AMT\n",
      "Merged data saved as CSV for stock: AMT\n",
      "Processing stock: AON\n",
      "Merged data saved as CSV for stock: AON\n",
      "Processing stock: AOS\n",
      "Merged data saved as CSV for stock: AOS\n",
      "Processing stock: APA\n",
      "Merged data saved as CSV for stock: APA\n",
      "Processing stock: APD\n",
      "Merged data saved as CSV for stock: APD\n",
      "Processing stock: APH\n",
      "Merged data saved as CSV for stock: APH\n",
      "Processing stock: ARE\n",
      "Merged data saved as CSV for stock: ARE\n",
      "Processing stock: ATO\n",
      "Merged data saved as CSV for stock: ATO\n",
      "Processing stock: AVB\n",
      "Merged data saved as CSV for stock: AVB\n",
      "Processing stock: AVY\n",
      "Merged data saved as CSV for stock: AVY\n",
      "Processing stock: AWK\n",
      "Merged data saved as CSV for stock: AWK\n",
      "Processing stock: AXP\n",
      "Merged data saved as CSV for stock: AXP\n",
      "Processing stock: AZO\n",
      "Merged data saved as CSV for stock: AZO\n",
      "Processing stock: BA\n",
      "Merged data saved as CSV for stock: BA\n",
      "Processing stock: BAC\n",
      "Merged data saved as CSV for stock: BAC\n",
      "Processing stock: BAX\n",
      "Merged data saved as CSV for stock: BAX\n",
      "Processing stock: BBY\n",
      "Merged data saved as CSV for stock: BBY\n",
      "Processing stock: BDX\n",
      "Merged data saved as CSV for stock: BDX\n",
      "Processing stock: BEN\n",
      "Merged data saved as CSV for stock: BEN\n",
      "Processing stock: BFO\n",
      "Merged data saved as CSV for stock: BFO\n",
      "Processing stock: BH\n",
      "Merged data saved as CSV for stock: BH\n",
      "Processing stock: BK\n",
      "Merged data saved as CSV for stock: BK\n",
      "Processing stock: BKR\n",
      "Merged data saved as CSV for stock: BKR\n",
      "Processing stock: BLK\n",
      "Merged data saved as CSV for stock: BLK\n",
      "Processing stock: BLL\n",
      "Merged data saved as CSV for stock: BLL\n",
      "Processing stock: BMY\n",
      "Merged data saved as CSV for stock: BMY\n",
      "Processing stock: BR\n",
      "Merged data saved as CSV for stock: BR\n",
      "Processing stock: BSX\n",
      "Merged data saved as CSV for stock: BSX\n",
      "Processing stock: BTM\n",
      "Merged data saved as CSV for stock: BTM\n",
      "Processing stock: BWA\n",
      "Merged data saved as CSV for stock: BWA\n",
      "Processing stock: BXP\n",
      "Merged data saved as CSV for stock: BXP\n",
      "Processing stock: C\n",
      "Merged data saved as CSV for stock: C\n",
      "Processing stock: CAG\n",
      "Merged data saved as CSV for stock: CAG\n",
      "Processing stock: CAH\n",
      "Merged data saved as CSV for stock: CAH\n",
      "Processing stock: CAT\n",
      "Merged data saved as CSV for stock: CAT\n",
      "Processing stock: CB\n",
      "Merged data saved as CSV for stock: CB\n",
      "Processing stock: CBG\n",
      "Merged data saved as CSV for stock: CBG\n",
      "Processing stock: CCI\n",
      "Merged data saved as CSV for stock: CCI\n",
      "Processing stock: CCL\n",
      "Merged data saved as CSV for stock: CCL\n",
      "Processing stock: CE\n",
      "Merged data saved as CSV for stock: CE\n",
      "Processing stock: CF\n",
      "Merged data saved as CSV for stock: CF\n",
      "Processing stock: CHD\n",
      "Merged data saved as CSV for stock: CHD\n",
      "Processing stock: CHL\n",
      "Merged data saved as CSV for stock: CHL\n",
      "Processing stock: CHP\n",
      "Merged data saved as CSV for stock: CHP\n",
      "Processing stock: CI\n",
      "Merged data saved as CSV for stock: CI\n",
      "Processing stock: CL\n",
      "Merged data saved as CSV for stock: CL\n",
      "Processing stock: CLX\n",
      "Merged data saved as CSV for stock: CLX\n",
      "Processing stock: CMA\n",
      "Merged data saved as CSV for stock: CMA\n",
      "Processing stock: CMG\n",
      "Merged data saved as CSV for stock: CMG\n",
      "Processing stock: CMI\n",
      "Merged data saved as CSV for stock: CMI\n",
      "Processing stock: CMS\n",
      "Merged data saved as CSV for stock: CMS\n",
      "Processing stock: CMT\n",
      "Merged data saved as CSV for stock: CMT\n",
      "Processing stock: CNC\n",
      "Merged data saved as CSV for stock: CNC\n",
      "Processing stock: CNP\n",
      "Merged data saved as CSV for stock: CNP\n",
      "Processing stock: COF\n",
      "Merged data saved as CSV for stock: COF\n",
      "Processing stock: COG\n",
      "Merged data saved as CSV for stock: COG\n",
      "Processing stock: COH\n",
      "Merged data saved as CSV for stock: COH\n",
      "Processing stock: COL\n",
      "Merged data saved as CSV for stock: COL\n",
      "Processing stock: COO\n",
      "Merged data saved as CSV for stock: COO\n",
      "Processing stock: COP\n",
      "Merged data saved as CSV for stock: COP\n",
      "Processing stock: CPB\n",
      "Merged data saved as CSV for stock: CPB\n",
      "Processing stock: CPC\n",
      "Merged data saved as CSV for stock: CPC\n",
      "Processing stock: CRM\n",
      "Merged data saved as CSV for stock: CRM\n",
      "Processing stock: CSC\n",
      "Merged data saved as CSV for stock: CSC\n",
      "Processing stock: CSX\n",
      "Merged data saved as CSV for stock: CSX\n",
      "Processing stock: CTL\n",
      "Merged data saved as CSV for stock: CTL\n",
      "Processing stock: CVS\n",
      "Merged data saved as CSV for stock: CVS\n",
      "Processing stock: CVX\n",
      "Merged data saved as CSV for stock: CVX\n",
      "Processing stock: CXO\n",
      "Merged data saved as CSV for stock: CXO\n",
      "Processing stock: D\n",
      "Merged data saved as CSV for stock: D\n",
      "Processing stock: DAL\n",
      "Merged data saved as CSV for stock: DAL\n",
      "Processing stock: DD\n",
      "Merged data saved as CSV for stock: DD\n",
      "Processing stock: DE\n",
      "Merged data saved as CSV for stock: DE\n",
      "Processing stock: DFS\n",
      "Merged data saved as CSV for stock: DFS\n",
      "Processing stock: DG\n",
      "Merged data saved as CSV for stock: DG\n",
      "Processing stock: DGX\n",
      "Merged data saved as CSV for stock: DGX\n",
      "Processing stock: DHI\n",
      "Merged data saved as CSV for stock: DHI\n",
      "Processing stock: DHR\n",
      "Merged data saved as CSV for stock: DHR\n",
      "Processing stock: DIS\n",
      "Merged data saved as CSV for stock: DIS\n",
      "Processing stock: DLR\n",
      "Merged data saved as CSV for stock: DLR\n",
      "Processing stock: DNB\n",
      "Merged data saved as CSV for stock: DNB\n",
      "Processing stock: DOV\n",
      "Merged data saved as CSV for stock: DOV\n",
      "Processing stock: DOW\n",
      "Merged data saved as CSV for stock: DOW\n",
      "Processing stock: DRE\n",
      "Merged data saved as CSV for stock: DRE\n",
      "Processing stock: DRI\n",
      "Merged data saved as CSV for stock: DRI\n",
      "Processing stock: DTE\n",
      "Merged data saved as CSV for stock: DTE\n",
      "Processing stock: DUK\n",
      "Merged data saved as CSV for stock: DUK\n",
      "Processing stock: DVA\n",
      "Merged data saved as CSV for stock: DVA\n",
      "Processing stock: DVN\n",
      "Merged data saved as CSV for stock: DVN\n",
      "Processing stock: E\n",
      "Merged data saved as CSV for stock: E\n",
      "Processing stock: ECL\n",
      "Merged data saved as CSV for stock: ECL\n",
      "Processing stock: ED\n",
      "Merged data saved as CSV for stock: ED\n",
      "Processing stock: EFX\n",
      "Merged data saved as CSV for stock: EFX\n",
      "Processing stock: EIX\n",
      "Merged data saved as CSV for stock: EIX\n",
      "Processing stock: EL\n",
      "Merged data saved as CSV for stock: EL\n",
      "Processing stock: EMN\n",
      "Merged data saved as CSV for stock: EMN\n",
      "Processing stock: EMR\n",
      "Merged data saved as CSV for stock: EMR\n",
      "Processing stock: EOG\n",
      "Merged data saved as CSV for stock: EOG\n",
      "Processing stock: EQR\n",
      "Merged data saved as CSV for stock: EQR\n",
      "Processing stock: ES\n",
      "Merged data saved as CSV for stock: ES\n",
      "Processing stock: ESS\n",
      "Merged data saved as CSV for stock: ESS\n",
      "Processing stock: ESV\n",
      "Merged data saved as CSV for stock: ESV\n",
      "Processing stock: ETN\n",
      "Merged data saved as CSV for stock: ETN\n"
     ]
    }
   ],
   "source": [
    "import polars as pl\n",
    "import os\n",
    "\n",
    "def process_stock_with_polars(stock_dir):\n",
    "    \"\"\"Merge bbo and trade files for a single stock using Polars and perform aggregations.\"\"\"\n",
    "    bbo_dir = os.path.join(stock_dir, 'bbo')\n",
    "    trade_dir = os.path.join(stock_dir, 'trade')\n",
    "\n",
    "    # Ensure subdirectories exist\n",
    "    if not os.path.exists(bbo_dir) or not os.path.exists(trade_dir):\n",
    "        print(f\"Skipping {stock_dir}: Missing 'bbo' or 'trade' subdirectories.\")\n",
    "        return\n",
    "\n",
    "    # Get sorted list of Parquet files in both directories\n",
    "    bbo_files = sorted([f for f in os.listdir(bbo_dir) if f.endswith(\".parquet\")])\n",
    "    trade_files = sorted([f for f in os.listdir(trade_dir) if f.endswith(\".parquet\")])\n",
    "\n",
    "    lazy_dfs = []\n",
    "\n",
    "    for bbo_file, trade_file in zip(bbo_files, trade_files):\n",
    "        bbo_path = os.path.join(bbo_dir, bbo_file)\n",
    "        trade_path = os.path.join(trade_dir, trade_file)\n",
    "\n",
    "        if os.path.isfile(bbo_path) and os.path.isfile(trade_path):\n",
    "            # Load the Parquet files as Polars lazy DataFrames\n",
    "            bbo_df = pl.read_parquet(bbo_path).lazy()\n",
    "            trade_df = pl.read_parquet(trade_path).lazy()\n",
    "\n",
    "            # Merge on xltime\n",
    "            merged_df = bbo_df.join(trade_df, on=\"xltime\", how=\"inner\")\n",
    "\n",
    "\n",
    "\n",
    "            # Ensure consistent types\n",
    "            merged_df = merged_df.with_columns([\n",
    "                pl.col(\"xltime\").cast(pl.Float64),\n",
    "                pl.col(\"bid-price\").cast(pl.Float64).alias(\"bid-price\"),\n",
    "                pl.col(\"bid-volume\").cast(pl.Float64),\n",
    "                pl.col(\"ask-price\").cast(pl.Float64),\n",
    "                pl.col(\"ask-volume\").cast(pl.Float64),\n",
    "                pl.col(\"trade-price\").cast(pl.Float64),\n",
    "                pl.col(\"trade-volume\").cast(pl.Float64)\n",
    "            ])\n",
    "\n",
    "            # Perform initial aggregation by `xltime`\n",
    "            aggregated_df = (\n",
    "                merged_df\n",
    "                .group_by(\"xltime\")\n",
    "                .agg([\n",
    "                    ((pl.col(\"bid-price\") * pl.col(\"bid-volume\")).sum() / pl.col(\"bid-volume\").sum()).alias(\"weighted_bid_price\"),\n",
    "                    pl.col(\"bid-volume\").sum().alias(\"total_bid_quantity\"),\n",
    "                    pl.col(\"bid-volume\").max().alias(\"max_bid_quantity\"),\n",
    "                    ((pl.col(\"ask-price\") * pl.col(\"ask-volume\")).sum() / pl.col(\"ask-volume\").sum()).alias(\"weighted_ask_price\"),\n",
    "                    pl.col(\"ask-volume\").sum().alias(\"total_ask_quantity\"),\n",
    "                    pl.col(\"ask-volume\").max().alias(\"max_ask_quantity\"),\n",
    "                    pl.col(\"trade-volume\").sum().alias(\"total_trade_volume\"),\n",
    "                    ((pl.col(\"trade-price\") * pl.col(\"trade-volume\")).sum() / pl.col(\"trade-volume\").sum()).alias(\"weighted_trade_price\")\n",
    "                ])\n",
    "            )\n",
    "\n",
    "            # Convert `xltime` to `datetime`\n",
    "            excel_base_date = pl.datetime(1899, 12, 30)\n",
    "            aggregated_df = aggregated_df.with_columns(\n",
    "                (pl.col(\"xltime\") * pl.duration(days=1) + excel_base_date).alias(\"datetime\")\n",
    "            )\n",
    "            aggregated_df = aggregated_df.with_columns(pl.col(\"datetime\").dt.convert_time_zone(\"America/New_York\"))\n",
    "\n",
    "            # Append the lazy DataFrame for processing\n",
    "            lazy_dfs.append(aggregated_df)\n",
    "        else:\n",
    "            print(f\"Skipping unmatched files: {bbo_file}, {trade_file}\")\n",
    "\n",
    "    if lazy_dfs:\n",
    "        # Combine all daily lazy DataFrames into one\n",
    "        all_data = pl.concat(lazy_dfs)\n",
    "\n",
    "        # Collect and write to CSV\n",
    "        final_df = all_data.collect()\n",
    "        output_path = os.path.join(stock_dir, \"merged_data.csv\")\n",
    "        final_df.write_csv(output_path)\n",
    "        print(f\"Merged data saved as CSV for stock: {os.path.basename(stock_dir)}\")\n",
    "    else:\n",
    "        print(f\"No data to merge for stock: {os.path.basename(stock_dir)}\")\n",
    "\n",
    "\n",
    "\n",
    "def process_all_stocks_with_polars(base_dir):\n",
    "    \"\"\"Process all stocks in the base directory using Polars.\"\"\"\n",
    "    for stock in sorted(os.listdir(base_dir)):\n",
    "        stock_dir = os.path.join(base_dir, stock)\n",
    "        if os.path.isdir(stock_dir):\n",
    "            print(f\"Processing stock: {stock}\")\n",
    "            process_stock_with_polars(stock_dir)\n",
    "        else:\n",
    "            print(f\"Skipping non-directory item: {stock}\")\n",
    "\n",
    "# Example usage\n",
    "base_directory = \"/Users/othmaneio/Documents/financial_big_data/data\"  # Replace with the path to your stock directories\n",
    "process_all_stocks_with_polars(base_directory)\n"
   ]
  },
  {
   "cell_type": "code",
   "execution_count": 22,
   "metadata": {},
   "outputs": [],
   "source": [
    "import pandas as pd\n",
    "merged_AA_data = pd.read_csv(\"/Users/othmaneio/Documents/financial_big_data/data/Aa/merged_data.csv\")"
   ]
  },
  {
   "cell_type": "code",
   "execution_count": 23,
   "metadata": {},
   "outputs": [
    {
     "data": {
      "text/html": [
       "<div>\n",
       "<style scoped>\n",
       "    .dataframe tbody tr th:only-of-type {\n",
       "        vertical-align: middle;\n",
       "    }\n",
       "\n",
       "    .dataframe tbody tr th {\n",
       "        vertical-align: top;\n",
       "    }\n",
       "\n",
       "    .dataframe thead th {\n",
       "        text-align: right;\n",
       "    }\n",
       "</style>\n",
       "<table border=\"1\" class=\"dataframe\">\n",
       "  <thead>\n",
       "    <tr style=\"text-align: right;\">\n",
       "      <th></th>\n",
       "      <th>xltime</th>\n",
       "      <th>weighted_bid_price</th>\n",
       "      <th>total_bid_quantity</th>\n",
       "      <th>max_bid_quantity</th>\n",
       "      <th>weighted_ask_price</th>\n",
       "      <th>total_ask_quantity</th>\n",
       "      <th>max_ask_quantity</th>\n",
       "      <th>total_trade_volume</th>\n",
       "      <th>weighted_trade_price</th>\n",
       "      <th>datetime</th>\n",
       "    </tr>\n",
       "  </thead>\n",
       "  <tbody>\n",
       "    <tr>\n",
       "      <th>0</th>\n",
       "      <td>40301.452502</td>\n",
       "      <td>13.380000</td>\n",
       "      <td>18.0</td>\n",
       "      <td>18.0</td>\n",
       "      <td>13.470000</td>\n",
       "      <td>5.0</td>\n",
       "      <td>5.0</td>\n",
       "      <td>500.0</td>\n",
       "      <td>13.47</td>\n",
       "      <td>2010-05-03 06:51:36.193999-04:00</td>\n",
       "    </tr>\n",
       "    <tr>\n",
       "      <th>1</th>\n",
       "      <td>40301.500631</td>\n",
       "      <td>13.470000</td>\n",
       "      <td>24.0</td>\n",
       "      <td>5.0</td>\n",
       "      <td>13.500000</td>\n",
       "      <td>12.0</td>\n",
       "      <td>2.0</td>\n",
       "      <td>2000.0</td>\n",
       "      <td>13.47</td>\n",
       "      <td>2010-05-03 08:00:54.482000-04:00</td>\n",
       "    </tr>\n",
       "    <tr>\n",
       "      <th>2</th>\n",
       "      <td>40301.504844</td>\n",
       "      <td>13.470000</td>\n",
       "      <td>348.0</td>\n",
       "      <td>58.0</td>\n",
       "      <td>13.500000</td>\n",
       "      <td>141.0</td>\n",
       "      <td>25.0</td>\n",
       "      <td>2000.0</td>\n",
       "      <td>13.50</td>\n",
       "      <td>2010-05-03 08:06:58.480000-04:00</td>\n",
       "    </tr>\n",
       "    <tr>\n",
       "      <th>3</th>\n",
       "      <td>40301.506231</td>\n",
       "      <td>13.470000</td>\n",
       "      <td>23.0</td>\n",
       "      <td>23.0</td>\n",
       "      <td>13.500000</td>\n",
       "      <td>5.0</td>\n",
       "      <td>5.0</td>\n",
       "      <td>1300.0</td>\n",
       "      <td>13.50</td>\n",
       "      <td>2010-05-03 08:08:58.342000-04:00</td>\n",
       "    </tr>\n",
       "    <tr>\n",
       "      <th>4</th>\n",
       "      <td>40301.513778</td>\n",
       "      <td>13.499899</td>\n",
       "      <td>99.0</td>\n",
       "      <td>49.0</td>\n",
       "      <td>13.500000</td>\n",
       "      <td>17.0</td>\n",
       "      <td>6.0</td>\n",
       "      <td>300.0</td>\n",
       "      <td>13.50</td>\n",
       "      <td>2010-05-03 08:19:50.406000-04:00</td>\n",
       "    </tr>\n",
       "    <tr>\n",
       "      <th>...</th>\n",
       "      <td>...</td>\n",
       "      <td>...</td>\n",
       "      <td>...</td>\n",
       "      <td>...</td>\n",
       "      <td>...</td>\n",
       "      <td>...</td>\n",
       "      <td>...</td>\n",
       "      <td>...</td>\n",
       "      <td>...</td>\n",
       "      <td>...</td>\n",
       "    </tr>\n",
       "    <tr>\n",
       "      <th>327781</th>\n",
       "      <td>40326.929933</td>\n",
       "      <td>11.650000</td>\n",
       "      <td>40.0</td>\n",
       "      <td>20.0</td>\n",
       "      <td>11.720000</td>\n",
       "      <td>42.0</td>\n",
       "      <td>21.0</td>\n",
       "      <td>550.0</td>\n",
       "      <td>11.66</td>\n",
       "      <td>2010-05-28 18:19:06.177000-04:00</td>\n",
       "    </tr>\n",
       "    <tr>\n",
       "      <th>327782</th>\n",
       "      <td>40326.933082</td>\n",
       "      <td>11.636667</td>\n",
       "      <td>6.0</td>\n",
       "      <td>2.0</td>\n",
       "      <td>11.700000</td>\n",
       "      <td>8.0</td>\n",
       "      <td>2.0</td>\n",
       "      <td>1000.0</td>\n",
       "      <td>11.64</td>\n",
       "      <td>2010-05-28 18:23:38.292999-04:00</td>\n",
       "    </tr>\n",
       "    <tr>\n",
       "      <th>327783</th>\n",
       "      <td>40326.949947</td>\n",
       "      <td>11.600000</td>\n",
       "      <td>2.0</td>\n",
       "      <td>2.0</td>\n",
       "      <td>11.700000</td>\n",
       "      <td>3.0</td>\n",
       "      <td>3.0</td>\n",
       "      <td>100.0</td>\n",
       "      <td>11.63</td>\n",
       "      <td>2010-05-28 18:47:55.403000-04:00</td>\n",
       "    </tr>\n",
       "    <tr>\n",
       "      <th>327784</th>\n",
       "      <td>40326.990306</td>\n",
       "      <td>11.660000</td>\n",
       "      <td>15.0</td>\n",
       "      <td>9.0</td>\n",
       "      <td>11.700000</td>\n",
       "      <td>6.0</td>\n",
       "      <td>3.0</td>\n",
       "      <td>600.0</td>\n",
       "      <td>11.66</td>\n",
       "      <td>2010-05-28 19:46:02.480000-04:00</td>\n",
       "    </tr>\n",
       "    <tr>\n",
       "      <th>327785</th>\n",
       "      <td>40326.995208</td>\n",
       "      <td>11.670909</td>\n",
       "      <td>11.0</td>\n",
       "      <td>5.0</td>\n",
       "      <td>11.693333</td>\n",
       "      <td>3.0</td>\n",
       "      <td>1.0</td>\n",
       "      <td>300.0</td>\n",
       "      <td>11.68</td>\n",
       "      <td>2010-05-28 19:53:05.945000-04:00</td>\n",
       "    </tr>\n",
       "  </tbody>\n",
       "</table>\n",
       "<p>327786 rows × 10 columns</p>\n",
       "</div>"
      ],
      "text/plain": [
       "              xltime  weighted_bid_price  total_bid_quantity  \\\n",
       "0       40301.452502           13.380000                18.0   \n",
       "1       40301.500631           13.470000                24.0   \n",
       "2       40301.504844           13.470000               348.0   \n",
       "3       40301.506231           13.470000                23.0   \n",
       "4       40301.513778           13.499899                99.0   \n",
       "...              ...                 ...                 ...   \n",
       "327781  40326.929933           11.650000                40.0   \n",
       "327782  40326.933082           11.636667                 6.0   \n",
       "327783  40326.949947           11.600000                 2.0   \n",
       "327784  40326.990306           11.660000                15.0   \n",
       "327785  40326.995208           11.670909                11.0   \n",
       "\n",
       "        max_bid_quantity  weighted_ask_price  total_ask_quantity  \\\n",
       "0                   18.0           13.470000                 5.0   \n",
       "1                    5.0           13.500000                12.0   \n",
       "2                   58.0           13.500000               141.0   \n",
       "3                   23.0           13.500000                 5.0   \n",
       "4                   49.0           13.500000                17.0   \n",
       "...                  ...                 ...                 ...   \n",
       "327781              20.0           11.720000                42.0   \n",
       "327782               2.0           11.700000                 8.0   \n",
       "327783               2.0           11.700000                 3.0   \n",
       "327784               9.0           11.700000                 6.0   \n",
       "327785               5.0           11.693333                 3.0   \n",
       "\n",
       "        max_ask_quantity  total_trade_volume  weighted_trade_price  \\\n",
       "0                    5.0               500.0                 13.47   \n",
       "1                    2.0              2000.0                 13.47   \n",
       "2                   25.0              2000.0                 13.50   \n",
       "3                    5.0              1300.0                 13.50   \n",
       "4                    6.0               300.0                 13.50   \n",
       "...                  ...                 ...                   ...   \n",
       "327781              21.0               550.0                 11.66   \n",
       "327782               2.0              1000.0                 11.64   \n",
       "327783               3.0               100.0                 11.63   \n",
       "327784               3.0               600.0                 11.66   \n",
       "327785               1.0               300.0                 11.68   \n",
       "\n",
       "                                datetime  \n",
       "0       2010-05-03 06:51:36.193999-04:00  \n",
       "1       2010-05-03 08:00:54.482000-04:00  \n",
       "2       2010-05-03 08:06:58.480000-04:00  \n",
       "3       2010-05-03 08:08:58.342000-04:00  \n",
       "4       2010-05-03 08:19:50.406000-04:00  \n",
       "...                                  ...  \n",
       "327781  2010-05-28 18:19:06.177000-04:00  \n",
       "327782  2010-05-28 18:23:38.292999-04:00  \n",
       "327783  2010-05-28 18:47:55.403000-04:00  \n",
       "327784  2010-05-28 19:46:02.480000-04:00  \n",
       "327785  2010-05-28 19:53:05.945000-04:00  \n",
       "\n",
       "[327786 rows x 10 columns]"
      ]
     },
     "execution_count": 23,
     "metadata": {},
     "output_type": "execute_result"
    }
   ],
   "source": [
    "merged_AA_data"
   ]
  },
  {
   "cell_type": "code",
   "execution_count": 21,
   "metadata": {},
   "outputs": [
    {
     "name": "stdout",
     "output_type": "stream",
     "text": [
      "Sorted CSV saved for stock: A\n",
      "Sorted CSV saved for stock: AA\n",
      "Sorted CSV saved for stock: AAP\n",
      "Sorted CSV saved for stock: ABC\n",
      "Sorted CSV saved for stock: ABD\n",
      "Sorted CSV saved for stock: ABT\n",
      "Sorted CSV saved for stock: ACE\n",
      "Sorted CSV saved for stock: ACL\n",
      "Sorted CSV saved for stock: ACN\n",
      "Sorted CSV saved for stock: ADI\n",
      "Sorted CSV saved for stock: ADM\n",
      "Sorted CSV saved for stock: ADS\n",
      "Sorted CSV saved for stock: AEE\n",
      "Sorted CSV saved for stock: AEP\n",
      "Sorted CSV saved for stock: AES\n",
      "Sorted CSV saved for stock: AFL\n",
      "Sorted CSV saved for stock: AGN\n",
      "Sorted CSV saved for stock: AHC\n",
      "Sorted CSV saved for stock: AIG\n",
      "Sorted CSV saved for stock: AIV\n",
      "Sorted CSV saved for stock: AIZ\n",
      "Sorted CSV saved for stock: AJG\n",
      "Sorted CSV saved for stock: ALB\n",
      "Sorted CSV saved for stock: ALK\n",
      "Sorted CSV saved for stock: ALL\n",
      "Sorted CSV saved for stock: AMB\n",
      "Sorted CSV saved for stock: AMD\n",
      "Sorted CSV saved for stock: AME\n",
      "Sorted CSV saved for stock: AMP\n",
      "Sorted CSV saved for stock: AMR\n",
      "Sorted CSV saved for stock: AMT\n",
      "Sorted CSV saved for stock: AON\n",
      "Sorted CSV saved for stock: AOS\n",
      "Sorted CSV saved for stock: APA\n",
      "Sorted CSV saved for stock: APD\n",
      "Sorted CSV saved for stock: APH\n",
      "Sorted CSV saved for stock: ARE\n",
      "Sorted CSV saved for stock: ATO\n",
      "Sorted CSV saved for stock: AVB\n",
      "Sorted CSV saved for stock: AVY\n",
      "Sorted CSV saved for stock: AWK\n",
      "Sorted CSV saved for stock: AXP\n",
      "Sorted CSV saved for stock: AZO\n",
      "Sorted CSV saved for stock: BA\n",
      "Sorted CSV saved for stock: BAC\n",
      "Sorted CSV saved for stock: BAX\n",
      "Sorted CSV saved for stock: BBY\n",
      "Sorted CSV saved for stock: BDX\n",
      "Sorted CSV saved for stock: BEN\n",
      "Sorted CSV saved for stock: BFO\n",
      "Sorted CSV saved for stock: BH\n",
      "Sorted CSV saved for stock: BK\n",
      "Sorted CSV saved for stock: BKR\n",
      "Sorted CSV saved for stock: BLK\n",
      "Sorted CSV saved for stock: BLL\n",
      "Sorted CSV saved for stock: BMY\n",
      "Sorted CSV saved for stock: BR\n",
      "Sorted CSV saved for stock: BSX\n",
      "Sorted CSV saved for stock: BTM\n",
      "Sorted CSV saved for stock: BWA\n",
      "Sorted CSV saved for stock: BXP\n",
      "Sorted CSV saved for stock: C\n",
      "Sorted CSV saved for stock: CAG\n",
      "Sorted CSV saved for stock: CAH\n",
      "Sorted CSV saved for stock: CAT\n",
      "Sorted CSV saved for stock: CB\n",
      "Sorted CSV saved for stock: CBG\n",
      "Sorted CSV saved for stock: CCI\n",
      "Sorted CSV saved for stock: CCL\n",
      "Sorted CSV saved for stock: CE\n",
      "Sorted CSV saved for stock: CF\n",
      "Sorted CSV saved for stock: CHD\n",
      "Sorted CSV saved for stock: CHL\n",
      "Sorted CSV saved for stock: CHP\n",
      "Sorted CSV saved for stock: CI\n",
      "Sorted CSV saved for stock: CL\n",
      "Sorted CSV saved for stock: CLX\n",
      "Sorted CSV saved for stock: CMA\n",
      "Sorted CSV saved for stock: CMG\n",
      "Sorted CSV saved for stock: CMI\n",
      "Sorted CSV saved for stock: CMS\n",
      "Sorted CSV saved for stock: CMT\n",
      "Sorted CSV saved for stock: CNC\n",
      "Sorted CSV saved for stock: CNP\n",
      "Sorted CSV saved for stock: COF\n",
      "Sorted CSV saved for stock: COG\n",
      "Sorted CSV saved for stock: COH\n",
      "Sorted CSV saved for stock: COL\n",
      "Sorted CSV saved for stock: COO\n",
      "Sorted CSV saved for stock: COP\n",
      "Sorted CSV saved for stock: CPB\n",
      "Sorted CSV saved for stock: CPC\n",
      "Sorted CSV saved for stock: CRM\n",
      "Sorted CSV saved for stock: CSC\n",
      "Sorted CSV saved for stock: CSX\n",
      "Sorted CSV saved for stock: CTL\n",
      "Sorted CSV saved for stock: CVS\n",
      "Sorted CSV saved for stock: CVX\n",
      "Sorted CSV saved for stock: CXO\n",
      "Sorted CSV saved for stock: D\n",
      "Sorted CSV saved for stock: DAL\n",
      "Sorted CSV saved for stock: DD\n",
      "Sorted CSV saved for stock: DE\n",
      "Sorted CSV saved for stock: DFS\n",
      "Sorted CSV saved for stock: DG\n",
      "Sorted CSV saved for stock: DGX\n",
      "Sorted CSV saved for stock: DHI\n",
      "Sorted CSV saved for stock: DHR\n",
      "Sorted CSV saved for stock: DIS\n",
      "Sorted CSV saved for stock: DLR\n",
      "Sorted CSV saved for stock: DNB\n",
      "Sorted CSV saved for stock: DOV\n",
      "Sorted CSV saved for stock: DOW\n",
      "Sorted CSV saved for stock: DRE\n",
      "Sorted CSV saved for stock: DRI\n",
      "Sorted CSV saved for stock: DTE\n",
      "Sorted CSV saved for stock: DUK\n",
      "Sorted CSV saved for stock: DVA\n",
      "Sorted CSV saved for stock: DVN\n",
      "Sorted CSV saved for stock: E\n",
      "Sorted CSV saved for stock: ECL\n",
      "Sorted CSV saved for stock: ED\n",
      "Sorted CSV saved for stock: EFX\n",
      "Sorted CSV saved for stock: EIX\n",
      "Sorted CSV saved for stock: EL\n",
      "Sorted CSV saved for stock: EMN\n",
      "Sorted CSV saved for stock: EMR\n",
      "Sorted CSV saved for stock: EOG\n",
      "Sorted CSV saved for stock: EQR\n",
      "Sorted CSV saved for stock: ES\n",
      "Sorted CSV saved for stock: ESS\n",
      "Sorted CSV saved for stock: ESV\n",
      "Sorted CSV saved for stock: ETN\n"
     ]
    }
   ],
   "source": [
    "import pandas as pd\n",
    "import os\n",
    "\n",
    "def sort_csv_by_datetime(base_dir):\n",
    "    \"\"\"Sort each CSV file in the stock directories by datetime.\"\"\"\n",
    "    for stock in sorted(os.listdir(base_dir)):\n",
    "        stock_dir = os.path.join(base_dir, stock)\n",
    "        if os.path.isdir(stock_dir):\n",
    "            csv_path = os.path.join(stock_dir, \"merged_data.csv\")\n",
    "            if os.path.exists(csv_path):\n",
    "                try:\n",
    "                    # Load the CSV file\n",
    "                    df = pd.read_csv(csv_path)\n",
    "\n",
    "                    # Ensure datetime column is in proper datetime format\n",
    "                    df['datetime'] = pd.to_datetime(df['datetime'])\n",
    "\n",
    "                    # Sort by datetime\n",
    "                    df = df.sort_values(by='datetime')\n",
    "\n",
    "                    # Save the sorted CSV back\n",
    "                    df.to_csv(csv_path, index=False)\n",
    "                    print(f\"Sorted CSV saved for stock: {stock}\")\n",
    "                except Exception as e:\n",
    "                    print(f\"Error processing {csv_path}: {e}\")\n",
    "            else:\n",
    "                print(f\"No CSV found for stock: {stock}\")\n",
    "\n",
    "# Example usage\n",
    "base_directory = \"/Users/othmaneio/Documents/financial_big_data/data\"  # Replace with your path\n",
    "sort_csv_by_datetime(base_directory)\n"
   ]
  },
  {
   "cell_type": "code",
   "execution_count": 25,
   "metadata": {},
   "outputs": [
    {
     "name": "stdout",
     "output_type": "stream",
     "text": [
      "Renamed 'merged_data.csv' to 'merged_data_AHC.csv' in folder 'AHC'.\n",
      "Renamed 'merged_data.csv' to 'merged_data_AMR.csv' in folder 'AMR'.\n",
      "Renamed 'merged_data.csv' to 'merged_data_CNP.csv' in folder 'CNP'.\n",
      "Renamed 'merged_data.csv' to 'merged_data_CAT.csv' in folder 'CAT'.\n",
      "Renamed 'merged_data.csv' to 'merged_data_AAP.csv' in folder 'AAP'.\n",
      "Renamed 'merged_data.csv' to 'merged_data_AGN.csv' in folder 'AGN'.\n",
      "Renamed 'merged_data.csv' to 'merged_data_ADS.csv' in folder 'ADS'.\n",
      "Renamed 'merged_data.csv' to 'merged_data_CAH.csv' in folder 'CAH'.\n",
      "Renamed 'merged_data.csv' to 'merged_data_CBG.csv' in folder 'CBG'.\n",
      "Renamed 'merged_data.csv' to 'merged_data_ABD.csv' in folder 'ABD'.\n",
      "Renamed 'merged_data.csv' to 'merged_data_BTM.csv' in folder 'BTM'.\n",
      "Renamed 'merged_data.csv' to 'merged_data_ABC.csv' in folder 'ABC'.\n",
      "Renamed 'merged_data.csv' to 'merged_data_EMN.csv' in folder 'EMN'.\n",
      "Renamed 'merged_data.csv' to 'merged_data_AMT.csv' in folder 'AMT'.\n",
      "Renamed 'merged_data.csv' to 'merged_data_ADI.csv' in folder 'ADI'.\n",
      "Renamed 'merged_data.csv' to 'merged_data_DRE.csv' in folder 'DRE'.\n",
      "Renamed 'merged_data.csv' to 'merged_data_CAG.csv' in folder 'CAG'.\n",
      "Renamed 'merged_data.csv' to 'merged_data_CNC.csv' in folder 'CNC'.\n",
      "Renamed 'merged_data.csv' to 'merged_data_EMR.csv' in folder 'EMR'.\n",
      "Renamed 'merged_data.csv' to 'merged_data_DG.csv' in folder 'DG'.\n",
      "Renamed 'merged_data.csv' to 'merged_data_CVX.csv' in folder 'CVX'.\n",
      "Renamed 'merged_data.csv' to 'merged_data_DLR.csv' in folder 'DLR'.\n",
      "Renamed 'merged_data.csv' to 'merged_data_BK.csv' in folder 'BK'.\n",
      "Renamed 'merged_data.csv' to 'merged_data_BLL.csv' in folder 'BLL'.\n",
      "Renamed 'merged_data.csv' to 'merged_data_BLK.csv' in folder 'BLK'.\n",
      "Renamed 'merged_data.csv' to 'merged_data_DFS.csv' in folder 'DFS'.\n",
      "Renamed 'merged_data.csv' to 'merged_data_APD.csv' in folder 'APD'.\n",
      "Renamed 'merged_data.csv' to 'merged_data_ESV.csv' in folder 'ESV'.\n",
      "Renamed 'merged_data.csv' to 'merged_data_AWK.csv' in folder 'AWK'.\n",
      "Renamed 'merged_data.csv' to 'merged_data_CI.csv' in folder 'CI'.\n",
      "Renamed 'merged_data.csv' to 'merged_data_EL.csv' in folder 'EL'.\n",
      "Renamed 'merged_data.csv' to 'merged_data_BAC.csv' in folder 'BAC'.\n",
      "Renamed 'merged_data.csv' to 'merged_data_CF.csv' in folder 'CF'.\n",
      "Renamed 'merged_data.csv' to 'merged_data_DHI.csv' in folder 'DHI'.\n",
      "Renamed 'merged_data.csv' to 'merged_data_BBY.csv' in folder 'BBY'.\n",
      "Renamed 'merged_data.csv' to 'merged_data_DNB.csv' in folder 'DNB'.\n",
      "Renamed 'merged_data.csv' to 'merged_data_DGX.csv' in folder 'DGX'.\n",
      "Renamed 'merged_data.csv' to 'merged_data_CRM.csv' in folder 'CRM'.\n",
      "Renamed 'merged_data.csv' to 'merged_data_EQR.csv' in folder 'EQR'.\n",
      "Renamed 'merged_data.csv' to 'merged_data_ED.csv' in folder 'ED'.\n",
      "Renamed 'merged_data.csv' to 'merged_data_BAX.csv' in folder 'BAX'.\n",
      "Renamed 'merged_data.csv' to 'merged_data_DHR.csv' in folder 'DHR'.\n",
      "Renamed 'merged_data.csv' to 'merged_data_ALB.csv' in folder 'ALB'.\n",
      "Renamed 'merged_data.csv' to 'merged_data_COG.csv' in folder 'COG'.\n",
      "Renamed 'merged_data.csv' to 'merged_data_CCL.csv' in folder 'CCL'.\n",
      "Renamed 'merged_data.csv' to 'merged_data_AIZ.csv' in folder 'AIZ'.\n",
      "Renamed 'merged_data.csv' to 'merged_data_ALL.csv' in folder 'ALL'.\n",
      "Renamed 'merged_data.csv' to 'merged_data_BSX.csv' in folder 'BSX'.\n",
      "Renamed 'merged_data.csv' to 'merged_data_ALK.csv' in folder 'ALK'.\n",
      "Renamed 'merged_data.csv' to 'merged_data_AFL.csv' in folder 'AFL'.\n",
      "Renamed 'merged_data.csv' to 'merged_data_AJG.csv' in folder 'AJG'.\n",
      "Renamed 'merged_data.csv' to 'merged_data_EFX.csv' in folder 'EFX'.\n",
      "Renamed 'merged_data.csv' to 'merged_data_ACN.csv' in folder 'ACN'.\n",
      "Renamed 'merged_data.csv' to 'merged_data_COH.csv' in folder 'COH'.\n",
      "Renamed 'merged_data.csv' to 'merged_data_COO.csv' in folder 'COO'.\n",
      "Renamed 'merged_data.csv' to 'merged_data_AEP.csv' in folder 'AEP'.\n",
      "Renamed 'merged_data.csv' to 'merged_data_COF.csv' in folder 'COF'.\n",
      "Renamed 'merged_data.csv' to 'merged_data_DUK.csv' in folder 'DUK'.\n",
      "Renamed 'merged_data.csv' to 'merged_data_A.csv' in folder 'A'.\n",
      "Renamed 'merged_data.csv' to 'merged_data_AIG.csv' in folder 'AIG'.\n",
      "Renamed 'merged_data.csv' to 'merged_data_AEE.csv' in folder 'AEE'.\n",
      "Renamed 'merged_data.csv' to 'merged_data_DRI.csv' in folder 'DRI'.\n",
      "Renamed 'merged_data.csv' to 'merged_data_CMG.csv' in folder 'CMG'.\n",
      "Renamed 'merged_data.csv' to 'merged_data_CMI.csv' in folder 'CMI'.\n",
      "Renamed 'merged_data.csv' to 'merged_data_AMD.csv' in folder 'AMD'.\n",
      "Renamed 'merged_data.csv' to 'merged_data_BWA.csv' in folder 'BWA'.\n",
      "Renamed 'merged_data.csv' to 'merged_data_BXP.csv' in folder 'BXP'.\n",
      "Renamed 'merged_data.csv' to 'merged_data_CHD.csv' in folder 'CHD'.\n",
      "Renamed 'merged_data.csv' to 'merged_data_DTE.csv' in folder 'DTE'.\n",
      "Renamed 'merged_data.csv' to 'merged_data_AMB.csv' in folder 'AMB'.\n",
      "Renamed 'merged_data.csv' to 'merged_data_AME.csv' in folder 'AME'.\n",
      "Renamed 'merged_data.csv' to 'merged_data_CMA.csv' in folder 'CMA'.\n",
      "Renamed 'merged_data.csv' to 'merged_data_CHP.csv' in folder 'CHP'.\n",
      "Renamed 'merged_data.csv' to 'merged_data_CMT.csv' in folder 'CMT'.\n",
      "Renamed 'merged_data.csv' to 'merged_data_CMS.csv' in folder 'CMS'.\n",
      "Renamed 'merged_data.csv' to 'merged_data_CHL.csv' in folder 'CHL'.\n",
      "Renamed 'merged_data.csv' to 'merged_data_ABT.csv' in folder 'ABT'.\n",
      "Renamed 'merged_data.csv' to 'merged_data_ADM.csv' in folder 'ADM'.\n",
      "Renamed 'merged_data.csv' to 'merged_data_AMP.csv' in folder 'AMP'.\n",
      "Renamed 'merged_data.csv' to 'merged_data_BH.csv' in folder 'BH'.\n",
      "Renamed 'merged_data.csv' to 'merged_data_CSX.csv' in folder 'CSX'.\n",
      "Renamed 'merged_data.csv' to 'merged_data_AZO.csv' in folder 'AZO'.\n",
      "Renamed 'merged_data.csv' to 'merged_data_DOW.csv' in folder 'DOW'.\n",
      "Renamed 'merged_data.csv' to 'merged_data_BA.csv' in folder 'BA'.\n",
      "Renamed 'merged_data.csv' to 'merged_data_CSC.csv' in folder 'CSC'.\n",
      "Renamed 'merged_data.csv' to 'merged_data_APA.csv' in folder 'APA'.\n",
      "Renamed 'merged_data.csv' to 'merged_data_ESS.csv' in folder 'ESS'.\n",
      "Renamed 'merged_data.csv' to 'merged_data_BFO.csv' in folder 'BFO'.\n",
      "Renamed 'merged_data.csv' to 'merged_data_DD.csv' in folder 'DD'.\n",
      "Renamed 'merged_data.csv' to 'merged_data_CPB.csv' in folder 'CPB'.\n",
      "Renamed 'merged_data.csv' to 'merged_data_BEN.csv' in folder 'BEN'.\n",
      "Renamed 'merged_data.csv' to 'merged_data_APH.csv' in folder 'APH'.\n",
      "Renamed 'merged_data.csv' to 'merged_data_DOV.csv' in folder 'DOV'.\n",
      "Renamed 'merged_data.csv' to 'merged_data_AA.csv' in folder 'AA'.\n",
      "Renamed 'merged_data.csv' to 'merged_data_AVB.csv' in folder 'AVB'.\n",
      "Renamed 'merged_data.csv' to 'merged_data_DIS.csv' in folder 'DIS'.\n",
      "Renamed 'merged_data.csv' to 'merged_data_CPC.csv' in folder 'CPC'.\n",
      "Renamed 'merged_data.csv' to 'merged_data_DE.csv' in folder 'DE'.\n",
      "Renamed 'merged_data.csv' to 'merged_data_CVS.csv' in folder 'CVS'.\n",
      "Renamed 'merged_data.csv' to 'merged_data_AVY.csv' in folder 'AVY'.\n",
      "Renamed 'merged_data.csv' to 'merged_data_BR.csv' in folder 'BR'.\n",
      "Renamed 'merged_data.csv' to 'merged_data_AXP.csv' in folder 'AXP'.\n",
      "Renamed 'merged_data.csv' to 'merged_data_ARE.csv' in folder 'ARE'.\n",
      "Renamed 'merged_data.csv' to 'merged_data_ES.csv' in folder 'ES'.\n",
      "Renamed 'merged_data.csv' to 'merged_data_CXO.csv' in folder 'CXO'.\n",
      "Renamed 'merged_data.csv' to 'merged_data_ETN.csv' in folder 'ETN'.\n",
      "Renamed 'merged_data.csv' to 'merged_data_BMY.csv' in folder 'BMY'.\n",
      "Renamed 'merged_data.csv' to 'merged_data_DAL.csv' in folder 'DAL'.\n",
      "Renamed 'merged_data.csv' to 'merged_data_CL.csv' in folder 'CL'.\n",
      "Renamed 'merged_data.csv' to 'merged_data_BDX.csv' in folder 'BDX'.\n",
      "Renamed 'merged_data.csv' to 'merged_data_ATO.csv' in folder 'ATO'.\n",
      "Renamed 'merged_data.csv' to 'merged_data_CB.csv' in folder 'CB'.\n",
      "Renamed 'merged_data.csv' to 'merged_data_CE.csv' in folder 'CE'.\n",
      "Renamed 'merged_data.csv' to 'merged_data_BKR.csv' in folder 'BKR'.\n",
      "Renamed 'merged_data.csv' to 'merged_data_CTL.csv' in folder 'CTL'.\n",
      "Renamed 'merged_data.csv' to 'merged_data_EIX.csv' in folder 'EIX'.\n",
      "Renamed 'merged_data.csv' to 'merged_data_C.csv' in folder 'C'.\n",
      "Renamed 'merged_data.csv' to 'merged_data_D.csv' in folder 'D'.\n",
      "Renamed 'merged_data.csv' to 'merged_data_DVA.csv' in folder 'DVA'.\n",
      "Renamed 'merged_data.csv' to 'merged_data_ACE.csv' in folder 'ACE'.\n",
      "Renamed 'merged_data.csv' to 'merged_data_AON.csv' in folder 'AON'.\n",
      "Renamed 'merged_data.csv' to 'merged_data_ACL.csv' in folder 'ACL'.\n",
      "Renamed 'merged_data.csv' to 'merged_data_ECL.csv' in folder 'ECL'.\n",
      "Renamed 'merged_data.csv' to 'merged_data_EOG.csv' in folder 'EOG'.\n",
      "Renamed 'merged_data.csv' to 'merged_data_CLX.csv' in folder 'CLX'.\n",
      "Renamed 'merged_data.csv' to 'merged_data_E.csv' in folder 'E'.\n",
      "Renamed 'merged_data.csv' to 'merged_data_COP.csv' in folder 'COP'.\n",
      "Renamed 'merged_data.csv' to 'merged_data_DVN.csv' in folder 'DVN'.\n",
      "Renamed 'merged_data.csv' to 'merged_data_AOS.csv' in folder 'AOS'.\n",
      "Renamed 'merged_data.csv' to 'merged_data_COL.csv' in folder 'COL'.\n",
      "Renamed 'merged_data.csv' to 'merged_data_AES.csv' in folder 'AES'.\n",
      "Renamed 'merged_data.csv' to 'merged_data_CCI.csv' in folder 'CCI'.\n",
      "Renamed 'merged_data.csv' to 'merged_data_AIV.csv' in folder 'AIV'.\n"
     ]
    }
   ],
   "source": [
    "import os\n",
    "\n",
    "# Define the parent directory where the folder resides\n",
    "root_dir = \"/Users/othmaneio/Documents/financial_big_data/data\"\n",
    "\n",
    "# Traverse through all subdirectories\n",
    "for subdir, _, files in os.walk(root_dir):\n",
    "    for file in files:\n",
    "        if file == \"merged_data.csv\":  # Target only 'merged_data.csv'\n",
    "            folder_name = os.path.basename(subdir)  # Get the parent folder name\n",
    "            old_file_path = os.path.join(subdir, file)\n",
    "            new_file_name = f\"merged_data_{folder_name}.csv\"  # Add folder name to the file\n",
    "            new_file_path = os.path.join(subdir, new_file_name)\n",
    "\n",
    "            # Rename the file\n",
    "            try:\n",
    "                os.rename(old_file_path, new_file_path)\n",
    "                print(f\"Renamed '{file}' to '{new_file_name}' in folder '{folder_name}'.\")\n",
    "            except Exception as e:\n",
    "                print(f\"Error renaming file in folder '{folder_name}': {e}\")\n"
   ]
  },
  {
   "cell_type": "code",
   "execution_count": 26,
   "metadata": {},
   "outputs": [],
   "source": [
    "merged_AA_data= pd.read_csv('data/AA/merged_data_AA.csv')"
   ]
  },
  {
   "cell_type": "code",
   "execution_count": 27,
   "metadata": {},
   "outputs": [
    {
     "data": {
      "text/html": [
       "<div>\n",
       "<style scoped>\n",
       "    .dataframe tbody tr th:only-of-type {\n",
       "        vertical-align: middle;\n",
       "    }\n",
       "\n",
       "    .dataframe tbody tr th {\n",
       "        vertical-align: top;\n",
       "    }\n",
       "\n",
       "    .dataframe thead th {\n",
       "        text-align: right;\n",
       "    }\n",
       "</style>\n",
       "<table border=\"1\" class=\"dataframe\">\n",
       "  <thead>\n",
       "    <tr style=\"text-align: right;\">\n",
       "      <th></th>\n",
       "      <th>xltime</th>\n",
       "      <th>weighted_bid_price</th>\n",
       "      <th>total_bid_quantity</th>\n",
       "      <th>max_bid_quantity</th>\n",
       "      <th>weighted_ask_price</th>\n",
       "      <th>total_ask_quantity</th>\n",
       "      <th>max_ask_quantity</th>\n",
       "      <th>total_trade_volume</th>\n",
       "      <th>weighted_trade_price</th>\n",
       "      <th>datetime</th>\n",
       "    </tr>\n",
       "  </thead>\n",
       "  <tbody>\n",
       "    <tr>\n",
       "      <th>0</th>\n",
       "      <td>40301.452502</td>\n",
       "      <td>13.380000</td>\n",
       "      <td>18.0</td>\n",
       "      <td>18.0</td>\n",
       "      <td>13.470000</td>\n",
       "      <td>5.0</td>\n",
       "      <td>5.0</td>\n",
       "      <td>500.0</td>\n",
       "      <td>13.47</td>\n",
       "      <td>2010-05-03 06:51:36.193999-04:00</td>\n",
       "    </tr>\n",
       "    <tr>\n",
       "      <th>1</th>\n",
       "      <td>40301.500631</td>\n",
       "      <td>13.470000</td>\n",
       "      <td>24.0</td>\n",
       "      <td>5.0</td>\n",
       "      <td>13.500000</td>\n",
       "      <td>12.0</td>\n",
       "      <td>2.0</td>\n",
       "      <td>2000.0</td>\n",
       "      <td>13.47</td>\n",
       "      <td>2010-05-03 08:00:54.482000-04:00</td>\n",
       "    </tr>\n",
       "    <tr>\n",
       "      <th>2</th>\n",
       "      <td>40301.504844</td>\n",
       "      <td>13.470000</td>\n",
       "      <td>348.0</td>\n",
       "      <td>58.0</td>\n",
       "      <td>13.500000</td>\n",
       "      <td>141.0</td>\n",
       "      <td>25.0</td>\n",
       "      <td>2000.0</td>\n",
       "      <td>13.50</td>\n",
       "      <td>2010-05-03 08:06:58.480000-04:00</td>\n",
       "    </tr>\n",
       "    <tr>\n",
       "      <th>3</th>\n",
       "      <td>40301.506231</td>\n",
       "      <td>13.470000</td>\n",
       "      <td>23.0</td>\n",
       "      <td>23.0</td>\n",
       "      <td>13.500000</td>\n",
       "      <td>5.0</td>\n",
       "      <td>5.0</td>\n",
       "      <td>1300.0</td>\n",
       "      <td>13.50</td>\n",
       "      <td>2010-05-03 08:08:58.342000-04:00</td>\n",
       "    </tr>\n",
       "    <tr>\n",
       "      <th>4</th>\n",
       "      <td>40301.513778</td>\n",
       "      <td>13.499899</td>\n",
       "      <td>99.0</td>\n",
       "      <td>49.0</td>\n",
       "      <td>13.500000</td>\n",
       "      <td>17.0</td>\n",
       "      <td>6.0</td>\n",
       "      <td>300.0</td>\n",
       "      <td>13.50</td>\n",
       "      <td>2010-05-03 08:19:50.406000-04:00</td>\n",
       "    </tr>\n",
       "    <tr>\n",
       "      <th>...</th>\n",
       "      <td>...</td>\n",
       "      <td>...</td>\n",
       "      <td>...</td>\n",
       "      <td>...</td>\n",
       "      <td>...</td>\n",
       "      <td>...</td>\n",
       "      <td>...</td>\n",
       "      <td>...</td>\n",
       "      <td>...</td>\n",
       "      <td>...</td>\n",
       "    </tr>\n",
       "    <tr>\n",
       "      <th>327781</th>\n",
       "      <td>40326.929933</td>\n",
       "      <td>11.650000</td>\n",
       "      <td>40.0</td>\n",
       "      <td>20.0</td>\n",
       "      <td>11.720000</td>\n",
       "      <td>42.0</td>\n",
       "      <td>21.0</td>\n",
       "      <td>550.0</td>\n",
       "      <td>11.66</td>\n",
       "      <td>2010-05-28 18:19:06.177000-04:00</td>\n",
       "    </tr>\n",
       "    <tr>\n",
       "      <th>327782</th>\n",
       "      <td>40326.933082</td>\n",
       "      <td>11.636667</td>\n",
       "      <td>6.0</td>\n",
       "      <td>2.0</td>\n",
       "      <td>11.700000</td>\n",
       "      <td>8.0</td>\n",
       "      <td>2.0</td>\n",
       "      <td>1000.0</td>\n",
       "      <td>11.64</td>\n",
       "      <td>2010-05-28 18:23:38.292999-04:00</td>\n",
       "    </tr>\n",
       "    <tr>\n",
       "      <th>327783</th>\n",
       "      <td>40326.949947</td>\n",
       "      <td>11.600000</td>\n",
       "      <td>2.0</td>\n",
       "      <td>2.0</td>\n",
       "      <td>11.700000</td>\n",
       "      <td>3.0</td>\n",
       "      <td>3.0</td>\n",
       "      <td>100.0</td>\n",
       "      <td>11.63</td>\n",
       "      <td>2010-05-28 18:47:55.403000-04:00</td>\n",
       "    </tr>\n",
       "    <tr>\n",
       "      <th>327784</th>\n",
       "      <td>40326.990306</td>\n",
       "      <td>11.660000</td>\n",
       "      <td>15.0</td>\n",
       "      <td>9.0</td>\n",
       "      <td>11.700000</td>\n",
       "      <td>6.0</td>\n",
       "      <td>3.0</td>\n",
       "      <td>600.0</td>\n",
       "      <td>11.66</td>\n",
       "      <td>2010-05-28 19:46:02.480000-04:00</td>\n",
       "    </tr>\n",
       "    <tr>\n",
       "      <th>327785</th>\n",
       "      <td>40326.995208</td>\n",
       "      <td>11.670909</td>\n",
       "      <td>11.0</td>\n",
       "      <td>5.0</td>\n",
       "      <td>11.693333</td>\n",
       "      <td>3.0</td>\n",
       "      <td>1.0</td>\n",
       "      <td>300.0</td>\n",
       "      <td>11.68</td>\n",
       "      <td>2010-05-28 19:53:05.945000-04:00</td>\n",
       "    </tr>\n",
       "  </tbody>\n",
       "</table>\n",
       "<p>327786 rows × 10 columns</p>\n",
       "</div>"
      ],
      "text/plain": [
       "              xltime  weighted_bid_price  total_bid_quantity  \\\n",
       "0       40301.452502           13.380000                18.0   \n",
       "1       40301.500631           13.470000                24.0   \n",
       "2       40301.504844           13.470000               348.0   \n",
       "3       40301.506231           13.470000                23.0   \n",
       "4       40301.513778           13.499899                99.0   \n",
       "...              ...                 ...                 ...   \n",
       "327781  40326.929933           11.650000                40.0   \n",
       "327782  40326.933082           11.636667                 6.0   \n",
       "327783  40326.949947           11.600000                 2.0   \n",
       "327784  40326.990306           11.660000                15.0   \n",
       "327785  40326.995208           11.670909                11.0   \n",
       "\n",
       "        max_bid_quantity  weighted_ask_price  total_ask_quantity  \\\n",
       "0                   18.0           13.470000                 5.0   \n",
       "1                    5.0           13.500000                12.0   \n",
       "2                   58.0           13.500000               141.0   \n",
       "3                   23.0           13.500000                 5.0   \n",
       "4                   49.0           13.500000                17.0   \n",
       "...                  ...                 ...                 ...   \n",
       "327781              20.0           11.720000                42.0   \n",
       "327782               2.0           11.700000                 8.0   \n",
       "327783               2.0           11.700000                 3.0   \n",
       "327784               9.0           11.700000                 6.0   \n",
       "327785               5.0           11.693333                 3.0   \n",
       "\n",
       "        max_ask_quantity  total_trade_volume  weighted_trade_price  \\\n",
       "0                    5.0               500.0                 13.47   \n",
       "1                    2.0              2000.0                 13.47   \n",
       "2                   25.0              2000.0                 13.50   \n",
       "3                    5.0              1300.0                 13.50   \n",
       "4                    6.0               300.0                 13.50   \n",
       "...                  ...                 ...                   ...   \n",
       "327781              21.0               550.0                 11.66   \n",
       "327782               2.0              1000.0                 11.64   \n",
       "327783               3.0               100.0                 11.63   \n",
       "327784               3.0               600.0                 11.66   \n",
       "327785               1.0               300.0                 11.68   \n",
       "\n",
       "                                datetime  \n",
       "0       2010-05-03 06:51:36.193999-04:00  \n",
       "1       2010-05-03 08:00:54.482000-04:00  \n",
       "2       2010-05-03 08:06:58.480000-04:00  \n",
       "3       2010-05-03 08:08:58.342000-04:00  \n",
       "4       2010-05-03 08:19:50.406000-04:00  \n",
       "...                                  ...  \n",
       "327781  2010-05-28 18:19:06.177000-04:00  \n",
       "327782  2010-05-28 18:23:38.292999-04:00  \n",
       "327783  2010-05-28 18:47:55.403000-04:00  \n",
       "327784  2010-05-28 19:46:02.480000-04:00  \n",
       "327785  2010-05-28 19:53:05.945000-04:00  \n",
       "\n",
       "[327786 rows x 10 columns]"
      ]
     },
     "execution_count": 27,
     "metadata": {},
     "output_type": "execute_result"
    }
   ],
   "source": [
    "merged_AA_data"
   ]
  },
  {
   "cell_type": "code",
   "execution_count": 39,
   "metadata": {},
   "outputs": [
    {
     "data": {
      "text/plain": [
       "{'mean_delta_time': 3.061276882358509,\n",
       " 'min_delta_time': 0.000999,\n",
       " 'quantiles': {0.01: 0.001,\n",
       "  0.05: 0.005,\n",
       "  0.25: 0.013001,\n",
       "  0.5: 0.063999,\n",
       "  0.75: 0.933,\n",
       "  0.95: 8.6620002,\n",
       "  0.99: 28.445439279999945},\n",
       " 'max_delta_time': 11920.849}"
      ]
     },
     "execution_count": 39,
     "metadata": {},
     "output_type": "execute_result"
    }
   ],
   "source": [
    "# Ensure 'datetime' is properly converted to datetime format\n",
    "df = merged_AA_data.copy()\n",
    "df['datetime'] = pd.to_datetime(df['datetime'], errors='coerce')\n",
    "\n",
    "\n",
    "\n",
    "# Calculate delta time only for rows on the same day\n",
    "df['date'] = df['datetime'].dt.date  # Extract the date\n",
    "df['delta_time'] = df.groupby('date')['datetime'].diff().dt.total_seconds()\n",
    "\n",
    "# Compute statistics for delta times within the same day\n",
    "mean_delta_time = df['delta_time'].mean()\n",
    "min_delta_time = df['delta_time'].min()\n",
    "quantiles = df['delta_time'].quantile([0.01,0.05,0.25, 0.5, 0.75, 0.95, 0.99]).to_dict()\n",
    "max_delta_time = df['delta_time'].max()\n",
    "\n",
    "{\n",
    "    \"mean_delta_time\": mean_delta_time,\n",
    "    \"min_delta_time\": min_delta_time,\n",
    "    \"quantiles\": quantiles,\n",
    "    \"max_delta_time\": max_delta_time\n",
    "}\n"
   ]
  },
  {
   "cell_type": "code",
   "execution_count": 34,
   "metadata": {},
   "outputs": [
    {
     "data": {
      "text/html": [
       "<div>\n",
       "<style scoped>\n",
       "    .dataframe tbody tr th:only-of-type {\n",
       "        vertical-align: middle;\n",
       "    }\n",
       "\n",
       "    .dataframe tbody tr th {\n",
       "        vertical-align: top;\n",
       "    }\n",
       "\n",
       "    .dataframe thead th {\n",
       "        text-align: right;\n",
       "    }\n",
       "</style>\n",
       "<table border=\"1\" class=\"dataframe\">\n",
       "  <thead>\n",
       "    <tr style=\"text-align: right;\">\n",
       "      <th></th>\n",
       "      <th>xltime</th>\n",
       "      <th>weighted_bid_price</th>\n",
       "      <th>total_bid_quantity</th>\n",
       "      <th>max_bid_quantity</th>\n",
       "      <th>weighted_ask_price</th>\n",
       "      <th>total_ask_quantity</th>\n",
       "      <th>max_ask_quantity</th>\n",
       "      <th>total_trade_volume</th>\n",
       "      <th>weighted_trade_price</th>\n",
       "      <th>datetime</th>\n",
       "    </tr>\n",
       "  </thead>\n",
       "  <tbody>\n",
       "    <tr>\n",
       "      <th>0</th>\n",
       "      <td>40301.452502</td>\n",
       "      <td>13.380000</td>\n",
       "      <td>18.0</td>\n",
       "      <td>18.0</td>\n",
       "      <td>13.470000</td>\n",
       "      <td>5.0</td>\n",
       "      <td>5.0</td>\n",
       "      <td>500.0</td>\n",
       "      <td>13.47</td>\n",
       "      <td>2010-05-03 06:51:36-04:00</td>\n",
       "    </tr>\n",
       "    <tr>\n",
       "      <th>1</th>\n",
       "      <td>40301.500631</td>\n",
       "      <td>13.470000</td>\n",
       "      <td>24.0</td>\n",
       "      <td>5.0</td>\n",
       "      <td>13.500000</td>\n",
       "      <td>12.0</td>\n",
       "      <td>2.0</td>\n",
       "      <td>2000.0</td>\n",
       "      <td>13.47</td>\n",
       "      <td>2010-05-03 08:00:54-04:00</td>\n",
       "    </tr>\n",
       "    <tr>\n",
       "      <th>2</th>\n",
       "      <td>40301.504844</td>\n",
       "      <td>13.470000</td>\n",
       "      <td>348.0</td>\n",
       "      <td>58.0</td>\n",
       "      <td>13.500000</td>\n",
       "      <td>141.0</td>\n",
       "      <td>25.0</td>\n",
       "      <td>2000.0</td>\n",
       "      <td>13.50</td>\n",
       "      <td>2010-05-03 08:06:58-04:00</td>\n",
       "    </tr>\n",
       "    <tr>\n",
       "      <th>3</th>\n",
       "      <td>40301.506231</td>\n",
       "      <td>13.470000</td>\n",
       "      <td>23.0</td>\n",
       "      <td>23.0</td>\n",
       "      <td>13.500000</td>\n",
       "      <td>5.0</td>\n",
       "      <td>5.0</td>\n",
       "      <td>1300.0</td>\n",
       "      <td>13.50</td>\n",
       "      <td>2010-05-03 08:08:58-04:00</td>\n",
       "    </tr>\n",
       "    <tr>\n",
       "      <th>4</th>\n",
       "      <td>40301.513778</td>\n",
       "      <td>13.499899</td>\n",
       "      <td>99.0</td>\n",
       "      <td>49.0</td>\n",
       "      <td>13.500000</td>\n",
       "      <td>17.0</td>\n",
       "      <td>6.0</td>\n",
       "      <td>300.0</td>\n",
       "      <td>13.50</td>\n",
       "      <td>2010-05-03 08:19:50-04:00</td>\n",
       "    </tr>\n",
       "    <tr>\n",
       "      <th>...</th>\n",
       "      <td>...</td>\n",
       "      <td>...</td>\n",
       "      <td>...</td>\n",
       "      <td>...</td>\n",
       "      <td>...</td>\n",
       "      <td>...</td>\n",
       "      <td>...</td>\n",
       "      <td>...</td>\n",
       "      <td>...</td>\n",
       "      <td>...</td>\n",
       "    </tr>\n",
       "    <tr>\n",
       "      <th>327781</th>\n",
       "      <td>40326.929933</td>\n",
       "      <td>11.650000</td>\n",
       "      <td>40.0</td>\n",
       "      <td>20.0</td>\n",
       "      <td>11.720000</td>\n",
       "      <td>42.0</td>\n",
       "      <td>21.0</td>\n",
       "      <td>550.0</td>\n",
       "      <td>11.66</td>\n",
       "      <td>2010-05-28 18:19:06-04:00</td>\n",
       "    </tr>\n",
       "    <tr>\n",
       "      <th>327782</th>\n",
       "      <td>40326.933082</td>\n",
       "      <td>11.636667</td>\n",
       "      <td>6.0</td>\n",
       "      <td>2.0</td>\n",
       "      <td>11.700000</td>\n",
       "      <td>8.0</td>\n",
       "      <td>2.0</td>\n",
       "      <td>1000.0</td>\n",
       "      <td>11.64</td>\n",
       "      <td>2010-05-28 18:23:38-04:00</td>\n",
       "    </tr>\n",
       "    <tr>\n",
       "      <th>327783</th>\n",
       "      <td>40326.949947</td>\n",
       "      <td>11.600000</td>\n",
       "      <td>2.0</td>\n",
       "      <td>2.0</td>\n",
       "      <td>11.700000</td>\n",
       "      <td>3.0</td>\n",
       "      <td>3.0</td>\n",
       "      <td>100.0</td>\n",
       "      <td>11.63</td>\n",
       "      <td>2010-05-28 18:47:55-04:00</td>\n",
       "    </tr>\n",
       "    <tr>\n",
       "      <th>327784</th>\n",
       "      <td>40326.990306</td>\n",
       "      <td>11.660000</td>\n",
       "      <td>15.0</td>\n",
       "      <td>9.0</td>\n",
       "      <td>11.700000</td>\n",
       "      <td>6.0</td>\n",
       "      <td>3.0</td>\n",
       "      <td>600.0</td>\n",
       "      <td>11.66</td>\n",
       "      <td>2010-05-28 19:46:02-04:00</td>\n",
       "    </tr>\n",
       "    <tr>\n",
       "      <th>327785</th>\n",
       "      <td>40326.995208</td>\n",
       "      <td>11.670909</td>\n",
       "      <td>11.0</td>\n",
       "      <td>5.0</td>\n",
       "      <td>11.693333</td>\n",
       "      <td>3.0</td>\n",
       "      <td>1.0</td>\n",
       "      <td>300.0</td>\n",
       "      <td>11.68</td>\n",
       "      <td>2010-05-28 19:53:05-04:00</td>\n",
       "    </tr>\n",
       "  </tbody>\n",
       "</table>\n",
       "<p>327786 rows × 10 columns</p>\n",
       "</div>"
      ],
      "text/plain": [
       "              xltime  weighted_bid_price  total_bid_quantity  \\\n",
       "0       40301.452502           13.380000                18.0   \n",
       "1       40301.500631           13.470000                24.0   \n",
       "2       40301.504844           13.470000               348.0   \n",
       "3       40301.506231           13.470000                23.0   \n",
       "4       40301.513778           13.499899                99.0   \n",
       "...              ...                 ...                 ...   \n",
       "327781  40326.929933           11.650000                40.0   \n",
       "327782  40326.933082           11.636667                 6.0   \n",
       "327783  40326.949947           11.600000                 2.0   \n",
       "327784  40326.990306           11.660000                15.0   \n",
       "327785  40326.995208           11.670909                11.0   \n",
       "\n",
       "        max_bid_quantity  weighted_ask_price  total_ask_quantity  \\\n",
       "0                   18.0           13.470000                 5.0   \n",
       "1                    5.0           13.500000                12.0   \n",
       "2                   58.0           13.500000               141.0   \n",
       "3                   23.0           13.500000                 5.0   \n",
       "4                   49.0           13.500000                17.0   \n",
       "...                  ...                 ...                 ...   \n",
       "327781              20.0           11.720000                42.0   \n",
       "327782               2.0           11.700000                 8.0   \n",
       "327783               2.0           11.700000                 3.0   \n",
       "327784               9.0           11.700000                 6.0   \n",
       "327785               5.0           11.693333                 3.0   \n",
       "\n",
       "        max_ask_quantity  total_trade_volume  weighted_trade_price  \\\n",
       "0                    5.0               500.0                 13.47   \n",
       "1                    2.0              2000.0                 13.47   \n",
       "2                   25.0              2000.0                 13.50   \n",
       "3                    5.0              1300.0                 13.50   \n",
       "4                    6.0               300.0                 13.50   \n",
       "...                  ...                 ...                   ...   \n",
       "327781              21.0               550.0                 11.66   \n",
       "327782               2.0              1000.0                 11.64   \n",
       "327783               3.0               100.0                 11.63   \n",
       "327784               3.0               600.0                 11.66   \n",
       "327785               1.0               300.0                 11.68   \n",
       "\n",
       "                        datetime  \n",
       "0      2010-05-03 06:51:36-04:00  \n",
       "1      2010-05-03 08:00:54-04:00  \n",
       "2      2010-05-03 08:06:58-04:00  \n",
       "3      2010-05-03 08:08:58-04:00  \n",
       "4      2010-05-03 08:19:50-04:00  \n",
       "...                          ...  \n",
       "327781 2010-05-28 18:19:06-04:00  \n",
       "327782 2010-05-28 18:23:38-04:00  \n",
       "327783 2010-05-28 18:47:55-04:00  \n",
       "327784 2010-05-28 19:46:02-04:00  \n",
       "327785 2010-05-28 19:53:05-04:00  \n",
       "\n",
       "[327786 rows x 10 columns]"
      ]
     },
     "execution_count": 34,
     "metadata": {},
     "output_type": "execute_result"
    }
   ],
   "source": [
    "# Ensure the 'datetime' column is properly converted to datetime64\n",
    "df['datetime'] = pd.to_datetime(df['datetime'])\n",
    "\n",
    "# Remove anything below seconds\n",
    "df['datetime'] = df['datetime'].dt.floor('S')\n",
    "\n",
    "# Display the updated DataFrame\n",
    "df"
   ]
  },
  {
   "cell_type": "code",
   "execution_count": 2,
   "metadata": {},
   "outputs": [
    {
     "ename": "NameError",
     "evalue": "name 'merged_AA_data' is not defined",
     "output_type": "error",
     "traceback": [
      "\u001b[0;31m---------------------------------------------------------------------------\u001b[0m",
      "\u001b[0;31mNameError\u001b[0m                                 Traceback (most recent call last)",
      "\u001b[0;32m/var/folders/m4/7y6r9d5x1f9g7xkd8133tc2r0000gn/T/ipykernel_6567/2902095049.py\u001b[0m in \u001b[0;36m<module>\u001b[0;34m\u001b[0m\n\u001b[0;32m----> 1\u001b[0;31m \u001b[0mdf\u001b[0m \u001b[0;34m=\u001b[0m \u001b[0mmerged_AA_data\u001b[0m\u001b[0;34m.\u001b[0m\u001b[0mcopy\u001b[0m\u001b[0;34m(\u001b[0m\u001b[0;34m)\u001b[0m\u001b[0;34m\u001b[0m\u001b[0;34m\u001b[0m\u001b[0m\n\u001b[0m\u001b[1;32m      2\u001b[0m \u001b[0;34m\u001b[0m\u001b[0m\n\u001b[1;32m      3\u001b[0m \u001b[0mdf\u001b[0m\u001b[0;34m[\u001b[0m\u001b[0;34m'datetime'\u001b[0m\u001b[0;34m]\u001b[0m \u001b[0;34m=\u001b[0m \u001b[0mpd\u001b[0m\u001b[0;34m.\u001b[0m\u001b[0mto_datetime\u001b[0m\u001b[0;34m(\u001b[0m\u001b[0mdf\u001b[0m\u001b[0;34m[\u001b[0m\u001b[0;34m'datetime'\u001b[0m\u001b[0;34m]\u001b[0m\u001b[0;34m,\u001b[0m \u001b[0merrors\u001b[0m\u001b[0;34m=\u001b[0m\u001b[0;34m'coerce'\u001b[0m\u001b[0;34m)\u001b[0m\u001b[0;34m\u001b[0m\u001b[0;34m\u001b[0m\u001b[0m\n\u001b[1;32m      4\u001b[0m \u001b[0;31m# Ensure the `datetime` column is in minute-level precision\u001b[0m\u001b[0;34m\u001b[0m\u001b[0;34m\u001b[0m\u001b[0m\n\u001b[1;32m      5\u001b[0m \u001b[0mdf\u001b[0m\u001b[0;34m[\u001b[0m\u001b[0;34m'minute'\u001b[0m\u001b[0;34m]\u001b[0m \u001b[0;34m=\u001b[0m \u001b[0mdf\u001b[0m\u001b[0;34m[\u001b[0m\u001b[0;34m'datetime'\u001b[0m\u001b[0;34m]\u001b[0m\u001b[0;34m.\u001b[0m\u001b[0mdt\u001b[0m\u001b[0;34m.\u001b[0m\u001b[0mfloor\u001b[0m\u001b[0;34m(\u001b[0m\u001b[0;34m'T'\u001b[0m\u001b[0;34m)\u001b[0m\u001b[0;34m\u001b[0m\u001b[0;34m\u001b[0m\u001b[0m\n",
      "\u001b[0;31mNameError\u001b[0m: name 'merged_AA_data' is not defined"
     ]
    }
   ],
   "source": [
    "df = merged_AA_data.copy()\n",
    "\n",
    "df['datetime'] = pd.to_datetime(df['datetime'], errors='coerce')\n",
    "# Ensure the `datetime` column is in minute-level precision\n",
    "df['minute'] = df['datetime'].dt.floor('T')\n",
    "\n",
    "# Perform aggregation grouped by `minute` with proper weighted calculations\n",
    "aggregated_df = (\n",
    "    df.groupby(\"minute\")\n",
    "    .apply(\n",
    "        lambda group: pd.Series({\n",
    "            \"weighted_bid_price\": (group[\"weighted_bid_price\"] * group[\"total_bid_quantity\"]).sum() / group[\"total_bid_quantity\"].sum(),\n",
    "            \"max_bid_quantity\": group[\"max_bid_quantity\"].max(),\n",
    "            \"total_bid_quantity\": group[\"total_bid_quantity\"].sum(),\n",
    "            \"weighted_ask_price\": (group[\"weighted_ask_price\"] * group[\"total_ask_quantity\"]).sum() / group[\"total_ask_quantity\"].sum(),\n",
    "            \"total_ask_quantity\": group[\"total_ask_quantity\"].sum(),\n",
    "            \"max_ask_quantity\": group[\"max_ask_quantity\"].max(),\n",
    "            \"weighted_trade_price\": (group[\"weighted_trade_price\"] * group[\"total_trade_volume\"]).sum() / group[\"total_trade_volume\"].sum(),\n",
    "            \"total_trade_volume\": group[\"total_trade_volume\"].sum(),\n",
    "        })\n",
    "    )\n",
    "    .reset_index()\n",
    ")"
   ]
  },
  {
   "cell_type": "code",
   "execution_count": 88,
   "metadata": {},
   "outputs": [
    {
     "data": {
      "text/html": [
       "<div>\n",
       "<style scoped>\n",
       "    .dataframe tbody tr th:only-of-type {\n",
       "        vertical-align: middle;\n",
       "    }\n",
       "\n",
       "    .dataframe tbody tr th {\n",
       "        vertical-align: top;\n",
       "    }\n",
       "\n",
       "    .dataframe thead th {\n",
       "        text-align: right;\n",
       "    }\n",
       "</style>\n",
       "<table border=\"1\" class=\"dataframe\">\n",
       "  <thead>\n",
       "    <tr style=\"text-align: right;\">\n",
       "      <th></th>\n",
       "      <th>minute</th>\n",
       "      <th>weighted_bid_price</th>\n",
       "      <th>max_bid_quantity</th>\n",
       "      <th>total_bid_quantity</th>\n",
       "      <th>weighted_ask_price</th>\n",
       "      <th>total_ask_quantity</th>\n",
       "      <th>max_ask_quantity</th>\n",
       "      <th>weighted_trade_price</th>\n",
       "      <th>total_trade_volume</th>\n",
       "    </tr>\n",
       "  </thead>\n",
       "  <tbody>\n",
       "    <tr>\n",
       "      <th>0</th>\n",
       "      <td>2010-05-03 06:51:00-04:00</td>\n",
       "      <td>13.380000</td>\n",
       "      <td>18.0</td>\n",
       "      <td>18.0</td>\n",
       "      <td>13.470000</td>\n",
       "      <td>5.0</td>\n",
       "      <td>5.0</td>\n",
       "      <td>13.47</td>\n",
       "      <td>500.0</td>\n",
       "    </tr>\n",
       "    <tr>\n",
       "      <th>1</th>\n",
       "      <td>2010-05-03 08:00:00-04:00</td>\n",
       "      <td>13.470000</td>\n",
       "      <td>5.0</td>\n",
       "      <td>24.0</td>\n",
       "      <td>13.500000</td>\n",
       "      <td>12.0</td>\n",
       "      <td>2.0</td>\n",
       "      <td>13.47</td>\n",
       "      <td>2000.0</td>\n",
       "    </tr>\n",
       "    <tr>\n",
       "      <th>2</th>\n",
       "      <td>2010-05-03 08:06:00-04:00</td>\n",
       "      <td>13.470000</td>\n",
       "      <td>58.0</td>\n",
       "      <td>348.0</td>\n",
       "      <td>13.500000</td>\n",
       "      <td>141.0</td>\n",
       "      <td>25.0</td>\n",
       "      <td>13.50</td>\n",
       "      <td>2000.0</td>\n",
       "    </tr>\n",
       "    <tr>\n",
       "      <th>3</th>\n",
       "      <td>2010-05-03 08:08:00-04:00</td>\n",
       "      <td>13.470000</td>\n",
       "      <td>23.0</td>\n",
       "      <td>23.0</td>\n",
       "      <td>13.500000</td>\n",
       "      <td>5.0</td>\n",
       "      <td>5.0</td>\n",
       "      <td>13.50</td>\n",
       "      <td>1300.0</td>\n",
       "    </tr>\n",
       "    <tr>\n",
       "      <th>4</th>\n",
       "      <td>2010-05-03 08:19:00-04:00</td>\n",
       "      <td>13.499899</td>\n",
       "      <td>49.0</td>\n",
       "      <td>99.0</td>\n",
       "      <td>13.500000</td>\n",
       "      <td>17.0</td>\n",
       "      <td>6.0</td>\n",
       "      <td>13.50</td>\n",
       "      <td>300.0</td>\n",
       "    </tr>\n",
       "    <tr>\n",
       "      <th>...</th>\n",
       "      <td>...</td>\n",
       "      <td>...</td>\n",
       "      <td>...</td>\n",
       "      <td>...</td>\n",
       "      <td>...</td>\n",
       "      <td>...</td>\n",
       "      <td>...</td>\n",
       "      <td>...</td>\n",
       "      <td>...</td>\n",
       "    </tr>\n",
       "    <tr>\n",
       "      <th>9759</th>\n",
       "      <td>2010-05-28 18:19:00-04:00</td>\n",
       "      <td>11.650000</td>\n",
       "      <td>20.0</td>\n",
       "      <td>40.0</td>\n",
       "      <td>11.720000</td>\n",
       "      <td>42.0</td>\n",
       "      <td>21.0</td>\n",
       "      <td>11.66</td>\n",
       "      <td>550.0</td>\n",
       "    </tr>\n",
       "    <tr>\n",
       "      <th>9760</th>\n",
       "      <td>2010-05-28 18:23:00-04:00</td>\n",
       "      <td>11.636667</td>\n",
       "      <td>2.0</td>\n",
       "      <td>6.0</td>\n",
       "      <td>11.700000</td>\n",
       "      <td>8.0</td>\n",
       "      <td>2.0</td>\n",
       "      <td>11.64</td>\n",
       "      <td>1000.0</td>\n",
       "    </tr>\n",
       "    <tr>\n",
       "      <th>9761</th>\n",
       "      <td>2010-05-28 18:47:00-04:00</td>\n",
       "      <td>11.600000</td>\n",
       "      <td>2.0</td>\n",
       "      <td>2.0</td>\n",
       "      <td>11.700000</td>\n",
       "      <td>3.0</td>\n",
       "      <td>3.0</td>\n",
       "      <td>11.63</td>\n",
       "      <td>100.0</td>\n",
       "    </tr>\n",
       "    <tr>\n",
       "      <th>9762</th>\n",
       "      <td>2010-05-28 19:46:00-04:00</td>\n",
       "      <td>11.660000</td>\n",
       "      <td>9.0</td>\n",
       "      <td>15.0</td>\n",
       "      <td>11.700000</td>\n",
       "      <td>6.0</td>\n",
       "      <td>3.0</td>\n",
       "      <td>11.66</td>\n",
       "      <td>600.0</td>\n",
       "    </tr>\n",
       "    <tr>\n",
       "      <th>9763</th>\n",
       "      <td>2010-05-28 19:53:00-04:00</td>\n",
       "      <td>11.670909</td>\n",
       "      <td>5.0</td>\n",
       "      <td>11.0</td>\n",
       "      <td>11.693333</td>\n",
       "      <td>3.0</td>\n",
       "      <td>1.0</td>\n",
       "      <td>11.68</td>\n",
       "      <td>300.0</td>\n",
       "    </tr>\n",
       "  </tbody>\n",
       "</table>\n",
       "<p>9764 rows × 9 columns</p>\n",
       "</div>"
      ],
      "text/plain": [
       "                        minute  weighted_bid_price  max_bid_quantity  \\\n",
       "0    2010-05-03 06:51:00-04:00           13.380000              18.0   \n",
       "1    2010-05-03 08:00:00-04:00           13.470000               5.0   \n",
       "2    2010-05-03 08:06:00-04:00           13.470000              58.0   \n",
       "3    2010-05-03 08:08:00-04:00           13.470000              23.0   \n",
       "4    2010-05-03 08:19:00-04:00           13.499899              49.0   \n",
       "...                        ...                 ...               ...   \n",
       "9759 2010-05-28 18:19:00-04:00           11.650000              20.0   \n",
       "9760 2010-05-28 18:23:00-04:00           11.636667               2.0   \n",
       "9761 2010-05-28 18:47:00-04:00           11.600000               2.0   \n",
       "9762 2010-05-28 19:46:00-04:00           11.660000               9.0   \n",
       "9763 2010-05-28 19:53:00-04:00           11.670909               5.0   \n",
       "\n",
       "      total_bid_quantity  weighted_ask_price  total_ask_quantity  \\\n",
       "0                   18.0           13.470000                 5.0   \n",
       "1                   24.0           13.500000                12.0   \n",
       "2                  348.0           13.500000               141.0   \n",
       "3                   23.0           13.500000                 5.0   \n",
       "4                   99.0           13.500000                17.0   \n",
       "...                  ...                 ...                 ...   \n",
       "9759                40.0           11.720000                42.0   \n",
       "9760                 6.0           11.700000                 8.0   \n",
       "9761                 2.0           11.700000                 3.0   \n",
       "9762                15.0           11.700000                 6.0   \n",
       "9763                11.0           11.693333                 3.0   \n",
       "\n",
       "      max_ask_quantity  weighted_trade_price  total_trade_volume  \n",
       "0                  5.0                 13.47               500.0  \n",
       "1                  2.0                 13.47              2000.0  \n",
       "2                 25.0                 13.50              2000.0  \n",
       "3                  5.0                 13.50              1300.0  \n",
       "4                  6.0                 13.50               300.0  \n",
       "...                ...                   ...                 ...  \n",
       "9759              21.0                 11.66               550.0  \n",
       "9760               2.0                 11.64              1000.0  \n",
       "9761               3.0                 11.63               100.0  \n",
       "9762               3.0                 11.66               600.0  \n",
       "9763               1.0                 11.68               300.0  \n",
       "\n",
       "[9764 rows x 9 columns]"
      ]
     },
     "execution_count": 88,
     "metadata": {},
     "output_type": "execute_result"
    }
   ],
   "source": [
    "df = aggregated_df.copy()\n",
    "df"
   ]
  },
  {
   "cell_type": "code",
   "execution_count": 92,
   "metadata": {},
   "outputs": [
    {
     "data": {
      "text/plain": [
       "{'mean_delta_time': 1.7152093596059113,\n",
       " 'min_delta_time': 1.0,\n",
       " 'quantiles': {0.01: 1.0,\n",
       "  0.05: 1.0,\n",
       "  0.25: 1.0,\n",
       "  0.5: 1.0,\n",
       "  0.75: 1.0,\n",
       "  0.95: 4.0,\n",
       "  0.99: 17.0},\n",
       " 'max_delta_time': 198.0}"
      ]
     },
     "execution_count": 92,
     "metadata": {},
     "output_type": "execute_result"
    }
   ],
   "source": [
    "\n",
    "# Calculate delta time only for rows on the same day\n",
    "\n",
    "df['date'] = df['minute'].dt.date  # Extract the date\n",
    "df['delta_time'] = df.groupby('date')['minute'].diff().dt.total_seconds()/60\n",
    "\n",
    "\n",
    "\n",
    "# Compute statistics for delta times within the same day\n",
    "mean_delta_time = df['delta_time'].mean()\n",
    "min_delta_time = df['delta_time'].min()\n",
    "quantiles = df['delta_time'].quantile([0.01,0.05,0.25, 0.5, 0.75, 0.95, 0.99]).to_dict()\n",
    "max_delta_time = df['delta_time'].max()\n",
    "\n",
    "{\n",
    "    \"mean_delta_time\": mean_delta_time,\n",
    "    \"min_delta_time\": min_delta_time,\n",
    "    \"quantiles\": quantiles,\n",
    "    \"max_delta_time\": max_delta_time\n",
    "}"
   ]
  },
  {
   "cell_type": "code",
   "execution_count": 93,
   "metadata": {},
   "outputs": [],
   "source": [
    "import numpy as np\n",
    "\n",
    "# Compute log returns normalized by the time interval\n",
    "\n",
    "merged_AA_data = pd.read_csv()\n",
    "\n",
    "df = merged_AA_data.copy('/Users/othmaneio/Documents/financial_big_data/data/AA/merged_data_AA.csv')\n",
    "\n",
    "df['datetime'] = pd.to_datetime(df['datetime'], errors='coerce')\n",
    "\n",
    "df['minute'] = df['datetime'].dt.floor('T')\n",
    "\n",
    "# Perform aggregation grouped by `minute` with proper weighted calculations\n",
    "aggregated_df = (\n",
    "    df.groupby(\"minute\")\n",
    "    .apply(\n",
    "        lambda group: pd.Series({\n",
    "            \"weighted_bid_price\": (group[\"weighted_bid_price\"] * group[\"total_bid_quantity\"]).sum() / group[\"total_bid_quantity\"].sum(),\n",
    "            \"max_bid_quantity\": group[\"max_bid_quantity\"].max(),\n",
    "            \"total_bid_quantity\": group[\"total_bid_quantity\"].sum(),\n",
    "            \"weighted_ask_price\": (group[\"weighted_ask_price\"] * group[\"total_ask_quantity\"]).sum() / group[\"total_ask_quantity\"].sum(),\n",
    "            \"total_ask_quantity\": group[\"total_ask_quantity\"].sum(),\n",
    "            \"max_ask_quantity\": group[\"max_ask_quantity\"].max(),\n",
    "            \"weighted_trade_price\": (group[\"weighted_trade_price\"] * group[\"total_trade_volume\"]).sum() / group[\"total_trade_volume\"].sum(),\n",
    "            \"total_trade_volume\": group[\"total_trade_volume\"].sum(),\n",
    "        })\n",
    "    )\n",
    "    .reset_index()\n",
    ")\n",
    "\n",
    "df = aggregated_df\n",
    "\n",
    "df['date'] = df['minute'].dt.date  # Extract the date\n",
    "df['delta_time'] = df.groupby('date')['minute'].diff().dt.total_seconds()/60\n",
    "\n",
    "df['return'] = (df['weighted_trade_price'] - df['weighted_trade_price'].shift(1)) / df['weighted_trade_price'].shift(1)\n",
    "\n",
    "# Normalize returns by delta time (time interval between ticks) within the same day\n",
    "df['normalized_return'] = df['return'] / df['delta_time']\n",
    "\n",
    "# Ensure normalization is limited to rows with valid delta_time and log_return\n",
    "df['normalized_return'] = df['normalized_return'].where(df['delta_time'] > 0, np.nan)\n",
    "\n",
    "# Compute daily normalization factor to scale returns to one day\n",
    "# Assuming 'delta_time' is in seconds, scale returns to a 24-hour interval (86400 seconds)\n",
    "#df['daily_normalized_return'] = df['normalized_return'] * 480  # Seconds in a day\n",
    "\n",
    "# Drop NaN values for clean results\n",
    "#df.dropna(subset=['daily_normalized_return'], inplace=True)\n",
    "\n",
    "# Display relevant columns\n",
    "#result = df[['minute', 'delta_time', 'return', 'normalized_return', 'daily_normalized_return']]\n",
    "\n"
   ]
  },
  {
   "cell_type": "code",
   "execution_count": 97,
   "metadata": {},
   "outputs": [
    {
     "data": {
      "text/html": [
       "<div>\n",
       "<style scoped>\n",
       "    .dataframe tbody tr th:only-of-type {\n",
       "        vertical-align: middle;\n",
       "    }\n",
       "\n",
       "    .dataframe tbody tr th {\n",
       "        vertical-align: top;\n",
       "    }\n",
       "\n",
       "    .dataframe thead th {\n",
       "        text-align: right;\n",
       "    }\n",
       "</style>\n",
       "<table border=\"1\" class=\"dataframe\">\n",
       "  <thead>\n",
       "    <tr style=\"text-align: right;\">\n",
       "      <th></th>\n",
       "      <th>minute</th>\n",
       "      <th>weighted_bid_price</th>\n",
       "      <th>max_bid_quantity</th>\n",
       "      <th>total_bid_quantity</th>\n",
       "      <th>weighted_ask_price</th>\n",
       "      <th>total_ask_quantity</th>\n",
       "      <th>max_ask_quantity</th>\n",
       "      <th>weighted_trade_price</th>\n",
       "      <th>total_trade_volume</th>\n",
       "      <th>date</th>\n",
       "      <th>delta_time</th>\n",
       "      <th>return</th>\n",
       "      <th>normalized_return</th>\n",
       "    </tr>\n",
       "  </thead>\n",
       "  <tbody>\n",
       "    <tr>\n",
       "      <th>0</th>\n",
       "      <td>2010-05-03 06:51:00-04:00</td>\n",
       "      <td>13.380000</td>\n",
       "      <td>18.0</td>\n",
       "      <td>18.0</td>\n",
       "      <td>13.470000</td>\n",
       "      <td>5.0</td>\n",
       "      <td>5.0</td>\n",
       "      <td>13.47</td>\n",
       "      <td>500.0</td>\n",
       "      <td>2010-05-03</td>\n",
       "      <td>NaN</td>\n",
       "      <td>NaN</td>\n",
       "      <td>NaN</td>\n",
       "    </tr>\n",
       "    <tr>\n",
       "      <th>1</th>\n",
       "      <td>2010-05-03 08:00:00-04:00</td>\n",
       "      <td>13.470000</td>\n",
       "      <td>5.0</td>\n",
       "      <td>24.0</td>\n",
       "      <td>13.500000</td>\n",
       "      <td>12.0</td>\n",
       "      <td>2.0</td>\n",
       "      <td>13.47</td>\n",
       "      <td>2000.0</td>\n",
       "      <td>2010-05-03</td>\n",
       "      <td>69.0</td>\n",
       "      <td>0.000000</td>\n",
       "      <td>0.000000</td>\n",
       "    </tr>\n",
       "    <tr>\n",
       "      <th>2</th>\n",
       "      <td>2010-05-03 08:06:00-04:00</td>\n",
       "      <td>13.470000</td>\n",
       "      <td>58.0</td>\n",
       "      <td>348.0</td>\n",
       "      <td>13.500000</td>\n",
       "      <td>141.0</td>\n",
       "      <td>25.0</td>\n",
       "      <td>13.50</td>\n",
       "      <td>2000.0</td>\n",
       "      <td>2010-05-03</td>\n",
       "      <td>6.0</td>\n",
       "      <td>0.002227</td>\n",
       "      <td>0.000371</td>\n",
       "    </tr>\n",
       "    <tr>\n",
       "      <th>3</th>\n",
       "      <td>2010-05-03 08:08:00-04:00</td>\n",
       "      <td>13.470000</td>\n",
       "      <td>23.0</td>\n",
       "      <td>23.0</td>\n",
       "      <td>13.500000</td>\n",
       "      <td>5.0</td>\n",
       "      <td>5.0</td>\n",
       "      <td>13.50</td>\n",
       "      <td>1300.0</td>\n",
       "      <td>2010-05-03</td>\n",
       "      <td>2.0</td>\n",
       "      <td>0.000000</td>\n",
       "      <td>0.000000</td>\n",
       "    </tr>\n",
       "    <tr>\n",
       "      <th>4</th>\n",
       "      <td>2010-05-03 08:19:00-04:00</td>\n",
       "      <td>13.499899</td>\n",
       "      <td>49.0</td>\n",
       "      <td>99.0</td>\n",
       "      <td>13.500000</td>\n",
       "      <td>17.0</td>\n",
       "      <td>6.0</td>\n",
       "      <td>13.50</td>\n",
       "      <td>300.0</td>\n",
       "      <td>2010-05-03</td>\n",
       "      <td>11.0</td>\n",
       "      <td>0.000000</td>\n",
       "      <td>0.000000</td>\n",
       "    </tr>\n",
       "    <tr>\n",
       "      <th>...</th>\n",
       "      <td>...</td>\n",
       "      <td>...</td>\n",
       "      <td>...</td>\n",
       "      <td>...</td>\n",
       "      <td>...</td>\n",
       "      <td>...</td>\n",
       "      <td>...</td>\n",
       "      <td>...</td>\n",
       "      <td>...</td>\n",
       "      <td>...</td>\n",
       "      <td>...</td>\n",
       "      <td>...</td>\n",
       "      <td>...</td>\n",
       "    </tr>\n",
       "    <tr>\n",
       "      <th>9759</th>\n",
       "      <td>2010-05-28 18:19:00-04:00</td>\n",
       "      <td>11.650000</td>\n",
       "      <td>20.0</td>\n",
       "      <td>40.0</td>\n",
       "      <td>11.720000</td>\n",
       "      <td>42.0</td>\n",
       "      <td>21.0</td>\n",
       "      <td>11.66</td>\n",
       "      <td>550.0</td>\n",
       "      <td>2010-05-28</td>\n",
       "      <td>9.0</td>\n",
       "      <td>0.000000</td>\n",
       "      <td>0.000000</td>\n",
       "    </tr>\n",
       "    <tr>\n",
       "      <th>9760</th>\n",
       "      <td>2010-05-28 18:23:00-04:00</td>\n",
       "      <td>11.636667</td>\n",
       "      <td>2.0</td>\n",
       "      <td>6.0</td>\n",
       "      <td>11.700000</td>\n",
       "      <td>8.0</td>\n",
       "      <td>2.0</td>\n",
       "      <td>11.64</td>\n",
       "      <td>1000.0</td>\n",
       "      <td>2010-05-28</td>\n",
       "      <td>4.0</td>\n",
       "      <td>-0.001715</td>\n",
       "      <td>-0.000429</td>\n",
       "    </tr>\n",
       "    <tr>\n",
       "      <th>9761</th>\n",
       "      <td>2010-05-28 18:47:00-04:00</td>\n",
       "      <td>11.600000</td>\n",
       "      <td>2.0</td>\n",
       "      <td>2.0</td>\n",
       "      <td>11.700000</td>\n",
       "      <td>3.0</td>\n",
       "      <td>3.0</td>\n",
       "      <td>11.63</td>\n",
       "      <td>100.0</td>\n",
       "      <td>2010-05-28</td>\n",
       "      <td>24.0</td>\n",
       "      <td>-0.000859</td>\n",
       "      <td>-0.000036</td>\n",
       "    </tr>\n",
       "    <tr>\n",
       "      <th>9762</th>\n",
       "      <td>2010-05-28 19:46:00-04:00</td>\n",
       "      <td>11.660000</td>\n",
       "      <td>9.0</td>\n",
       "      <td>15.0</td>\n",
       "      <td>11.700000</td>\n",
       "      <td>6.0</td>\n",
       "      <td>3.0</td>\n",
       "      <td>11.66</td>\n",
       "      <td>600.0</td>\n",
       "      <td>2010-05-28</td>\n",
       "      <td>59.0</td>\n",
       "      <td>0.002580</td>\n",
       "      <td>0.000044</td>\n",
       "    </tr>\n",
       "    <tr>\n",
       "      <th>9763</th>\n",
       "      <td>2010-05-28 19:53:00-04:00</td>\n",
       "      <td>11.670909</td>\n",
       "      <td>5.0</td>\n",
       "      <td>11.0</td>\n",
       "      <td>11.693333</td>\n",
       "      <td>3.0</td>\n",
       "      <td>1.0</td>\n",
       "      <td>11.68</td>\n",
       "      <td>300.0</td>\n",
       "      <td>2010-05-28</td>\n",
       "      <td>7.0</td>\n",
       "      <td>0.001715</td>\n",
       "      <td>0.000245</td>\n",
       "    </tr>\n",
       "  </tbody>\n",
       "</table>\n",
       "<p>9764 rows × 13 columns</p>\n",
       "</div>"
      ],
      "text/plain": [
       "                        minute  weighted_bid_price  max_bid_quantity  \\\n",
       "0    2010-05-03 06:51:00-04:00           13.380000              18.0   \n",
       "1    2010-05-03 08:00:00-04:00           13.470000               5.0   \n",
       "2    2010-05-03 08:06:00-04:00           13.470000              58.0   \n",
       "3    2010-05-03 08:08:00-04:00           13.470000              23.0   \n",
       "4    2010-05-03 08:19:00-04:00           13.499899              49.0   \n",
       "...                        ...                 ...               ...   \n",
       "9759 2010-05-28 18:19:00-04:00           11.650000              20.0   \n",
       "9760 2010-05-28 18:23:00-04:00           11.636667               2.0   \n",
       "9761 2010-05-28 18:47:00-04:00           11.600000               2.0   \n",
       "9762 2010-05-28 19:46:00-04:00           11.660000               9.0   \n",
       "9763 2010-05-28 19:53:00-04:00           11.670909               5.0   \n",
       "\n",
       "      total_bid_quantity  weighted_ask_price  total_ask_quantity  \\\n",
       "0                   18.0           13.470000                 5.0   \n",
       "1                   24.0           13.500000                12.0   \n",
       "2                  348.0           13.500000               141.0   \n",
       "3                   23.0           13.500000                 5.0   \n",
       "4                   99.0           13.500000                17.0   \n",
       "...                  ...                 ...                 ...   \n",
       "9759                40.0           11.720000                42.0   \n",
       "9760                 6.0           11.700000                 8.0   \n",
       "9761                 2.0           11.700000                 3.0   \n",
       "9762                15.0           11.700000                 6.0   \n",
       "9763                11.0           11.693333                 3.0   \n",
       "\n",
       "      max_ask_quantity  weighted_trade_price  total_trade_volume        date  \\\n",
       "0                  5.0                 13.47               500.0  2010-05-03   \n",
       "1                  2.0                 13.47              2000.0  2010-05-03   \n",
       "2                 25.0                 13.50              2000.0  2010-05-03   \n",
       "3                  5.0                 13.50              1300.0  2010-05-03   \n",
       "4                  6.0                 13.50               300.0  2010-05-03   \n",
       "...                ...                   ...                 ...         ...   \n",
       "9759              21.0                 11.66               550.0  2010-05-28   \n",
       "9760               2.0                 11.64              1000.0  2010-05-28   \n",
       "9761               3.0                 11.63               100.0  2010-05-28   \n",
       "9762               3.0                 11.66               600.0  2010-05-28   \n",
       "9763               1.0                 11.68               300.0  2010-05-28   \n",
       "\n",
       "      delta_time    return  normalized_return  \n",
       "0            NaN       NaN                NaN  \n",
       "1           69.0  0.000000           0.000000  \n",
       "2            6.0  0.002227           0.000371  \n",
       "3            2.0  0.000000           0.000000  \n",
       "4           11.0  0.000000           0.000000  \n",
       "...          ...       ...                ...  \n",
       "9759         9.0  0.000000           0.000000  \n",
       "9760         4.0 -0.001715          -0.000429  \n",
       "9761        24.0 -0.000859          -0.000036  \n",
       "9762        59.0  0.002580           0.000044  \n",
       "9763         7.0  0.001715           0.000245  \n",
       "\n",
       "[9764 rows x 13 columns]"
      ]
     },
     "execution_count": 97,
     "metadata": {},
     "output_type": "execute_result"
    }
   ],
   "source": [
    "# Compute log returns normalized by the time interval\n",
    "df['return'] = (df['weighted_trade_price'] - df['weighted_trade_price'].shift(1)) / df['weighted_trade_price'].shift(1)\n",
    "\n",
    "# Normalize returns by delta time (time interval between ticks) within the same day\n",
    "df['normalized_return'] = df['return'] / df['delta_time']\n",
    "\n",
    "# Ensure normalization is limited to rows with valid delta_time and log_return\n",
    "df['normalized_return'] = df['normalized_return'].where(df['delta_time'] > 0, np.nan)"
   ]
  },
  {
   "cell_type": "code",
   "execution_count": 94,
   "metadata": {},
   "outputs": [
    {
     "data": {
      "text/plain": [
       "{'mean_daily_normalized_return': -1.6988850462960015e-05,\n",
       " 'min_daily_normalized_return': -0.014133496040299544,\n",
       " 'quantiles': {0.01: -0.0035346361412054933,\n",
       "  0.05: -0.0018317724531665934,\n",
       "  0.25: -0.0006110603577194742,\n",
       "  0.5: 0.0,\n",
       "  0.75: 0.0005482257425310205,\n",
       "  0.95: 0.001839343068808909,\n",
       "  0.99: 0.0034927313474027734}}"
      ]
     },
     "execution_count": 94,
     "metadata": {},
     "output_type": "execute_result"
    }
   ],
   "source": [
    "# Compute statistics for delta times within the same day\n",
    "mean_daily_normalized_return = df['normalized_return'].mean()\n",
    "min_daily_normalized_return = df['normalized_return'].min()\n",
    "quantiles = df['normalized_return'].quantile([0.01,0.05,0.25, 0.5, 0.75, 0.95, 0.99]).to_dict()\n",
    "#max_daily_normalized_return = df['daily_normalized_return'].max()\n",
    "\n",
    "{\n",
    "    \"mean_daily_normalized_return\": mean_daily_normalized_return,\n",
    "    \"min_daily_normalized_return\": min_daily_normalized_return,\n",
    "    \"quantiles\": quantiles,\n",
    "    #\"max_daily_normalized_return\": max_daily_normalized_return\n",
    "}"
   ]
  },
  {
   "cell_type": "code",
   "execution_count": 9,
   "metadata": {},
   "outputs": [
    {
     "data": {
      "image/png": "[encoded data removed]",
      "text/plain": [
       "<Figure size 1000x600 with 1 Axes>"
      ]
     },
     "metadata": {},
     "output_type": "display_data"
    }
   ],
   "source": [
    "import matplotlib.pyplot as plt\n",
    "\n",
    "\n",
    "df = pd.read_csv('/Users/othmaneio/Documents/financial_big_data/data/AA/processed_data_AA.csv')\n",
    "# Plot the distribution of daily normalized returns\n",
    "plt.figure(figsize=(10, 6))\n",
    "plt.hist(df['normalized_return'], bins=1000, alpha=0.75, edgecolor='black')\n",
    "plt.title('Distribution of Daily Normalized Returns', fontsize=16)\n",
    "plt.xlabel('Daily Normalized Return', fontsize=14)\n",
    "plt.ylabel('Frequency', fontsize=14)\n",
    "plt.grid(axis='y', linestyle='--', alpha=0.7)\n",
    "plt.show()"
   ]
  },
  {
   "cell_type": "code",
   "execution_count": 6,
   "metadata": {},
   "outputs": [
    {
     "data": {
      "text/plain": [
       "{'ks_statistic': 0.49655524211754837, 'ks_p_value': 0.0}"
      ]
     },
     "execution_count": 6,
     "metadata": {},
     "output_type": "execute_result"
    }
   ],
   "source": [
    "#perform ks test for df['normalized_return']\n",
    "from scipy.stats import kstest\n",
    "ks_statistic, ks_p_value = kstest(df['normalized_return'].dropna(), 'norm')\n",
    "    \n",
    "{\n",
    "        \"ks_statistic\": ks_statistic,\n",
    "        \"ks_p_value\": ks_p_value\n",
    "}"
   ]
  },
  {
   "cell_type": "code",
   "execution_count": 10,
   "metadata": {},
   "outputs": [
    {
     "data": {
      "text/html": [
       "<div>\n",
       "<style scoped>\n",
       "    .dataframe tbody tr th:only-of-type {\n",
       "        vertical-align: middle;\n",
       "    }\n",
       "\n",
       "    .dataframe tbody tr th {\n",
       "        vertical-align: top;\n",
       "    }\n",
       "\n",
       "    .dataframe thead th {\n",
       "        text-align: right;\n",
       "    }\n",
       "</style>\n",
       "<table border=\"1\" class=\"dataframe\">\n",
       "  <thead>\n",
       "    <tr style=\"text-align: right;\">\n",
       "      <th></th>\n",
       "      <th>minute</th>\n",
       "      <th>weighted_bid_price</th>\n",
       "      <th>max_bid_quantity</th>\n",
       "      <th>total_bid_quantity</th>\n",
       "      <th>weighted_ask_price</th>\n",
       "      <th>total_ask_quantity</th>\n",
       "      <th>max_ask_quantity</th>\n",
       "      <th>weighted_trade_price</th>\n",
       "      <th>total_trade_volume</th>\n",
       "      <th>date</th>\n",
       "      <th>delta_time</th>\n",
       "      <th>return</th>\n",
       "      <th>normalized_return</th>\n",
       "    </tr>\n",
       "  </thead>\n",
       "  <tbody>\n",
       "    <tr>\n",
       "      <th>0</th>\n",
       "      <td>2010-05-03 06:51:00-04:00</td>\n",
       "      <td>13.380000</td>\n",
       "      <td>18.0</td>\n",
       "      <td>18.0</td>\n",
       "      <td>13.47</td>\n",
       "      <td>5.0</td>\n",
       "      <td>5.0</td>\n",
       "      <td>13.47</td>\n",
       "      <td>500.0</td>\n",
       "      <td>2010-05-03</td>\n",
       "      <td>NaN</td>\n",
       "      <td>NaN</td>\n",
       "      <td>NaN</td>\n",
       "    </tr>\n",
       "    <tr>\n",
       "      <th>1</th>\n",
       "      <td>2010-05-03 08:00:00-04:00</td>\n",
       "      <td>13.470000</td>\n",
       "      <td>5.0</td>\n",
       "      <td>24.0</td>\n",
       "      <td>13.50</td>\n",
       "      <td>12.0</td>\n",
       "      <td>2.0</td>\n",
       "      <td>13.47</td>\n",
       "      <td>2000.0</td>\n",
       "      <td>2010-05-03</td>\n",
       "      <td>69.0</td>\n",
       "      <td>0.000000</td>\n",
       "      <td>0.000000</td>\n",
       "    </tr>\n",
       "    <tr>\n",
       "      <th>2</th>\n",
       "      <td>2010-05-03 08:06:00-04:00</td>\n",
       "      <td>13.470000</td>\n",
       "      <td>58.0</td>\n",
       "      <td>348.0</td>\n",
       "      <td>13.50</td>\n",
       "      <td>141.0</td>\n",
       "      <td>25.0</td>\n",
       "      <td>13.50</td>\n",
       "      <td>2000.0</td>\n",
       "      <td>2010-05-03</td>\n",
       "      <td>6.0</td>\n",
       "      <td>0.002227</td>\n",
       "      <td>0.000371</td>\n",
       "    </tr>\n",
       "    <tr>\n",
       "      <th>3</th>\n",
       "      <td>2010-05-03 08:08:00-04:00</td>\n",
       "      <td>13.470000</td>\n",
       "      <td>23.0</td>\n",
       "      <td>23.0</td>\n",
       "      <td>13.50</td>\n",
       "      <td>5.0</td>\n",
       "      <td>5.0</td>\n",
       "      <td>13.50</td>\n",
       "      <td>1300.0</td>\n",
       "      <td>2010-05-03</td>\n",
       "      <td>2.0</td>\n",
       "      <td>0.000000</td>\n",
       "      <td>0.000000</td>\n",
       "    </tr>\n",
       "    <tr>\n",
       "      <th>4</th>\n",
       "      <td>2010-05-03 08:19:00-04:00</td>\n",
       "      <td>13.499899</td>\n",
       "      <td>49.0</td>\n",
       "      <td>99.0</td>\n",
       "      <td>13.50</td>\n",
       "      <td>17.0</td>\n",
       "      <td>6.0</td>\n",
       "      <td>13.50</td>\n",
       "      <td>300.0</td>\n",
       "      <td>2010-05-03</td>\n",
       "      <td>11.0</td>\n",
       "      <td>0.000000</td>\n",
       "      <td>0.000000</td>\n",
       "    </tr>\n",
       "  </tbody>\n",
       "</table>\n",
       "</div>"
      ],
      "text/plain": [
       "                      minute  weighted_bid_price  max_bid_quantity  \\\n",
       "0  2010-05-03 06:51:00-04:00           13.380000              18.0   \n",
       "1  2010-05-03 08:00:00-04:00           13.470000               5.0   \n",
       "2  2010-05-03 08:06:00-04:00           13.470000              58.0   \n",
       "3  2010-05-03 08:08:00-04:00           13.470000              23.0   \n",
       "4  2010-05-03 08:19:00-04:00           13.499899              49.0   \n",
       "\n",
       "   total_bid_quantity  weighted_ask_price  total_ask_quantity  \\\n",
       "0                18.0               13.47                 5.0   \n",
       "1                24.0               13.50                12.0   \n",
       "2               348.0               13.50               141.0   \n",
       "3                23.0               13.50                 5.0   \n",
       "4                99.0               13.50                17.0   \n",
       "\n",
       "   max_ask_quantity  weighted_trade_price  total_trade_volume        date  \\\n",
       "0               5.0                 13.47               500.0  2010-05-03   \n",
       "1               2.0                 13.47              2000.0  2010-05-03   \n",
       "2              25.0                 13.50              2000.0  2010-05-03   \n",
       "3               5.0                 13.50              1300.0  2010-05-03   \n",
       "4               6.0                 13.50               300.0  2010-05-03   \n",
       "\n",
       "   delta_time    return  normalized_return  \n",
       "0         NaN       NaN                NaN  \n",
       "1        69.0  0.000000           0.000000  \n",
       "2         6.0  0.002227           0.000371  \n",
       "3         2.0  0.000000           0.000000  \n",
       "4        11.0  0.000000           0.000000  "
      ]
     },
     "execution_count": 10,
     "metadata": {},
     "output_type": "execute_result"
    }
   ],
   "source": [
    "df.head()"
   ]
  },
  {
   "cell_type": "code",
   "execution_count": 11,
   "metadata": {},
   "outputs": [],
   "source": [
    "#distribution of the hours in the df\n",
    "# Convert the 'minute' column to datetime\n",
    "df[\"minute\"] = pd.to_datetime(df[\"minute\"])\n",
    "\n",
    "# Define the time intervals (e.g., every 30 minutes)\n",
    "df[\"time_interval\"] = pd.cut(\n",
    "    df[\"minute\"].dt.hour * 60 + df[\"minute\"].dt.minute,\n",
    "    bins=range(0, 1441, 30),\n",
    "    labels=[f\"{h:02}:{m:02}-{h2:02}:{m2:02}\" for h in range(24) for m, h2, m2 in [(0, h, 30), (30, h+1, 0)]],\n",
    "    right=False\n",
    ")\n",
    "\n",
    "# Count observations per interval\n",
    "interval_counts = df[\"time_interval\"].value_counts().sort_index()\n"
   ]
  },
  {
   "cell_type": "code",
   "execution_count": 12,
   "metadata": {},
   "outputs": [
    {
     "data": {
      "text/plain": [
       "time_interval\n",
       "00:00-00:30      0\n",
       "00:30-01:00      0\n",
       "01:00-01:30      0\n",
       "01:30-02:00      0\n",
       "02:00-02:30      0\n",
       "02:30-03:00      0\n",
       "03:00-03:30      0\n",
       "03:30-04:00      0\n",
       "04:00-04:30      4\n",
       "04:30-05:00     19\n",
       "05:00-05:30     10\n",
       "05:30-06:00     16\n",
       "06:00-06:30     14\n",
       "06:30-07:00     25\n",
       "07:00-07:30     67\n",
       "07:30-08:00     95\n",
       "08:00-08:30    335\n",
       "08:30-09:00    336\n",
       "09:00-09:30    357\n",
       "09:30-10:00    600\n",
       "10:00-10:30    600\n",
       "10:30-11:00    598\n",
       "11:00-11:30    600\n",
       "11:30-12:00    599\n",
       "12:00-12:30    598\n",
       "12:30-13:00    598\n",
       "13:00-13:30    591\n",
       "13:30-14:00    596\n",
       "14:00-14:30    598\n",
       "14:30-15:00    598\n",
       "15:00-15:30    600\n",
       "15:30-16:00    600\n",
       "16:00-16:30    159\n",
       "16:30-17:00    112\n",
       "17:00-17:30     54\n",
       "17:30-18:00     92\n",
       "18:00-18:30     81\n",
       "18:30-19:00     79\n",
       "19:00-19:30     55\n",
       "19:30-20:00     78\n",
       "20:00-20:30      0\n",
       "20:30-21:00      0\n",
       "21:00-21:30      0\n",
       "21:30-22:00      0\n",
       "22:00-22:30      0\n",
       "22:30-23:00      0\n",
       "23:00-23:30      0\n",
       "23:30-24:00      0\n",
       "Name: count, dtype: int64"
      ]
     },
     "execution_count": 12,
     "metadata": {},
     "output_type": "execute_result"
    }
   ],
   "source": [
    "interval_counts"
   ]
  },
  {
   "cell_type": "code",
   "execution_count": 1,
   "metadata": {},
   "outputs": [
    {
     "name": "stderr",
     "output_type": "stream",
     "text": [
      "/Users/othmaneio/opt/miniconda3/envs/adaexam/lib/python3.9/site-packages/pandas/core/arrays/masked.py:60: UserWarning: Pandas requires version '1.3.6' or newer of 'bottleneck' (version '1.3.5' currently installed).\n",
      "  from pandas.core import (\n"
     ]
    },
    {
     "name": "stdout",
     "output_type": "stream",
     "text": [
      "Skipping .DS_Store: No valid data found.\n",
      "Processing data for company: A\n"
     ]
    },
    {
     "name": "stderr",
     "output_type": "stream",
     "text": [
      "/var/folders/m4/7y6r9d5x1f9g7xkd8133tc2r0000gn/T/ipykernel_6567/1531866637.py:22: FutureWarning: 'T' is deprecated and will be removed in a future version, please use 'min' instead.\n",
      "  df['minute'] = df['datetime'].dt.floor('T')\n",
      "/var/folders/m4/7y6r9d5x1f9g7xkd8133tc2r0000gn/T/ipykernel_6567/1531866637.py:27: RuntimeWarning: invalid value encountered in scalar divide\n",
      "  \"weighted_bid_price\": (group[\"weighted_bid_price\"] * group[\"total_bid_quantity\"]).sum() / group[\"total_bid_quantity\"].sum(),\n",
      "/var/folders/m4/7y6r9d5x1f9g7xkd8133tc2r0000gn/T/ipykernel_6567/1531866637.py:24: DeprecationWarning: DataFrameGroupBy.apply operated on the grouping columns. This behavior is deprecated, and in a future version of pandas the grouping columns will be excluded from the operation. Either pass `include_groups=False` to exclude the groupings or explicitly select the grouping columns after groupby to silence this warning.\n",
      "  df.groupby(\"minute\")\n"
     ]
    },
    {
     "name": "stdout",
     "output_type": "stream",
     "text": [
      "Processed data saved for company: A\n",
      "Processing data for company: AA\n"
     ]
    },
    {
     "name": "stderr",
     "output_type": "stream",
     "text": [
      "/var/folders/m4/7y6r9d5x1f9g7xkd8133tc2r0000gn/T/ipykernel_6567/1531866637.py:22: FutureWarning: 'T' is deprecated and will be removed in a future version, please use 'min' instead.\n",
      "  df['minute'] = df['datetime'].dt.floor('T')\n",
      "/var/folders/m4/7y6r9d5x1f9g7xkd8133tc2r0000gn/T/ipykernel_6567/1531866637.py:24: DeprecationWarning: DataFrameGroupBy.apply operated on the grouping columns. This behavior is deprecated, and in a future version of pandas the grouping columns will be excluded from the operation. Either pass `include_groups=False` to exclude the groupings or explicitly select the grouping columns after groupby to silence this warning.\n",
      "  df.groupby(\"minute\")\n"
     ]
    },
    {
     "name": "stdout",
     "output_type": "stream",
     "text": [
      "Processed data saved for company: AA\n",
      "Processing data for company: AAP\n"
     ]
    },
    {
     "name": "stderr",
     "output_type": "stream",
     "text": [
      "/var/folders/m4/7y6r9d5x1f9g7xkd8133tc2r0000gn/T/ipykernel_6567/1531866637.py:22: FutureWarning: 'T' is deprecated and will be removed in a future version, please use 'min' instead.\n",
      "  df['minute'] = df['datetime'].dt.floor('T')\n",
      "/var/folders/m4/7y6r9d5x1f9g7xkd8133tc2r0000gn/T/ipykernel_6567/1531866637.py:24: DeprecationWarning: DataFrameGroupBy.apply operated on the grouping columns. This behavior is deprecated, and in a future version of pandas the grouping columns will be excluded from the operation. Either pass `include_groups=False` to exclude the groupings or explicitly select the grouping columns after groupby to silence this warning.\n",
      "  df.groupby(\"minute\")\n"
     ]
    },
    {
     "name": "stdout",
     "output_type": "stream",
     "text": [
      "Processed data saved for company: AAP\n",
      "Processing data for company: ABC\n"
     ]
    },
    {
     "name": "stderr",
     "output_type": "stream",
     "text": [
      "/var/folders/m4/7y6r9d5x1f9g7xkd8133tc2r0000gn/T/ipykernel_6567/1531866637.py:22: FutureWarning: 'T' is deprecated and will be removed in a future version, please use 'min' instead.\n",
      "  df['minute'] = df['datetime'].dt.floor('T')\n",
      "/var/folders/m4/7y6r9d5x1f9g7xkd8133tc2r0000gn/T/ipykernel_6567/1531866637.py:24: DeprecationWarning: DataFrameGroupBy.apply operated on the grouping columns. This behavior is deprecated, and in a future version of pandas the grouping columns will be excluded from the operation. Either pass `include_groups=False` to exclude the groupings or explicitly select the grouping columns after groupby to silence this warning.\n",
      "  df.groupby(\"minute\")\n"
     ]
    },
    {
     "name": "stdout",
     "output_type": "stream",
     "text": [
      "Processed data saved for company: ABC\n",
      "Processing data for company: ABD\n"
     ]
    },
    {
     "name": "stderr",
     "output_type": "stream",
     "text": [
      "/var/folders/m4/7y6r9d5x1f9g7xkd8133tc2r0000gn/T/ipykernel_6567/1531866637.py:22: FutureWarning: 'T' is deprecated and will be removed in a future version, please use 'min' instead.\n",
      "  df['minute'] = df['datetime'].dt.floor('T')\n",
      "/var/folders/m4/7y6r9d5x1f9g7xkd8133tc2r0000gn/T/ipykernel_6567/1531866637.py:24: DeprecationWarning: DataFrameGroupBy.apply operated on the grouping columns. This behavior is deprecated, and in a future version of pandas the grouping columns will be excluded from the operation. Either pass `include_groups=False` to exclude the groupings or explicitly select the grouping columns after groupby to silence this warning.\n",
      "  df.groupby(\"minute\")\n"
     ]
    },
    {
     "name": "stdout",
     "output_type": "stream",
     "text": [
      "Processed data saved for company: ABD\n",
      "Processing data for company: ABT\n"
     ]
    },
    {
     "name": "stderr",
     "output_type": "stream",
     "text": [
      "/var/folders/m4/7y6r9d5x1f9g7xkd8133tc2r0000gn/T/ipykernel_6567/1531866637.py:22: FutureWarning: 'T' is deprecated and will be removed in a future version, please use 'min' instead.\n",
      "  df['minute'] = df['datetime'].dt.floor('T')\n",
      "/var/folders/m4/7y6r9d5x1f9g7xkd8133tc2r0000gn/T/ipykernel_6567/1531866637.py:24: DeprecationWarning: DataFrameGroupBy.apply operated on the grouping columns. This behavior is deprecated, and in a future version of pandas the grouping columns will be excluded from the operation. Either pass `include_groups=False` to exclude the groupings or explicitly select the grouping columns after groupby to silence this warning.\n",
      "  df.groupby(\"minute\")\n"
     ]
    },
    {
     "name": "stdout",
     "output_type": "stream",
     "text": [
      "Processed data saved for company: ABT\n",
      "Processing data for company: ACE\n"
     ]
    },
    {
     "name": "stderr",
     "output_type": "stream",
     "text": [
      "/var/folders/m4/7y6r9d5x1f9g7xkd8133tc2r0000gn/T/ipykernel_6567/1531866637.py:22: FutureWarning: 'T' is deprecated and will be removed in a future version, please use 'min' instead.\n",
      "  df['minute'] = df['datetime'].dt.floor('T')\n",
      "/var/folders/m4/7y6r9d5x1f9g7xkd8133tc2r0000gn/T/ipykernel_6567/1531866637.py:24: DeprecationWarning: DataFrameGroupBy.apply operated on the grouping columns. This behavior is deprecated, and in a future version of pandas the grouping columns will be excluded from the operation. Either pass `include_groups=False` to exclude the groupings or explicitly select the grouping columns after groupby to silence this warning.\n",
      "  df.groupby(\"minute\")\n"
     ]
    },
    {
     "name": "stdout",
     "output_type": "stream",
     "text": [
      "Processed data saved for company: ACE\n",
      "Processing data for company: ACL\n"
     ]
    },
    {
     "name": "stderr",
     "output_type": "stream",
     "text": [
      "/var/folders/m4/7y6r9d5x1f9g7xkd8133tc2r0000gn/T/ipykernel_6567/1531866637.py:22: FutureWarning: 'T' is deprecated and will be removed in a future version, please use 'min' instead.\n",
      "  df['minute'] = df['datetime'].dt.floor('T')\n",
      "/var/folders/m4/7y6r9d5x1f9g7xkd8133tc2r0000gn/T/ipykernel_6567/1531866637.py:24: DeprecationWarning: DataFrameGroupBy.apply operated on the grouping columns. This behavior is deprecated, and in a future version of pandas the grouping columns will be excluded from the operation. Either pass `include_groups=False` to exclude the groupings or explicitly select the grouping columns after groupby to silence this warning.\n",
      "  df.groupby(\"minute\")\n"
     ]
    },
    {
     "name": "stdout",
     "output_type": "stream",
     "text": [
      "Processed data saved for company: ACL\n",
      "Processing data for company: ACN\n"
     ]
    },
    {
     "name": "stderr",
     "output_type": "stream",
     "text": [
      "/var/folders/m4/7y6r9d5x1f9g7xkd8133tc2r0000gn/T/ipykernel_6567/1531866637.py:22: FutureWarning: 'T' is deprecated and will be removed in a future version, please use 'min' instead.\n",
      "  df['minute'] = df['datetime'].dt.floor('T')\n",
      "/var/folders/m4/7y6r9d5x1f9g7xkd8133tc2r0000gn/T/ipykernel_6567/1531866637.py:24: DeprecationWarning: DataFrameGroupBy.apply operated on the grouping columns. This behavior is deprecated, and in a future version of pandas the grouping columns will be excluded from the operation. Either pass `include_groups=False` to exclude the groupings or explicitly select the grouping columns after groupby to silence this warning.\n",
      "  df.groupby(\"minute\")\n"
     ]
    },
    {
     "name": "stdout",
     "output_type": "stream",
     "text": [
      "Processed data saved for company: ACN\n",
      "Processing data for company: ADI\n"
     ]
    },
    {
     "name": "stderr",
     "output_type": "stream",
     "text": [
      "/var/folders/m4/7y6r9d5x1f9g7xkd8133tc2r0000gn/T/ipykernel_6567/1531866637.py:22: FutureWarning: 'T' is deprecated and will be removed in a future version, please use 'min' instead.\n",
      "  df['minute'] = df['datetime'].dt.floor('T')\n",
      "/var/folders/m4/7y6r9d5x1f9g7xkd8133tc2r0000gn/T/ipykernel_6567/1531866637.py:24: DeprecationWarning: DataFrameGroupBy.apply operated on the grouping columns. This behavior is deprecated, and in a future version of pandas the grouping columns will be excluded from the operation. Either pass `include_groups=False` to exclude the groupings or explicitly select the grouping columns after groupby to silence this warning.\n",
      "  df.groupby(\"minute\")\n"
     ]
    },
    {
     "name": "stdout",
     "output_type": "stream",
     "text": [
      "Processed data saved for company: ADI\n",
      "Processing data for company: ADM\n"
     ]
    },
    {
     "name": "stderr",
     "output_type": "stream",
     "text": [
      "/var/folders/m4/7y6r9d5x1f9g7xkd8133tc2r0000gn/T/ipykernel_6567/1531866637.py:22: FutureWarning: 'T' is deprecated and will be removed in a future version, please use 'min' instead.\n",
      "  df['minute'] = df['datetime'].dt.floor('T')\n",
      "/var/folders/m4/7y6r9d5x1f9g7xkd8133tc2r0000gn/T/ipykernel_6567/1531866637.py:24: DeprecationWarning: DataFrameGroupBy.apply operated on the grouping columns. This behavior is deprecated, and in a future version of pandas the grouping columns will be excluded from the operation. Either pass `include_groups=False` to exclude the groupings or explicitly select the grouping columns after groupby to silence this warning.\n",
      "  df.groupby(\"minute\")\n"
     ]
    },
    {
     "name": "stdout",
     "output_type": "stream",
     "text": [
      "Processed data saved for company: ADM\n",
      "Processing data for company: ADS\n"
     ]
    },
    {
     "name": "stderr",
     "output_type": "stream",
     "text": [
      "/var/folders/m4/7y6r9d5x1f9g7xkd8133tc2r0000gn/T/ipykernel_6567/1531866637.py:22: FutureWarning: 'T' is deprecated and will be removed in a future version, please use 'min' instead.\n",
      "  df['minute'] = df['datetime'].dt.floor('T')\n",
      "/var/folders/m4/7y6r9d5x1f9g7xkd8133tc2r0000gn/T/ipykernel_6567/1531866637.py:24: DeprecationWarning: DataFrameGroupBy.apply operated on the grouping columns. This behavior is deprecated, and in a future version of pandas the grouping columns will be excluded from the operation. Either pass `include_groups=False` to exclude the groupings or explicitly select the grouping columns after groupby to silence this warning.\n",
      "  df.groupby(\"minute\")\n"
     ]
    },
    {
     "name": "stdout",
     "output_type": "stream",
     "text": [
      "Processed data saved for company: ADS\n",
      "Processing data for company: AEE\n"
     ]
    },
    {
     "name": "stderr",
     "output_type": "stream",
     "text": [
      "/var/folders/m4/7y6r9d5x1f9g7xkd8133tc2r0000gn/T/ipykernel_6567/1531866637.py:22: FutureWarning: 'T' is deprecated and will be removed in a future version, please use 'min' instead.\n",
      "  df['minute'] = df['datetime'].dt.floor('T')\n",
      "/var/folders/m4/7y6r9d5x1f9g7xkd8133tc2r0000gn/T/ipykernel_6567/1531866637.py:24: DeprecationWarning: DataFrameGroupBy.apply operated on the grouping columns. This behavior is deprecated, and in a future version of pandas the grouping columns will be excluded from the operation. Either pass `include_groups=False` to exclude the groupings or explicitly select the grouping columns after groupby to silence this warning.\n",
      "  df.groupby(\"minute\")\n"
     ]
    },
    {
     "name": "stdout",
     "output_type": "stream",
     "text": [
      "Processed data saved for company: AEE\n",
      "Processing data for company: AEP\n"
     ]
    },
    {
     "name": "stderr",
     "output_type": "stream",
     "text": [
      "/var/folders/m4/7y6r9d5x1f9g7xkd8133tc2r0000gn/T/ipykernel_6567/1531866637.py:22: FutureWarning: 'T' is deprecated and will be removed in a future version, please use 'min' instead.\n",
      "  df['minute'] = df['datetime'].dt.floor('T')\n",
      "/var/folders/m4/7y6r9d5x1f9g7xkd8133tc2r0000gn/T/ipykernel_6567/1531866637.py:24: DeprecationWarning: DataFrameGroupBy.apply operated on the grouping columns. This behavior is deprecated, and in a future version of pandas the grouping columns will be excluded from the operation. Either pass `include_groups=False` to exclude the groupings or explicitly select the grouping columns after groupby to silence this warning.\n",
      "  df.groupby(\"minute\")\n"
     ]
    },
    {
     "name": "stdout",
     "output_type": "stream",
     "text": [
      "Processed data saved for company: AEP\n",
      "Processing data for company: AES\n"
     ]
    },
    {
     "name": "stderr",
     "output_type": "stream",
     "text": [
      "/var/folders/m4/7y6r9d5x1f9g7xkd8133tc2r0000gn/T/ipykernel_6567/1531866637.py:22: FutureWarning: 'T' is deprecated and will be removed in a future version, please use 'min' instead.\n",
      "  df['minute'] = df['datetime'].dt.floor('T')\n",
      "/var/folders/m4/7y6r9d5x1f9g7xkd8133tc2r0000gn/T/ipykernel_6567/1531866637.py:24: DeprecationWarning: DataFrameGroupBy.apply operated on the grouping columns. This behavior is deprecated, and in a future version of pandas the grouping columns will be excluded from the operation. Either pass `include_groups=False` to exclude the groupings or explicitly select the grouping columns after groupby to silence this warning.\n",
      "  df.groupby(\"minute\")\n"
     ]
    },
    {
     "name": "stdout",
     "output_type": "stream",
     "text": [
      "Processed data saved for company: AES\n",
      "Processing data for company: AFL\n"
     ]
    },
    {
     "name": "stderr",
     "output_type": "stream",
     "text": [
      "/var/folders/m4/7y6r9d5x1f9g7xkd8133tc2r0000gn/T/ipykernel_6567/1531866637.py:22: FutureWarning: 'T' is deprecated and will be removed in a future version, please use 'min' instead.\n",
      "  df['minute'] = df['datetime'].dt.floor('T')\n",
      "/var/folders/m4/7y6r9d5x1f9g7xkd8133tc2r0000gn/T/ipykernel_6567/1531866637.py:24: DeprecationWarning: DataFrameGroupBy.apply operated on the grouping columns. This behavior is deprecated, and in a future version of pandas the grouping columns will be excluded from the operation. Either pass `include_groups=False` to exclude the groupings or explicitly select the grouping columns after groupby to silence this warning.\n",
      "  df.groupby(\"minute\")\n"
     ]
    },
    {
     "name": "stdout",
     "output_type": "stream",
     "text": [
      "Processed data saved for company: AFL\n",
      "Processing data for company: AGN\n"
     ]
    },
    {
     "name": "stderr",
     "output_type": "stream",
     "text": [
      "/var/folders/m4/7y6r9d5x1f9g7xkd8133tc2r0000gn/T/ipykernel_6567/1531866637.py:22: FutureWarning: 'T' is deprecated and will be removed in a future version, please use 'min' instead.\n",
      "  df['minute'] = df['datetime'].dt.floor('T')\n",
      "/var/folders/m4/7y6r9d5x1f9g7xkd8133tc2r0000gn/T/ipykernel_6567/1531866637.py:30: RuntimeWarning: invalid value encountered in scalar divide\n",
      "  \"weighted_ask_price\": (group[\"weighted_ask_price\"] * group[\"total_ask_quantity\"]).sum() / group[\"total_ask_quantity\"].sum(),\n",
      "/var/folders/m4/7y6r9d5x1f9g7xkd8133tc2r0000gn/T/ipykernel_6567/1531866637.py:24: DeprecationWarning: DataFrameGroupBy.apply operated on the grouping columns. This behavior is deprecated, and in a future version of pandas the grouping columns will be excluded from the operation. Either pass `include_groups=False` to exclude the groupings or explicitly select the grouping columns after groupby to silence this warning.\n",
      "  df.groupby(\"minute\")\n"
     ]
    },
    {
     "name": "stdout",
     "output_type": "stream",
     "text": [
      "Processed data saved for company: AGN\n",
      "Processing data for company: AHC\n"
     ]
    },
    {
     "name": "stderr",
     "output_type": "stream",
     "text": [
      "/var/folders/m4/7y6r9d5x1f9g7xkd8133tc2r0000gn/T/ipykernel_6567/1531866637.py:22: FutureWarning: 'T' is deprecated and will be removed in a future version, please use 'min' instead.\n",
      "  df['minute'] = df['datetime'].dt.floor('T')\n",
      "/var/folders/m4/7y6r9d5x1f9g7xkd8133tc2r0000gn/T/ipykernel_6567/1531866637.py:24: DeprecationWarning: DataFrameGroupBy.apply operated on the grouping columns. This behavior is deprecated, and in a future version of pandas the grouping columns will be excluded from the operation. Either pass `include_groups=False` to exclude the groupings or explicitly select the grouping columns after groupby to silence this warning.\n",
      "  df.groupby(\"minute\")\n"
     ]
    },
    {
     "name": "stdout",
     "output_type": "stream",
     "text": [
      "Processed data saved for company: AHC\n",
      "Processing data for company: AIG\n"
     ]
    },
    {
     "name": "stderr",
     "output_type": "stream",
     "text": [
      "/var/folders/m4/7y6r9d5x1f9g7xkd8133tc2r0000gn/T/ipykernel_6567/1531866637.py:22: FutureWarning: 'T' is deprecated and will be removed in a future version, please use 'min' instead.\n",
      "  df['minute'] = df['datetime'].dt.floor('T')\n",
      "/var/folders/m4/7y6r9d5x1f9g7xkd8133tc2r0000gn/T/ipykernel_6567/1531866637.py:24: DeprecationWarning: DataFrameGroupBy.apply operated on the grouping columns. This behavior is deprecated, and in a future version of pandas the grouping columns will be excluded from the operation. Either pass `include_groups=False` to exclude the groupings or explicitly select the grouping columns after groupby to silence this warning.\n",
      "  df.groupby(\"minute\")\n"
     ]
    },
    {
     "name": "stdout",
     "output_type": "stream",
     "text": [
      "Processed data saved for company: AIG\n",
      "Processing data for company: AIV\n"
     ]
    },
    {
     "name": "stderr",
     "output_type": "stream",
     "text": [
      "/var/folders/m4/7y6r9d5x1f9g7xkd8133tc2r0000gn/T/ipykernel_6567/1531866637.py:22: FutureWarning: 'T' is deprecated and will be removed in a future version, please use 'min' instead.\n",
      "  df['minute'] = df['datetime'].dt.floor('T')\n",
      "/var/folders/m4/7y6r9d5x1f9g7xkd8133tc2r0000gn/T/ipykernel_6567/1531866637.py:24: DeprecationWarning: DataFrameGroupBy.apply operated on the grouping columns. This behavior is deprecated, and in a future version of pandas the grouping columns will be excluded from the operation. Either pass `include_groups=False` to exclude the groupings or explicitly select the grouping columns after groupby to silence this warning.\n",
      "  df.groupby(\"minute\")\n"
     ]
    },
    {
     "name": "stdout",
     "output_type": "stream",
     "text": [
      "Processed data saved for company: AIV\n",
      "Processing data for company: AIZ\n"
     ]
    },
    {
     "name": "stderr",
     "output_type": "stream",
     "text": [
      "/var/folders/m4/7y6r9d5x1f9g7xkd8133tc2r0000gn/T/ipykernel_6567/1531866637.py:22: FutureWarning: 'T' is deprecated and will be removed in a future version, please use 'min' instead.\n",
      "  df['minute'] = df['datetime'].dt.floor('T')\n",
      "/var/folders/m4/7y6r9d5x1f9g7xkd8133tc2r0000gn/T/ipykernel_6567/1531866637.py:24: DeprecationWarning: DataFrameGroupBy.apply operated on the grouping columns. This behavior is deprecated, and in a future version of pandas the grouping columns will be excluded from the operation. Either pass `include_groups=False` to exclude the groupings or explicitly select the grouping columns after groupby to silence this warning.\n",
      "  df.groupby(\"minute\")\n"
     ]
    },
    {
     "name": "stdout",
     "output_type": "stream",
     "text": [
      "Processed data saved for company: AIZ\n",
      "Processing data for company: AJG\n"
     ]
    },
    {
     "name": "stderr",
     "output_type": "stream",
     "text": [
      "/var/folders/m4/7y6r9d5x1f9g7xkd8133tc2r0000gn/T/ipykernel_6567/1531866637.py:22: FutureWarning: 'T' is deprecated and will be removed in a future version, please use 'min' instead.\n",
      "  df['minute'] = df['datetime'].dt.floor('T')\n",
      "/var/folders/m4/7y6r9d5x1f9g7xkd8133tc2r0000gn/T/ipykernel_6567/1531866637.py:24: DeprecationWarning: DataFrameGroupBy.apply operated on the grouping columns. This behavior is deprecated, and in a future version of pandas the grouping columns will be excluded from the operation. Either pass `include_groups=False` to exclude the groupings or explicitly select the grouping columns after groupby to silence this warning.\n",
      "  df.groupby(\"minute\")\n"
     ]
    },
    {
     "name": "stdout",
     "output_type": "stream",
     "text": [
      "Processed data saved for company: AJG\n",
      "Processing data for company: ALB\n"
     ]
    },
    {
     "name": "stderr",
     "output_type": "stream",
     "text": [
      "/var/folders/m4/7y6r9d5x1f9g7xkd8133tc2r0000gn/T/ipykernel_6567/1531866637.py:22: FutureWarning: 'T' is deprecated and will be removed in a future version, please use 'min' instead.\n",
      "  df['minute'] = df['datetime'].dt.floor('T')\n",
      "/var/folders/m4/7y6r9d5x1f9g7xkd8133tc2r0000gn/T/ipykernel_6567/1531866637.py:24: DeprecationWarning: DataFrameGroupBy.apply operated on the grouping columns. This behavior is deprecated, and in a future version of pandas the grouping columns will be excluded from the operation. Either pass `include_groups=False` to exclude the groupings or explicitly select the grouping columns after groupby to silence this warning.\n",
      "  df.groupby(\"minute\")\n"
     ]
    },
    {
     "name": "stdout",
     "output_type": "stream",
     "text": [
      "Processed data saved for company: ALB\n",
      "Processing data for company: ALK\n"
     ]
    },
    {
     "name": "stderr",
     "output_type": "stream",
     "text": [
      "/var/folders/m4/7y6r9d5x1f9g7xkd8133tc2r0000gn/T/ipykernel_6567/1531866637.py:22: FutureWarning: 'T' is deprecated and will be removed in a future version, please use 'min' instead.\n",
      "  df['minute'] = df['datetime'].dt.floor('T')\n",
      "/var/folders/m4/7y6r9d5x1f9g7xkd8133tc2r0000gn/T/ipykernel_6567/1531866637.py:24: DeprecationWarning: DataFrameGroupBy.apply operated on the grouping columns. This behavior is deprecated, and in a future version of pandas the grouping columns will be excluded from the operation. Either pass `include_groups=False` to exclude the groupings or explicitly select the grouping columns after groupby to silence this warning.\n",
      "  df.groupby(\"minute\")\n"
     ]
    },
    {
     "name": "stdout",
     "output_type": "stream",
     "text": [
      "Processed data saved for company: ALK\n",
      "Processing data for company: ALL\n"
     ]
    },
    {
     "name": "stderr",
     "output_type": "stream",
     "text": [
      "/var/folders/m4/7y6r9d5x1f9g7xkd8133tc2r0000gn/T/ipykernel_6567/1531866637.py:22: FutureWarning: 'T' is deprecated and will be removed in a future version, please use 'min' instead.\n",
      "  df['minute'] = df['datetime'].dt.floor('T')\n",
      "/var/folders/m4/7y6r9d5x1f9g7xkd8133tc2r0000gn/T/ipykernel_6567/1531866637.py:24: DeprecationWarning: DataFrameGroupBy.apply operated on the grouping columns. This behavior is deprecated, and in a future version of pandas the grouping columns will be excluded from the operation. Either pass `include_groups=False` to exclude the groupings or explicitly select the grouping columns after groupby to silence this warning.\n",
      "  df.groupby(\"minute\")\n"
     ]
    },
    {
     "name": "stdout",
     "output_type": "stream",
     "text": [
      "Processed data saved for company: ALL\n",
      "Processing data for company: AMB\n"
     ]
    },
    {
     "name": "stderr",
     "output_type": "stream",
     "text": [
      "/var/folders/m4/7y6r9d5x1f9g7xkd8133tc2r0000gn/T/ipykernel_6567/1531866637.py:22: FutureWarning: 'T' is deprecated and will be removed in a future version, please use 'min' instead.\n",
      "  df['minute'] = df['datetime'].dt.floor('T')\n",
      "/var/folders/m4/7y6r9d5x1f9g7xkd8133tc2r0000gn/T/ipykernel_6567/1531866637.py:24: DeprecationWarning: DataFrameGroupBy.apply operated on the grouping columns. This behavior is deprecated, and in a future version of pandas the grouping columns will be excluded from the operation. Either pass `include_groups=False` to exclude the groupings or explicitly select the grouping columns after groupby to silence this warning.\n",
      "  df.groupby(\"minute\")\n"
     ]
    },
    {
     "name": "stdout",
     "output_type": "stream",
     "text": [
      "Processed data saved for company: AMB\n",
      "Processing data for company: AMD\n"
     ]
    },
    {
     "name": "stderr",
     "output_type": "stream",
     "text": [
      "/var/folders/m4/7y6r9d5x1f9g7xkd8133tc2r0000gn/T/ipykernel_6567/1531866637.py:22: FutureWarning: 'T' is deprecated and will be removed in a future version, please use 'min' instead.\n",
      "  df['minute'] = df['datetime'].dt.floor('T')\n",
      "/var/folders/m4/7y6r9d5x1f9g7xkd8133tc2r0000gn/T/ipykernel_6567/1531866637.py:24: DeprecationWarning: DataFrameGroupBy.apply operated on the grouping columns. This behavior is deprecated, and in a future version of pandas the grouping columns will be excluded from the operation. Either pass `include_groups=False` to exclude the groupings or explicitly select the grouping columns after groupby to silence this warning.\n",
      "  df.groupby(\"minute\")\n"
     ]
    },
    {
     "name": "stdout",
     "output_type": "stream",
     "text": [
      "Processed data saved for company: AMD\n",
      "Processing data for company: AME\n"
     ]
    },
    {
     "name": "stderr",
     "output_type": "stream",
     "text": [
      "/var/folders/m4/7y6r9d5x1f9g7xkd8133tc2r0000gn/T/ipykernel_6567/1531866637.py:22: FutureWarning: 'T' is deprecated and will be removed in a future version, please use 'min' instead.\n",
      "  df['minute'] = df['datetime'].dt.floor('T')\n",
      "/var/folders/m4/7y6r9d5x1f9g7xkd8133tc2r0000gn/T/ipykernel_6567/1531866637.py:24: DeprecationWarning: DataFrameGroupBy.apply operated on the grouping columns. This behavior is deprecated, and in a future version of pandas the grouping columns will be excluded from the operation. Either pass `include_groups=False` to exclude the groupings or explicitly select the grouping columns after groupby to silence this warning.\n",
      "  df.groupby(\"minute\")\n"
     ]
    },
    {
     "name": "stdout",
     "output_type": "stream",
     "text": [
      "Processed data saved for company: AME\n",
      "Processing data for company: AMP\n"
     ]
    },
    {
     "name": "stderr",
     "output_type": "stream",
     "text": [
      "/var/folders/m4/7y6r9d5x1f9g7xkd8133tc2r0000gn/T/ipykernel_6567/1531866637.py:22: FutureWarning: 'T' is deprecated and will be removed in a future version, please use 'min' instead.\n",
      "  df['minute'] = df['datetime'].dt.floor('T')\n",
      "/var/folders/m4/7y6r9d5x1f9g7xkd8133tc2r0000gn/T/ipykernel_6567/1531866637.py:24: DeprecationWarning: DataFrameGroupBy.apply operated on the grouping columns. This behavior is deprecated, and in a future version of pandas the grouping columns will be excluded from the operation. Either pass `include_groups=False` to exclude the groupings or explicitly select the grouping columns after groupby to silence this warning.\n",
      "  df.groupby(\"minute\")\n"
     ]
    },
    {
     "name": "stdout",
     "output_type": "stream",
     "text": [
      "Processed data saved for company: AMP\n",
      "Processing data for company: AMR\n"
     ]
    },
    {
     "name": "stderr",
     "output_type": "stream",
     "text": [
      "/var/folders/m4/7y6r9d5x1f9g7xkd8133tc2r0000gn/T/ipykernel_6567/1531866637.py:22: FutureWarning: 'T' is deprecated and will be removed in a future version, please use 'min' instead.\n",
      "  df['minute'] = df['datetime'].dt.floor('T')\n",
      "/var/folders/m4/7y6r9d5x1f9g7xkd8133tc2r0000gn/T/ipykernel_6567/1531866637.py:24: DeprecationWarning: DataFrameGroupBy.apply operated on the grouping columns. This behavior is deprecated, and in a future version of pandas the grouping columns will be excluded from the operation. Either pass `include_groups=False` to exclude the groupings or explicitly select the grouping columns after groupby to silence this warning.\n",
      "  df.groupby(\"minute\")\n"
     ]
    },
    {
     "name": "stdout",
     "output_type": "stream",
     "text": [
      "Processed data saved for company: AMR\n",
      "Processing data for company: AMT\n"
     ]
    },
    {
     "name": "stderr",
     "output_type": "stream",
     "text": [
      "/var/folders/m4/7y6r9d5x1f9g7xkd8133tc2r0000gn/T/ipykernel_6567/1531866637.py:22: FutureWarning: 'T' is deprecated and will be removed in a future version, please use 'min' instead.\n",
      "  df['minute'] = df['datetime'].dt.floor('T')\n",
      "/var/folders/m4/7y6r9d5x1f9g7xkd8133tc2r0000gn/T/ipykernel_6567/1531866637.py:24: DeprecationWarning: DataFrameGroupBy.apply operated on the grouping columns. This behavior is deprecated, and in a future version of pandas the grouping columns will be excluded from the operation. Either pass `include_groups=False` to exclude the groupings or explicitly select the grouping columns after groupby to silence this warning.\n",
      "  df.groupby(\"minute\")\n"
     ]
    },
    {
     "name": "stdout",
     "output_type": "stream",
     "text": [
      "Processed data saved for company: AMT\n",
      "Processing data for company: AON\n"
     ]
    },
    {
     "name": "stderr",
     "output_type": "stream",
     "text": [
      "/var/folders/m4/7y6r9d5x1f9g7xkd8133tc2r0000gn/T/ipykernel_6567/1531866637.py:22: FutureWarning: 'T' is deprecated and will be removed in a future version, please use 'min' instead.\n",
      "  df['minute'] = df['datetime'].dt.floor('T')\n",
      "/var/folders/m4/7y6r9d5x1f9g7xkd8133tc2r0000gn/T/ipykernel_6567/1531866637.py:24: DeprecationWarning: DataFrameGroupBy.apply operated on the grouping columns. This behavior is deprecated, and in a future version of pandas the grouping columns will be excluded from the operation. Either pass `include_groups=False` to exclude the groupings or explicitly select the grouping columns after groupby to silence this warning.\n",
      "  df.groupby(\"minute\")\n"
     ]
    },
    {
     "name": "stdout",
     "output_type": "stream",
     "text": [
      "Processed data saved for company: AON\n",
      "Processing data for company: AOS\n"
     ]
    },
    {
     "name": "stderr",
     "output_type": "stream",
     "text": [
      "/var/folders/m4/7y6r9d5x1f9g7xkd8133tc2r0000gn/T/ipykernel_6567/1531866637.py:22: FutureWarning: 'T' is deprecated and will be removed in a future version, please use 'min' instead.\n",
      "  df['minute'] = df['datetime'].dt.floor('T')\n",
      "/var/folders/m4/7y6r9d5x1f9g7xkd8133tc2r0000gn/T/ipykernel_6567/1531866637.py:24: DeprecationWarning: DataFrameGroupBy.apply operated on the grouping columns. This behavior is deprecated, and in a future version of pandas the grouping columns will be excluded from the operation. Either pass `include_groups=False` to exclude the groupings or explicitly select the grouping columns after groupby to silence this warning.\n",
      "  df.groupby(\"minute\")\n"
     ]
    },
    {
     "name": "stdout",
     "output_type": "stream",
     "text": [
      "Processed data saved for company: AOS\n",
      "Processing data for company: APA\n"
     ]
    },
    {
     "name": "stderr",
     "output_type": "stream",
     "text": [
      "/var/folders/m4/7y6r9d5x1f9g7xkd8133tc2r0000gn/T/ipykernel_6567/1531866637.py:22: FutureWarning: 'T' is deprecated and will be removed in a future version, please use 'min' instead.\n",
      "  df['minute'] = df['datetime'].dt.floor('T')\n",
      "/var/folders/m4/7y6r9d5x1f9g7xkd8133tc2r0000gn/T/ipykernel_6567/1531866637.py:24: DeprecationWarning: DataFrameGroupBy.apply operated on the grouping columns. This behavior is deprecated, and in a future version of pandas the grouping columns will be excluded from the operation. Either pass `include_groups=False` to exclude the groupings or explicitly select the grouping columns after groupby to silence this warning.\n",
      "  df.groupby(\"minute\")\n"
     ]
    },
    {
     "name": "stdout",
     "output_type": "stream",
     "text": [
      "Processed data saved for company: APA\n",
      "Processing data for company: APD\n"
     ]
    },
    {
     "name": "stderr",
     "output_type": "stream",
     "text": [
      "/var/folders/m4/7y6r9d5x1f9g7xkd8133tc2r0000gn/T/ipykernel_6567/1531866637.py:22: FutureWarning: 'T' is deprecated and will be removed in a future version, please use 'min' instead.\n",
      "  df['minute'] = df['datetime'].dt.floor('T')\n",
      "/var/folders/m4/7y6r9d5x1f9g7xkd8133tc2r0000gn/T/ipykernel_6567/1531866637.py:24: DeprecationWarning: DataFrameGroupBy.apply operated on the grouping columns. This behavior is deprecated, and in a future version of pandas the grouping columns will be excluded from the operation. Either pass `include_groups=False` to exclude the groupings or explicitly select the grouping columns after groupby to silence this warning.\n",
      "  df.groupby(\"minute\")\n"
     ]
    },
    {
     "name": "stdout",
     "output_type": "stream",
     "text": [
      "Processed data saved for company: APD\n",
      "Processing data for company: APH\n"
     ]
    },
    {
     "name": "stderr",
     "output_type": "stream",
     "text": [
      "/var/folders/m4/7y6r9d5x1f9g7xkd8133tc2r0000gn/T/ipykernel_6567/1531866637.py:22: FutureWarning: 'T' is deprecated and will be removed in a future version, please use 'min' instead.\n",
      "  df['minute'] = df['datetime'].dt.floor('T')\n",
      "/var/folders/m4/7y6r9d5x1f9g7xkd8133tc2r0000gn/T/ipykernel_6567/1531866637.py:24: DeprecationWarning: DataFrameGroupBy.apply operated on the grouping columns. This behavior is deprecated, and in a future version of pandas the grouping columns will be excluded from the operation. Either pass `include_groups=False` to exclude the groupings or explicitly select the grouping columns after groupby to silence this warning.\n",
      "  df.groupby(\"minute\")\n"
     ]
    },
    {
     "name": "stdout",
     "output_type": "stream",
     "text": [
      "Processed data saved for company: APH\n",
      "Processing data for company: ARE\n"
     ]
    },
    {
     "name": "stderr",
     "output_type": "stream",
     "text": [
      "/var/folders/m4/7y6r9d5x1f9g7xkd8133tc2r0000gn/T/ipykernel_6567/1531866637.py:22: FutureWarning: 'T' is deprecated and will be removed in a future version, please use 'min' instead.\n",
      "  df['minute'] = df['datetime'].dt.floor('T')\n",
      "/var/folders/m4/7y6r9d5x1f9g7xkd8133tc2r0000gn/T/ipykernel_6567/1531866637.py:24: DeprecationWarning: DataFrameGroupBy.apply operated on the grouping columns. This behavior is deprecated, and in a future version of pandas the grouping columns will be excluded from the operation. Either pass `include_groups=False` to exclude the groupings or explicitly select the grouping columns after groupby to silence this warning.\n",
      "  df.groupby(\"minute\")\n"
     ]
    },
    {
     "name": "stdout",
     "output_type": "stream",
     "text": [
      "Processed data saved for company: ARE\n",
      "Processing data for company: ATO\n"
     ]
    },
    {
     "name": "stderr",
     "output_type": "stream",
     "text": [
      "/var/folders/m4/7y6r9d5x1f9g7xkd8133tc2r0000gn/T/ipykernel_6567/1531866637.py:22: FutureWarning: 'T' is deprecated and will be removed in a future version, please use 'min' instead.\n",
      "  df['minute'] = df['datetime'].dt.floor('T')\n",
      "/var/folders/m4/7y6r9d5x1f9g7xkd8133tc2r0000gn/T/ipykernel_6567/1531866637.py:24: DeprecationWarning: DataFrameGroupBy.apply operated on the grouping columns. This behavior is deprecated, and in a future version of pandas the grouping columns will be excluded from the operation. Either pass `include_groups=False` to exclude the groupings or explicitly select the grouping columns after groupby to silence this warning.\n",
      "  df.groupby(\"minute\")\n"
     ]
    },
    {
     "name": "stdout",
     "output_type": "stream",
     "text": [
      "Processed data saved for company: ATO\n",
      "Processing data for company: AVB\n"
     ]
    },
    {
     "name": "stderr",
     "output_type": "stream",
     "text": [
      "/var/folders/m4/7y6r9d5x1f9g7xkd8133tc2r0000gn/T/ipykernel_6567/1531866637.py:22: FutureWarning: 'T' is deprecated and will be removed in a future version, please use 'min' instead.\n",
      "  df['minute'] = df['datetime'].dt.floor('T')\n",
      "/var/folders/m4/7y6r9d5x1f9g7xkd8133tc2r0000gn/T/ipykernel_6567/1531866637.py:24: DeprecationWarning: DataFrameGroupBy.apply operated on the grouping columns. This behavior is deprecated, and in a future version of pandas the grouping columns will be excluded from the operation. Either pass `include_groups=False` to exclude the groupings or explicitly select the grouping columns after groupby to silence this warning.\n",
      "  df.groupby(\"minute\")\n"
     ]
    },
    {
     "name": "stdout",
     "output_type": "stream",
     "text": [
      "Processed data saved for company: AVB\n",
      "Processing data for company: AVY\n"
     ]
    },
    {
     "name": "stderr",
     "output_type": "stream",
     "text": [
      "/var/folders/m4/7y6r9d5x1f9g7xkd8133tc2r0000gn/T/ipykernel_6567/1531866637.py:22: FutureWarning: 'T' is deprecated and will be removed in a future version, please use 'min' instead.\n",
      "  df['minute'] = df['datetime'].dt.floor('T')\n",
      "/var/folders/m4/7y6r9d5x1f9g7xkd8133tc2r0000gn/T/ipykernel_6567/1531866637.py:24: DeprecationWarning: DataFrameGroupBy.apply operated on the grouping columns. This behavior is deprecated, and in a future version of pandas the grouping columns will be excluded from the operation. Either pass `include_groups=False` to exclude the groupings or explicitly select the grouping columns after groupby to silence this warning.\n",
      "  df.groupby(\"minute\")\n"
     ]
    },
    {
     "name": "stdout",
     "output_type": "stream",
     "text": [
      "Processed data saved for company: AVY\n",
      "Processing data for company: AWK\n"
     ]
    },
    {
     "name": "stderr",
     "output_type": "stream",
     "text": [
      "/var/folders/m4/7y6r9d5x1f9g7xkd8133tc2r0000gn/T/ipykernel_6567/1531866637.py:22: FutureWarning: 'T' is deprecated and will be removed in a future version, please use 'min' instead.\n",
      "  df['minute'] = df['datetime'].dt.floor('T')\n",
      "/var/folders/m4/7y6r9d5x1f9g7xkd8133tc2r0000gn/T/ipykernel_6567/1531866637.py:24: DeprecationWarning: DataFrameGroupBy.apply operated on the grouping columns. This behavior is deprecated, and in a future version of pandas the grouping columns will be excluded from the operation. Either pass `include_groups=False` to exclude the groupings or explicitly select the grouping columns after groupby to silence this warning.\n",
      "  df.groupby(\"minute\")\n"
     ]
    },
    {
     "name": "stdout",
     "output_type": "stream",
     "text": [
      "Processed data saved for company: AWK\n",
      "Processing data for company: AXP\n"
     ]
    },
    {
     "name": "stderr",
     "output_type": "stream",
     "text": [
      "/var/folders/m4/7y6r9d5x1f9g7xkd8133tc2r0000gn/T/ipykernel_6567/1531866637.py:22: FutureWarning: 'T' is deprecated and will be removed in a future version, please use 'min' instead.\n",
      "  df['minute'] = df['datetime'].dt.floor('T')\n",
      "/var/folders/m4/7y6r9d5x1f9g7xkd8133tc2r0000gn/T/ipykernel_6567/1531866637.py:27: RuntimeWarning: invalid value encountered in scalar divide\n",
      "  \"weighted_bid_price\": (group[\"weighted_bid_price\"] * group[\"total_bid_quantity\"]).sum() / group[\"total_bid_quantity\"].sum(),\n",
      "/var/folders/m4/7y6r9d5x1f9g7xkd8133tc2r0000gn/T/ipykernel_6567/1531866637.py:24: DeprecationWarning: DataFrameGroupBy.apply operated on the grouping columns. This behavior is deprecated, and in a future version of pandas the grouping columns will be excluded from the operation. Either pass `include_groups=False` to exclude the groupings or explicitly select the grouping columns after groupby to silence this warning.\n",
      "  df.groupby(\"minute\")\n"
     ]
    },
    {
     "name": "stdout",
     "output_type": "stream",
     "text": [
      "Processed data saved for company: AXP\n",
      "Processing data for company: AZO\n"
     ]
    },
    {
     "name": "stderr",
     "output_type": "stream",
     "text": [
      "/var/folders/m4/7y6r9d5x1f9g7xkd8133tc2r0000gn/T/ipykernel_6567/1531866637.py:22: FutureWarning: 'T' is deprecated and will be removed in a future version, please use 'min' instead.\n",
      "  df['minute'] = df['datetime'].dt.floor('T')\n",
      "/var/folders/m4/7y6r9d5x1f9g7xkd8133tc2r0000gn/T/ipykernel_6567/1531866637.py:30: RuntimeWarning: invalid value encountered in scalar divide\n",
      "  \"weighted_ask_price\": (group[\"weighted_ask_price\"] * group[\"total_ask_quantity\"]).sum() / group[\"total_ask_quantity\"].sum(),\n",
      "/var/folders/m4/7y6r9d5x1f9g7xkd8133tc2r0000gn/T/ipykernel_6567/1531866637.py:24: DeprecationWarning: DataFrameGroupBy.apply operated on the grouping columns. This behavior is deprecated, and in a future version of pandas the grouping columns will be excluded from the operation. Either pass `include_groups=False` to exclude the groupings or explicitly select the grouping columns after groupby to silence this warning.\n",
      "  df.groupby(\"minute\")\n"
     ]
    },
    {
     "name": "stdout",
     "output_type": "stream",
     "text": [
      "Processed data saved for company: AZO\n",
      "Processing data for company: BA\n"
     ]
    },
    {
     "name": "stderr",
     "output_type": "stream",
     "text": [
      "/var/folders/m4/7y6r9d5x1f9g7xkd8133tc2r0000gn/T/ipykernel_6567/1531866637.py:22: FutureWarning: 'T' is deprecated and will be removed in a future version, please use 'min' instead.\n",
      "  df['minute'] = df['datetime'].dt.floor('T')\n",
      "/var/folders/m4/7y6r9d5x1f9g7xkd8133tc2r0000gn/T/ipykernel_6567/1531866637.py:24: DeprecationWarning: DataFrameGroupBy.apply operated on the grouping columns. This behavior is deprecated, and in a future version of pandas the grouping columns will be excluded from the operation. Either pass `include_groups=False` to exclude the groupings or explicitly select the grouping columns after groupby to silence this warning.\n",
      "  df.groupby(\"minute\")\n"
     ]
    },
    {
     "name": "stdout",
     "output_type": "stream",
     "text": [
      "Processed data saved for company: BA\n",
      "Processing data for company: BAC\n"
     ]
    },
    {
     "name": "stderr",
     "output_type": "stream",
     "text": [
      "/var/folders/m4/7y6r9d5x1f9g7xkd8133tc2r0000gn/T/ipykernel_6567/1531866637.py:22: FutureWarning: 'T' is deprecated and will be removed in a future version, please use 'min' instead.\n",
      "  df['minute'] = df['datetime'].dt.floor('T')\n",
      "/var/folders/m4/7y6r9d5x1f9g7xkd8133tc2r0000gn/T/ipykernel_6567/1531866637.py:30: RuntimeWarning: invalid value encountered in scalar divide\n",
      "  \"weighted_ask_price\": (group[\"weighted_ask_price\"] * group[\"total_ask_quantity\"]).sum() / group[\"total_ask_quantity\"].sum(),\n",
      "/var/folders/m4/7y6r9d5x1f9g7xkd8133tc2r0000gn/T/ipykernel_6567/1531866637.py:27: RuntimeWarning: invalid value encountered in scalar divide\n",
      "  \"weighted_bid_price\": (group[\"weighted_bid_price\"] * group[\"total_bid_quantity\"]).sum() / group[\"total_bid_quantity\"].sum(),\n",
      "/var/folders/m4/7y6r9d5x1f9g7xkd8133tc2r0000gn/T/ipykernel_6567/1531866637.py:24: DeprecationWarning: DataFrameGroupBy.apply operated on the grouping columns. This behavior is deprecated, and in a future version of pandas the grouping columns will be excluded from the operation. Either pass `include_groups=False` to exclude the groupings or explicitly select the grouping columns after groupby to silence this warning.\n",
      "  df.groupby(\"minute\")\n"
     ]
    },
    {
     "name": "stdout",
     "output_type": "stream",
     "text": [
      "Processed data saved for company: BAC\n",
      "Processing data for company: BAX\n"
     ]
    },
    {
     "name": "stderr",
     "output_type": "stream",
     "text": [
      "/var/folders/m4/7y6r9d5x1f9g7xkd8133tc2r0000gn/T/ipykernel_6567/1531866637.py:22: FutureWarning: 'T' is deprecated and will be removed in a future version, please use 'min' instead.\n",
      "  df['minute'] = df['datetime'].dt.floor('T')\n",
      "/var/folders/m4/7y6r9d5x1f9g7xkd8133tc2r0000gn/T/ipykernel_6567/1531866637.py:24: DeprecationWarning: DataFrameGroupBy.apply operated on the grouping columns. This behavior is deprecated, and in a future version of pandas the grouping columns will be excluded from the operation. Either pass `include_groups=False` to exclude the groupings or explicitly select the grouping columns after groupby to silence this warning.\n",
      "  df.groupby(\"minute\")\n"
     ]
    },
    {
     "name": "stdout",
     "output_type": "stream",
     "text": [
      "Processed data saved for company: BAX\n",
      "Processing data for company: BBY\n"
     ]
    },
    {
     "name": "stderr",
     "output_type": "stream",
     "text": [
      "/var/folders/m4/7y6r9d5x1f9g7xkd8133tc2r0000gn/T/ipykernel_6567/1531866637.py:22: FutureWarning: 'T' is deprecated and will be removed in a future version, please use 'min' instead.\n",
      "  df['minute'] = df['datetime'].dt.floor('T')\n",
      "/var/folders/m4/7y6r9d5x1f9g7xkd8133tc2r0000gn/T/ipykernel_6567/1531866637.py:24: DeprecationWarning: DataFrameGroupBy.apply operated on the grouping columns. This behavior is deprecated, and in a future version of pandas the grouping columns will be excluded from the operation. Either pass `include_groups=False` to exclude the groupings or explicitly select the grouping columns after groupby to silence this warning.\n",
      "  df.groupby(\"minute\")\n"
     ]
    },
    {
     "name": "stdout",
     "output_type": "stream",
     "text": [
      "Processed data saved for company: BBY\n",
      "Processing data for company: BDX\n"
     ]
    },
    {
     "name": "stderr",
     "output_type": "stream",
     "text": [
      "/var/folders/m4/7y6r9d5x1f9g7xkd8133tc2r0000gn/T/ipykernel_6567/1531866637.py:22: FutureWarning: 'T' is deprecated and will be removed in a future version, please use 'min' instead.\n",
      "  df['minute'] = df['datetime'].dt.floor('T')\n",
      "/var/folders/m4/7y6r9d5x1f9g7xkd8133tc2r0000gn/T/ipykernel_6567/1531866637.py:30: RuntimeWarning: invalid value encountered in scalar divide\n",
      "  \"weighted_ask_price\": (group[\"weighted_ask_price\"] * group[\"total_ask_quantity\"]).sum() / group[\"total_ask_quantity\"].sum(),\n",
      "/var/folders/m4/7y6r9d5x1f9g7xkd8133tc2r0000gn/T/ipykernel_6567/1531866637.py:24: DeprecationWarning: DataFrameGroupBy.apply operated on the grouping columns. This behavior is deprecated, and in a future version of pandas the grouping columns will be excluded from the operation. Either pass `include_groups=False` to exclude the groupings or explicitly select the grouping columns after groupby to silence this warning.\n",
      "  df.groupby(\"minute\")\n"
     ]
    },
    {
     "name": "stdout",
     "output_type": "stream",
     "text": [
      "Processed data saved for company: BDX\n",
      "Processing data for company: BEN\n"
     ]
    },
    {
     "name": "stderr",
     "output_type": "stream",
     "text": [
      "/var/folders/m4/7y6r9d5x1f9g7xkd8133tc2r0000gn/T/ipykernel_6567/1531866637.py:22: FutureWarning: 'T' is deprecated and will be removed in a future version, please use 'min' instead.\n",
      "  df['minute'] = df['datetime'].dt.floor('T')\n",
      "/var/folders/m4/7y6r9d5x1f9g7xkd8133tc2r0000gn/T/ipykernel_6567/1531866637.py:24: DeprecationWarning: DataFrameGroupBy.apply operated on the grouping columns. This behavior is deprecated, and in a future version of pandas the grouping columns will be excluded from the operation. Either pass `include_groups=False` to exclude the groupings or explicitly select the grouping columns after groupby to silence this warning.\n",
      "  df.groupby(\"minute\")\n"
     ]
    },
    {
     "name": "stdout",
     "output_type": "stream",
     "text": [
      "Processed data saved for company: BEN\n",
      "Processing data for company: BFO\n",
      "Processed data saved for company: BFO\n",
      "Processing data for company: BH\n"
     ]
    },
    {
     "name": "stderr",
     "output_type": "stream",
     "text": [
      "/var/folders/m4/7y6r9d5x1f9g7xkd8133tc2r0000gn/T/ipykernel_6567/1531866637.py:22: FutureWarning: 'T' is deprecated and will be removed in a future version, please use 'min' instead.\n",
      "  df['minute'] = df['datetime'].dt.floor('T')\n",
      "/var/folders/m4/7y6r9d5x1f9g7xkd8133tc2r0000gn/T/ipykernel_6567/1531866637.py:24: DeprecationWarning: DataFrameGroupBy.apply operated on the grouping columns. This behavior is deprecated, and in a future version of pandas the grouping columns will be excluded from the operation. Either pass `include_groups=False` to exclude the groupings or explicitly select the grouping columns after groupby to silence this warning.\n",
      "  df.groupby(\"minute\")\n",
      "/var/folders/m4/7y6r9d5x1f9g7xkd8133tc2r0000gn/T/ipykernel_6567/1531866637.py:22: FutureWarning: 'T' is deprecated and will be removed in a future version, please use 'min' instead.\n",
      "  df['minute'] = df['datetime'].dt.floor('T')\n",
      "/var/folders/m4/7y6r9d5x1f9g7xkd8133tc2r0000gn/T/ipykernel_6567/1531866637.py:24: DeprecationWarning: DataFrameGroupBy.apply operated on the grouping columns. This behavior is deprecated, and in a future version of pandas the grouping columns will be excluded from the operation. Either pass `include_groups=False` to exclude the groupings or explicitly select the grouping columns after groupby to silence this warning.\n",
      "  df.groupby(\"minute\")\n"
     ]
    },
    {
     "name": "stdout",
     "output_type": "stream",
     "text": [
      "Processed data saved for company: BH\n",
      "Processing data for company: BK\n"
     ]
    },
    {
     "name": "stderr",
     "output_type": "stream",
     "text": [
      "/var/folders/m4/7y6r9d5x1f9g7xkd8133tc2r0000gn/T/ipykernel_6567/1531866637.py:22: FutureWarning: 'T' is deprecated and will be removed in a future version, please use 'min' instead.\n",
      "  df['minute'] = df['datetime'].dt.floor('T')\n",
      "/var/folders/m4/7y6r9d5x1f9g7xkd8133tc2r0000gn/T/ipykernel_6567/1531866637.py:24: DeprecationWarning: DataFrameGroupBy.apply operated on the grouping columns. This behavior is deprecated, and in a future version of pandas the grouping columns will be excluded from the operation. Either pass `include_groups=False` to exclude the groupings or explicitly select the grouping columns after groupby to silence this warning.\n",
      "  df.groupby(\"minute\")\n"
     ]
    },
    {
     "name": "stdout",
     "output_type": "stream",
     "text": [
      "Processed data saved for company: BK\n",
      "Processing data for company: BKR\n"
     ]
    },
    {
     "name": "stderr",
     "output_type": "stream",
     "text": [
      "/var/folders/m4/7y6r9d5x1f9g7xkd8133tc2r0000gn/T/ipykernel_6567/1531866637.py:22: FutureWarning: 'T' is deprecated and will be removed in a future version, please use 'min' instead.\n",
      "  df['minute'] = df['datetime'].dt.floor('T')\n",
      "/var/folders/m4/7y6r9d5x1f9g7xkd8133tc2r0000gn/T/ipykernel_6567/1531866637.py:24: DeprecationWarning: DataFrameGroupBy.apply operated on the grouping columns. This behavior is deprecated, and in a future version of pandas the grouping columns will be excluded from the operation. Either pass `include_groups=False` to exclude the groupings or explicitly select the grouping columns after groupby to silence this warning.\n",
      "  df.groupby(\"minute\")\n"
     ]
    },
    {
     "name": "stdout",
     "output_type": "stream",
     "text": [
      "Processed data saved for company: BKR\n",
      "Processing data for company: BLK\n"
     ]
    },
    {
     "name": "stderr",
     "output_type": "stream",
     "text": [
      "/var/folders/m4/7y6r9d5x1f9g7xkd8133tc2r0000gn/T/ipykernel_6567/1531866637.py:22: FutureWarning: 'T' is deprecated and will be removed in a future version, please use 'min' instead.\n",
      "  df['minute'] = df['datetime'].dt.floor('T')\n",
      "/var/folders/m4/7y6r9d5x1f9g7xkd8133tc2r0000gn/T/ipykernel_6567/1531866637.py:24: DeprecationWarning: DataFrameGroupBy.apply operated on the grouping columns. This behavior is deprecated, and in a future version of pandas the grouping columns will be excluded from the operation. Either pass `include_groups=False` to exclude the groupings or explicitly select the grouping columns after groupby to silence this warning.\n",
      "  df.groupby(\"minute\")\n"
     ]
    },
    {
     "name": "stdout",
     "output_type": "stream",
     "text": [
      "Processed data saved for company: BLK\n",
      "Processing data for company: BLL\n"
     ]
    },
    {
     "name": "stderr",
     "output_type": "stream",
     "text": [
      "/var/folders/m4/7y6r9d5x1f9g7xkd8133tc2r0000gn/T/ipykernel_6567/1531866637.py:22: FutureWarning: 'T' is deprecated and will be removed in a future version, please use 'min' instead.\n",
      "  df['minute'] = df['datetime'].dt.floor('T')\n",
      "/var/folders/m4/7y6r9d5x1f9g7xkd8133tc2r0000gn/T/ipykernel_6567/1531866637.py:24: DeprecationWarning: DataFrameGroupBy.apply operated on the grouping columns. This behavior is deprecated, and in a future version of pandas the grouping columns will be excluded from the operation. Either pass `include_groups=False` to exclude the groupings or explicitly select the grouping columns after groupby to silence this warning.\n",
      "  df.groupby(\"minute\")\n"
     ]
    },
    {
     "name": "stdout",
     "output_type": "stream",
     "text": [
      "Processed data saved for company: BLL\n",
      "Processing data for company: BMY\n"
     ]
    },
    {
     "name": "stderr",
     "output_type": "stream",
     "text": [
      "/var/folders/m4/7y6r9d5x1f9g7xkd8133tc2r0000gn/T/ipykernel_6567/1531866637.py:22: FutureWarning: 'T' is deprecated and will be removed in a future version, please use 'min' instead.\n",
      "  df['minute'] = df['datetime'].dt.floor('T')\n",
      "/var/folders/m4/7y6r9d5x1f9g7xkd8133tc2r0000gn/T/ipykernel_6567/1531866637.py:24: DeprecationWarning: DataFrameGroupBy.apply operated on the grouping columns. This behavior is deprecated, and in a future version of pandas the grouping columns will be excluded from the operation. Either pass `include_groups=False` to exclude the groupings or explicitly select the grouping columns after groupby to silence this warning.\n",
      "  df.groupby(\"minute\")\n"
     ]
    },
    {
     "name": "stdout",
     "output_type": "stream",
     "text": [
      "Processed data saved for company: BMY\n",
      "Processing data for company: BR\n"
     ]
    },
    {
     "name": "stderr",
     "output_type": "stream",
     "text": [
      "/var/folders/m4/7y6r9d5x1f9g7xkd8133tc2r0000gn/T/ipykernel_6567/1531866637.py:22: FutureWarning: 'T' is deprecated and will be removed in a future version, please use 'min' instead.\n",
      "  df['minute'] = df['datetime'].dt.floor('T')\n",
      "/var/folders/m4/7y6r9d5x1f9g7xkd8133tc2r0000gn/T/ipykernel_6567/1531866637.py:24: DeprecationWarning: DataFrameGroupBy.apply operated on the grouping columns. This behavior is deprecated, and in a future version of pandas the grouping columns will be excluded from the operation. Either pass `include_groups=False` to exclude the groupings or explicitly select the grouping columns after groupby to silence this warning.\n",
      "  df.groupby(\"minute\")\n"
     ]
    },
    {
     "name": "stdout",
     "output_type": "stream",
     "text": [
      "Processed data saved for company: BR\n",
      "Processing data for company: BSX\n"
     ]
    },
    {
     "name": "stderr",
     "output_type": "stream",
     "text": [
      "/var/folders/m4/7y6r9d5x1f9g7xkd8133tc2r0000gn/T/ipykernel_6567/1531866637.py:22: FutureWarning: 'T' is deprecated and will be removed in a future version, please use 'min' instead.\n",
      "  df['minute'] = df['datetime'].dt.floor('T')\n",
      "/var/folders/m4/7y6r9d5x1f9g7xkd8133tc2r0000gn/T/ipykernel_6567/1531866637.py:24: DeprecationWarning: DataFrameGroupBy.apply operated on the grouping columns. This behavior is deprecated, and in a future version of pandas the grouping columns will be excluded from the operation. Either pass `include_groups=False` to exclude the groupings or explicitly select the grouping columns after groupby to silence this warning.\n",
      "  df.groupby(\"minute\")\n"
     ]
    },
    {
     "name": "stdout",
     "output_type": "stream",
     "text": [
      "Processed data saved for company: BSX\n",
      "Processing data for company: BTM\n"
     ]
    },
    {
     "name": "stderr",
     "output_type": "stream",
     "text": [
      "/var/folders/m4/7y6r9d5x1f9g7xkd8133tc2r0000gn/T/ipykernel_6567/1531866637.py:22: FutureWarning: 'T' is deprecated and will be removed in a future version, please use 'min' instead.\n",
      "  df['minute'] = df['datetime'].dt.floor('T')\n",
      "/var/folders/m4/7y6r9d5x1f9g7xkd8133tc2r0000gn/T/ipykernel_6567/1531866637.py:24: DeprecationWarning: DataFrameGroupBy.apply operated on the grouping columns. This behavior is deprecated, and in a future version of pandas the grouping columns will be excluded from the operation. Either pass `include_groups=False` to exclude the groupings or explicitly select the grouping columns after groupby to silence this warning.\n",
      "  df.groupby(\"minute\")\n"
     ]
    },
    {
     "name": "stdout",
     "output_type": "stream",
     "text": [
      "Processed data saved for company: BTM\n",
      "Processing data for company: BWA\n"
     ]
    },
    {
     "name": "stderr",
     "output_type": "stream",
     "text": [
      "/var/folders/m4/7y6r9d5x1f9g7xkd8133tc2r0000gn/T/ipykernel_6567/1531866637.py:22: FutureWarning: 'T' is deprecated and will be removed in a future version, please use 'min' instead.\n",
      "  df['minute'] = df['datetime'].dt.floor('T')\n",
      "/var/folders/m4/7y6r9d5x1f9g7xkd8133tc2r0000gn/T/ipykernel_6567/1531866637.py:30: RuntimeWarning: invalid value encountered in scalar divide\n",
      "  \"weighted_ask_price\": (group[\"weighted_ask_price\"] * group[\"total_ask_quantity\"]).sum() / group[\"total_ask_quantity\"].sum(),\n",
      "/var/folders/m4/7y6r9d5x1f9g7xkd8133tc2r0000gn/T/ipykernel_6567/1531866637.py:24: DeprecationWarning: DataFrameGroupBy.apply operated on the grouping columns. This behavior is deprecated, and in a future version of pandas the grouping columns will be excluded from the operation. Either pass `include_groups=False` to exclude the groupings or explicitly select the grouping columns after groupby to silence this warning.\n",
      "  df.groupby(\"minute\")\n"
     ]
    },
    {
     "name": "stdout",
     "output_type": "stream",
     "text": [
      "Processed data saved for company: BWA\n",
      "Processing data for company: BXP\n"
     ]
    },
    {
     "name": "stderr",
     "output_type": "stream",
     "text": [
      "/var/folders/m4/7y6r9d5x1f9g7xkd8133tc2r0000gn/T/ipykernel_6567/1531866637.py:22: FutureWarning: 'T' is deprecated and will be removed in a future version, please use 'min' instead.\n",
      "  df['minute'] = df['datetime'].dt.floor('T')\n",
      "/var/folders/m4/7y6r9d5x1f9g7xkd8133tc2r0000gn/T/ipykernel_6567/1531866637.py:24: DeprecationWarning: DataFrameGroupBy.apply operated on the grouping columns. This behavior is deprecated, and in a future version of pandas the grouping columns will be excluded from the operation. Either pass `include_groups=False` to exclude the groupings or explicitly select the grouping columns after groupby to silence this warning.\n",
      "  df.groupby(\"minute\")\n"
     ]
    },
    {
     "name": "stdout",
     "output_type": "stream",
     "text": [
      "Processed data saved for company: BXP\n",
      "Processing data for company: C\n"
     ]
    },
    {
     "name": "stderr",
     "output_type": "stream",
     "text": [
      "/var/folders/m4/7y6r9d5x1f9g7xkd8133tc2r0000gn/T/ipykernel_6567/1531866637.py:22: FutureWarning: 'T' is deprecated and will be removed in a future version, please use 'min' instead.\n",
      "  df['minute'] = df['datetime'].dt.floor('T')\n",
      "/var/folders/m4/7y6r9d5x1f9g7xkd8133tc2r0000gn/T/ipykernel_6567/1531866637.py:30: RuntimeWarning: invalid value encountered in scalar divide\n",
      "  \"weighted_ask_price\": (group[\"weighted_ask_price\"] * group[\"total_ask_quantity\"]).sum() / group[\"total_ask_quantity\"].sum(),\n",
      "/var/folders/m4/7y6r9d5x1f9g7xkd8133tc2r0000gn/T/ipykernel_6567/1531866637.py:24: DeprecationWarning: DataFrameGroupBy.apply operated on the grouping columns. This behavior is deprecated, and in a future version of pandas the grouping columns will be excluded from the operation. Either pass `include_groups=False` to exclude the groupings or explicitly select the grouping columns after groupby to silence this warning.\n",
      "  df.groupby(\"minute\")\n"
     ]
    },
    {
     "name": "stdout",
     "output_type": "stream",
     "text": [
      "Processed data saved for company: C\n",
      "Processing data for company: CAG\n"
     ]
    },
    {
     "name": "stderr",
     "output_type": "stream",
     "text": [
      "/var/folders/m4/7y6r9d5x1f9g7xkd8133tc2r0000gn/T/ipykernel_6567/1531866637.py:22: FutureWarning: 'T' is deprecated and will be removed in a future version, please use 'min' instead.\n",
      "  df['minute'] = df['datetime'].dt.floor('T')\n",
      "/var/folders/m4/7y6r9d5x1f9g7xkd8133tc2r0000gn/T/ipykernel_6567/1531866637.py:24: DeprecationWarning: DataFrameGroupBy.apply operated on the grouping columns. This behavior is deprecated, and in a future version of pandas the grouping columns will be excluded from the operation. Either pass `include_groups=False` to exclude the groupings or explicitly select the grouping columns after groupby to silence this warning.\n",
      "  df.groupby(\"minute\")\n"
     ]
    },
    {
     "name": "stdout",
     "output_type": "stream",
     "text": [
      "Processed data saved for company: CAG\n",
      "Processing data for company: CAH\n"
     ]
    },
    {
     "name": "stderr",
     "output_type": "stream",
     "text": [
      "/var/folders/m4/7y6r9d5x1f9g7xkd8133tc2r0000gn/T/ipykernel_6567/1531866637.py:22: FutureWarning: 'T' is deprecated and will be removed in a future version, please use 'min' instead.\n",
      "  df['minute'] = df['datetime'].dt.floor('T')\n",
      "/var/folders/m4/7y6r9d5x1f9g7xkd8133tc2r0000gn/T/ipykernel_6567/1531866637.py:24: DeprecationWarning: DataFrameGroupBy.apply operated on the grouping columns. This behavior is deprecated, and in a future version of pandas the grouping columns will be excluded from the operation. Either pass `include_groups=False` to exclude the groupings or explicitly select the grouping columns after groupby to silence this warning.\n",
      "  df.groupby(\"minute\")\n"
     ]
    },
    {
     "name": "stdout",
     "output_type": "stream",
     "text": [
      "Processed data saved for company: CAH\n",
      "Processing data for company: CAT\n"
     ]
    },
    {
     "name": "stderr",
     "output_type": "stream",
     "text": [
      "/var/folders/m4/7y6r9d5x1f9g7xkd8133tc2r0000gn/T/ipykernel_6567/1531866637.py:22: FutureWarning: 'T' is deprecated and will be removed in a future version, please use 'min' instead.\n",
      "  df['minute'] = df['datetime'].dt.floor('T')\n",
      "/var/folders/m4/7y6r9d5x1f9g7xkd8133tc2r0000gn/T/ipykernel_6567/1531866637.py:24: DeprecationWarning: DataFrameGroupBy.apply operated on the grouping columns. This behavior is deprecated, and in a future version of pandas the grouping columns will be excluded from the operation. Either pass `include_groups=False` to exclude the groupings or explicitly select the grouping columns after groupby to silence this warning.\n",
      "  df.groupby(\"minute\")\n"
     ]
    },
    {
     "name": "stdout",
     "output_type": "stream",
     "text": [
      "Processed data saved for company: CAT\n",
      "Processing data for company: CB\n"
     ]
    },
    {
     "name": "stderr",
     "output_type": "stream",
     "text": [
      "/var/folders/m4/7y6r9d5x1f9g7xkd8133tc2r0000gn/T/ipykernel_6567/1531866637.py:22: FutureWarning: 'T' is deprecated and will be removed in a future version, please use 'min' instead.\n",
      "  df['minute'] = df['datetime'].dt.floor('T')\n",
      "/var/folders/m4/7y6r9d5x1f9g7xkd8133tc2r0000gn/T/ipykernel_6567/1531866637.py:24: DeprecationWarning: DataFrameGroupBy.apply operated on the grouping columns. This behavior is deprecated, and in a future version of pandas the grouping columns will be excluded from the operation. Either pass `include_groups=False` to exclude the groupings or explicitly select the grouping columns after groupby to silence this warning.\n",
      "  df.groupby(\"minute\")\n"
     ]
    },
    {
     "name": "stdout",
     "output_type": "stream",
     "text": [
      "Processed data saved for company: CB\n",
      "Processing data for company: CBG\n"
     ]
    },
    {
     "name": "stderr",
     "output_type": "stream",
     "text": [
      "/var/folders/m4/7y6r9d5x1f9g7xkd8133tc2r0000gn/T/ipykernel_6567/1531866637.py:22: FutureWarning: 'T' is deprecated and will be removed in a future version, please use 'min' instead.\n",
      "  df['minute'] = df['datetime'].dt.floor('T')\n",
      "/var/folders/m4/7y6r9d5x1f9g7xkd8133tc2r0000gn/T/ipykernel_6567/1531866637.py:24: DeprecationWarning: DataFrameGroupBy.apply operated on the grouping columns. This behavior is deprecated, and in a future version of pandas the grouping columns will be excluded from the operation. Either pass `include_groups=False` to exclude the groupings or explicitly select the grouping columns after groupby to silence this warning.\n",
      "  df.groupby(\"minute\")\n"
     ]
    },
    {
     "name": "stdout",
     "output_type": "stream",
     "text": [
      "Processed data saved for company: CBG\n",
      "Processing data for company: CCI\n"
     ]
    },
    {
     "name": "stderr",
     "output_type": "stream",
     "text": [
      "/var/folders/m4/7y6r9d5x1f9g7xkd8133tc2r0000gn/T/ipykernel_6567/1531866637.py:22: FutureWarning: 'T' is deprecated and will be removed in a future version, please use 'min' instead.\n",
      "  df['minute'] = df['datetime'].dt.floor('T')\n",
      "/var/folders/m4/7y6r9d5x1f9g7xkd8133tc2r0000gn/T/ipykernel_6567/1531866637.py:24: DeprecationWarning: DataFrameGroupBy.apply operated on the grouping columns. This behavior is deprecated, and in a future version of pandas the grouping columns will be excluded from the operation. Either pass `include_groups=False` to exclude the groupings or explicitly select the grouping columns after groupby to silence this warning.\n",
      "  df.groupby(\"minute\")\n"
     ]
    },
    {
     "name": "stdout",
     "output_type": "stream",
     "text": [
      "Processed data saved for company: CCI\n",
      "Processing data for company: CCL\n"
     ]
    },
    {
     "name": "stderr",
     "output_type": "stream",
     "text": [
      "/var/folders/m4/7y6r9d5x1f9g7xkd8133tc2r0000gn/T/ipykernel_6567/1531866637.py:22: FutureWarning: 'T' is deprecated and will be removed in a future version, please use 'min' instead.\n",
      "  df['minute'] = df['datetime'].dt.floor('T')\n",
      "/var/folders/m4/7y6r9d5x1f9g7xkd8133tc2r0000gn/T/ipykernel_6567/1531866637.py:30: RuntimeWarning: invalid value encountered in scalar divide\n",
      "  \"weighted_ask_price\": (group[\"weighted_ask_price\"] * group[\"total_ask_quantity\"]).sum() / group[\"total_ask_quantity\"].sum(),\n",
      "/var/folders/m4/7y6r9d5x1f9g7xkd8133tc2r0000gn/T/ipykernel_6567/1531866637.py:27: RuntimeWarning: invalid value encountered in scalar divide\n",
      "  \"weighted_bid_price\": (group[\"weighted_bid_price\"] * group[\"total_bid_quantity\"]).sum() / group[\"total_bid_quantity\"].sum(),\n",
      "/var/folders/m4/7y6r9d5x1f9g7xkd8133tc2r0000gn/T/ipykernel_6567/1531866637.py:24: DeprecationWarning: DataFrameGroupBy.apply operated on the grouping columns. This behavior is deprecated, and in a future version of pandas the grouping columns will be excluded from the operation. Either pass `include_groups=False` to exclude the groupings or explicitly select the grouping columns after groupby to silence this warning.\n",
      "  df.groupby(\"minute\")\n"
     ]
    },
    {
     "name": "stdout",
     "output_type": "stream",
     "text": [
      "Processed data saved for company: CCL\n",
      "Processing data for company: CE\n"
     ]
    },
    {
     "name": "stderr",
     "output_type": "stream",
     "text": [
      "/var/folders/m4/7y6r9d5x1f9g7xkd8133tc2r0000gn/T/ipykernel_6567/1531866637.py:22: FutureWarning: 'T' is deprecated and will be removed in a future version, please use 'min' instead.\n",
      "  df['minute'] = df['datetime'].dt.floor('T')\n",
      "/var/folders/m4/7y6r9d5x1f9g7xkd8133tc2r0000gn/T/ipykernel_6567/1531866637.py:24: DeprecationWarning: DataFrameGroupBy.apply operated on the grouping columns. This behavior is deprecated, and in a future version of pandas the grouping columns will be excluded from the operation. Either pass `include_groups=False` to exclude the groupings or explicitly select the grouping columns after groupby to silence this warning.\n",
      "  df.groupby(\"minute\")\n"
     ]
    },
    {
     "name": "stdout",
     "output_type": "stream",
     "text": [
      "Processed data saved for company: CE\n",
      "Processing data for company: CF\n"
     ]
    },
    {
     "name": "stderr",
     "output_type": "stream",
     "text": [
      "/var/folders/m4/7y6r9d5x1f9g7xkd8133tc2r0000gn/T/ipykernel_6567/1531866637.py:22: FutureWarning: 'T' is deprecated and will be removed in a future version, please use 'min' instead.\n",
      "  df['minute'] = df['datetime'].dt.floor('T')\n",
      "/var/folders/m4/7y6r9d5x1f9g7xkd8133tc2r0000gn/T/ipykernel_6567/1531866637.py:24: DeprecationWarning: DataFrameGroupBy.apply operated on the grouping columns. This behavior is deprecated, and in a future version of pandas the grouping columns will be excluded from the operation. Either pass `include_groups=False` to exclude the groupings or explicitly select the grouping columns after groupby to silence this warning.\n",
      "  df.groupby(\"minute\")\n"
     ]
    },
    {
     "name": "stdout",
     "output_type": "stream",
     "text": [
      "Processed data saved for company: CF\n",
      "Processing data for company: CHD\n"
     ]
    },
    {
     "name": "stderr",
     "output_type": "stream",
     "text": [
      "/var/folders/m4/7y6r9d5x1f9g7xkd8133tc2r0000gn/T/ipykernel_6567/1531866637.py:22: FutureWarning: 'T' is deprecated and will be removed in a future version, please use 'min' instead.\n",
      "  df['minute'] = df['datetime'].dt.floor('T')\n",
      "/var/folders/m4/7y6r9d5x1f9g7xkd8133tc2r0000gn/T/ipykernel_6567/1531866637.py:24: DeprecationWarning: DataFrameGroupBy.apply operated on the grouping columns. This behavior is deprecated, and in a future version of pandas the grouping columns will be excluded from the operation. Either pass `include_groups=False` to exclude the groupings or explicitly select the grouping columns after groupby to silence this warning.\n",
      "  df.groupby(\"minute\")\n"
     ]
    },
    {
     "name": "stdout",
     "output_type": "stream",
     "text": [
      "Processed data saved for company: CHD\n",
      "Processing data for company: CHL\n"
     ]
    },
    {
     "name": "stderr",
     "output_type": "stream",
     "text": [
      "/var/folders/m4/7y6r9d5x1f9g7xkd8133tc2r0000gn/T/ipykernel_6567/1531866637.py:22: FutureWarning: 'T' is deprecated and will be removed in a future version, please use 'min' instead.\n",
      "  df['minute'] = df['datetime'].dt.floor('T')\n",
      "/var/folders/m4/7y6r9d5x1f9g7xkd8133tc2r0000gn/T/ipykernel_6567/1531866637.py:24: DeprecationWarning: DataFrameGroupBy.apply operated on the grouping columns. This behavior is deprecated, and in a future version of pandas the grouping columns will be excluded from the operation. Either pass `include_groups=False` to exclude the groupings or explicitly select the grouping columns after groupby to silence this warning.\n",
      "  df.groupby(\"minute\")\n",
      "/var/folders/m4/7y6r9d5x1f9g7xkd8133tc2r0000gn/T/ipykernel_6567/1531866637.py:22: FutureWarning: 'T' is deprecated and will be removed in a future version, please use 'min' instead.\n",
      "  df['minute'] = df['datetime'].dt.floor('T')\n"
     ]
    },
    {
     "name": "stdout",
     "output_type": "stream",
     "text": [
      "Processed data saved for company: CHL\n",
      "Processing data for company: CHP\n"
     ]
    },
    {
     "name": "stderr",
     "output_type": "stream",
     "text": [
      "/var/folders/m4/7y6r9d5x1f9g7xkd8133tc2r0000gn/T/ipykernel_6567/1531866637.py:24: DeprecationWarning: DataFrameGroupBy.apply operated on the grouping columns. This behavior is deprecated, and in a future version of pandas the grouping columns will be excluded from the operation. Either pass `include_groups=False` to exclude the groupings or explicitly select the grouping columns after groupby to silence this warning.\n",
      "  df.groupby(\"minute\")\n"
     ]
    },
    {
     "name": "stdout",
     "output_type": "stream",
     "text": [
      "Processed data saved for company: CHP\n",
      "Processing data for company: CI\n"
     ]
    },
    {
     "name": "stderr",
     "output_type": "stream",
     "text": [
      "/var/folders/m4/7y6r9d5x1f9g7xkd8133tc2r0000gn/T/ipykernel_6567/1531866637.py:22: FutureWarning: 'T' is deprecated and will be removed in a future version, please use 'min' instead.\n",
      "  df['minute'] = df['datetime'].dt.floor('T')\n",
      "/var/folders/m4/7y6r9d5x1f9g7xkd8133tc2r0000gn/T/ipykernel_6567/1531866637.py:24: DeprecationWarning: DataFrameGroupBy.apply operated on the grouping columns. This behavior is deprecated, and in a future version of pandas the grouping columns will be excluded from the operation. Either pass `include_groups=False` to exclude the groupings or explicitly select the grouping columns after groupby to silence this warning.\n",
      "  df.groupby(\"minute\")\n"
     ]
    },
    {
     "name": "stdout",
     "output_type": "stream",
     "text": [
      "Processed data saved for company: CI\n",
      "Processing data for company: CL\n"
     ]
    },
    {
     "name": "stderr",
     "output_type": "stream",
     "text": [
      "/var/folders/m4/7y6r9d5x1f9g7xkd8133tc2r0000gn/T/ipykernel_6567/1531866637.py:22: FutureWarning: 'T' is deprecated and will be removed in a future version, please use 'min' instead.\n",
      "  df['minute'] = df['datetime'].dt.floor('T')\n",
      "/var/folders/m4/7y6r9d5x1f9g7xkd8133tc2r0000gn/T/ipykernel_6567/1531866637.py:24: DeprecationWarning: DataFrameGroupBy.apply operated on the grouping columns. This behavior is deprecated, and in a future version of pandas the grouping columns will be excluded from the operation. Either pass `include_groups=False` to exclude the groupings or explicitly select the grouping columns after groupby to silence this warning.\n",
      "  df.groupby(\"minute\")\n"
     ]
    },
    {
     "name": "stdout",
     "output_type": "stream",
     "text": [
      "Processed data saved for company: CL\n",
      "Processing data for company: CLX\n"
     ]
    },
    {
     "name": "stderr",
     "output_type": "stream",
     "text": [
      "/var/folders/m4/7y6r9d5x1f9g7xkd8133tc2r0000gn/T/ipykernel_6567/1531866637.py:22: FutureWarning: 'T' is deprecated and will be removed in a future version, please use 'min' instead.\n",
      "  df['minute'] = df['datetime'].dt.floor('T')\n",
      "/var/folders/m4/7y6r9d5x1f9g7xkd8133tc2r0000gn/T/ipykernel_6567/1531866637.py:30: RuntimeWarning: invalid value encountered in scalar divide\n",
      "  \"weighted_ask_price\": (group[\"weighted_ask_price\"] * group[\"total_ask_quantity\"]).sum() / group[\"total_ask_quantity\"].sum(),\n",
      "/var/folders/m4/7y6r9d5x1f9g7xkd8133tc2r0000gn/T/ipykernel_6567/1531866637.py:24: DeprecationWarning: DataFrameGroupBy.apply operated on the grouping columns. This behavior is deprecated, and in a future version of pandas the grouping columns will be excluded from the operation. Either pass `include_groups=False` to exclude the groupings or explicitly select the grouping columns after groupby to silence this warning.\n",
      "  df.groupby(\"minute\")\n"
     ]
    },
    {
     "name": "stdout",
     "output_type": "stream",
     "text": [
      "Processed data saved for company: CLX\n",
      "Processing data for company: CMA\n"
     ]
    },
    {
     "name": "stderr",
     "output_type": "stream",
     "text": [
      "/var/folders/m4/7y6r9d5x1f9g7xkd8133tc2r0000gn/T/ipykernel_6567/1531866637.py:22: FutureWarning: 'T' is deprecated and will be removed in a future version, please use 'min' instead.\n",
      "  df['minute'] = df['datetime'].dt.floor('T')\n",
      "/var/folders/m4/7y6r9d5x1f9g7xkd8133tc2r0000gn/T/ipykernel_6567/1531866637.py:24: DeprecationWarning: DataFrameGroupBy.apply operated on the grouping columns. This behavior is deprecated, and in a future version of pandas the grouping columns will be excluded from the operation. Either pass `include_groups=False` to exclude the groupings or explicitly select the grouping columns after groupby to silence this warning.\n",
      "  df.groupby(\"minute\")\n"
     ]
    },
    {
     "name": "stdout",
     "output_type": "stream",
     "text": [
      "Processed data saved for company: CMA\n",
      "Processing data for company: CMG\n"
     ]
    },
    {
     "name": "stderr",
     "output_type": "stream",
     "text": [
      "/var/folders/m4/7y6r9d5x1f9g7xkd8133tc2r0000gn/T/ipykernel_6567/1531866637.py:22: FutureWarning: 'T' is deprecated and will be removed in a future version, please use 'min' instead.\n",
      "  df['minute'] = df['datetime'].dt.floor('T')\n",
      "/var/folders/m4/7y6r9d5x1f9g7xkd8133tc2r0000gn/T/ipykernel_6567/1531866637.py:27: RuntimeWarning: invalid value encountered in scalar divide\n",
      "  \"weighted_bid_price\": (group[\"weighted_bid_price\"] * group[\"total_bid_quantity\"]).sum() / group[\"total_bid_quantity\"].sum(),\n",
      "/var/folders/m4/7y6r9d5x1f9g7xkd8133tc2r0000gn/T/ipykernel_6567/1531866637.py:24: DeprecationWarning: DataFrameGroupBy.apply operated on the grouping columns. This behavior is deprecated, and in a future version of pandas the grouping columns will be excluded from the operation. Either pass `include_groups=False` to exclude the groupings or explicitly select the grouping columns after groupby to silence this warning.\n",
      "  df.groupby(\"minute\")\n"
     ]
    },
    {
     "name": "stdout",
     "output_type": "stream",
     "text": [
      "Processed data saved for company: CMG\n",
      "Processing data for company: CMI\n"
     ]
    },
    {
     "name": "stderr",
     "output_type": "stream",
     "text": [
      "/var/folders/m4/7y6r9d5x1f9g7xkd8133tc2r0000gn/T/ipykernel_6567/1531866637.py:22: FutureWarning: 'T' is deprecated and will be removed in a future version, please use 'min' instead.\n",
      "  df['minute'] = df['datetime'].dt.floor('T')\n",
      "/var/folders/m4/7y6r9d5x1f9g7xkd8133tc2r0000gn/T/ipykernel_6567/1531866637.py:24: DeprecationWarning: DataFrameGroupBy.apply operated on the grouping columns. This behavior is deprecated, and in a future version of pandas the grouping columns will be excluded from the operation. Either pass `include_groups=False` to exclude the groupings or explicitly select the grouping columns after groupby to silence this warning.\n",
      "  df.groupby(\"minute\")\n"
     ]
    },
    {
     "name": "stdout",
     "output_type": "stream",
     "text": [
      "Processed data saved for company: CMI\n",
      "Processing data for company: CMS\n"
     ]
    },
    {
     "name": "stderr",
     "output_type": "stream",
     "text": [
      "/var/folders/m4/7y6r9d5x1f9g7xkd8133tc2r0000gn/T/ipykernel_6567/1531866637.py:22: FutureWarning: 'T' is deprecated and will be removed in a future version, please use 'min' instead.\n",
      "  df['minute'] = df['datetime'].dt.floor('T')\n",
      "/var/folders/m4/7y6r9d5x1f9g7xkd8133tc2r0000gn/T/ipykernel_6567/1531866637.py:24: DeprecationWarning: DataFrameGroupBy.apply operated on the grouping columns. This behavior is deprecated, and in a future version of pandas the grouping columns will be excluded from the operation. Either pass `include_groups=False` to exclude the groupings or explicitly select the grouping columns after groupby to silence this warning.\n",
      "  df.groupby(\"minute\")\n",
      "/var/folders/m4/7y6r9d5x1f9g7xkd8133tc2r0000gn/T/ipykernel_6567/1531866637.py:22: FutureWarning: 'T' is deprecated and will be removed in a future version, please use 'min' instead.\n",
      "  df['minute'] = df['datetime'].dt.floor('T')\n",
      "/var/folders/m4/7y6r9d5x1f9g7xkd8133tc2r0000gn/T/ipykernel_6567/1531866637.py:24: DeprecationWarning: DataFrameGroupBy.apply operated on the grouping columns. This behavior is deprecated, and in a future version of pandas the grouping columns will be excluded from the operation. Either pass `include_groups=False` to exclude the groupings or explicitly select the grouping columns after groupby to silence this warning.\n",
      "  df.groupby(\"minute\")\n"
     ]
    },
    {
     "name": "stdout",
     "output_type": "stream",
     "text": [
      "Processed data saved for company: CMS\n",
      "Processing data for company: CMT\n",
      "Processed data saved for company: CMT\n",
      "Processing data for company: CNC\n"
     ]
    },
    {
     "name": "stderr",
     "output_type": "stream",
     "text": [
      "/var/folders/m4/7y6r9d5x1f9g7xkd8133tc2r0000gn/T/ipykernel_6567/1531866637.py:22: FutureWarning: 'T' is deprecated and will be removed in a future version, please use 'min' instead.\n",
      "  df['minute'] = df['datetime'].dt.floor('T')\n",
      "/var/folders/m4/7y6r9d5x1f9g7xkd8133tc2r0000gn/T/ipykernel_6567/1531866637.py:24: DeprecationWarning: DataFrameGroupBy.apply operated on the grouping columns. This behavior is deprecated, and in a future version of pandas the grouping columns will be excluded from the operation. Either pass `include_groups=False` to exclude the groupings or explicitly select the grouping columns after groupby to silence this warning.\n",
      "  df.groupby(\"minute\")\n"
     ]
    },
    {
     "name": "stdout",
     "output_type": "stream",
     "text": [
      "Processed data saved for company: CNC\n",
      "Processing data for company: CNP\n"
     ]
    },
    {
     "name": "stderr",
     "output_type": "stream",
     "text": [
      "/var/folders/m4/7y6r9d5x1f9g7xkd8133tc2r0000gn/T/ipykernel_6567/1531866637.py:22: FutureWarning: 'T' is deprecated and will be removed in a future version, please use 'min' instead.\n",
      "  df['minute'] = df['datetime'].dt.floor('T')\n",
      "/var/folders/m4/7y6r9d5x1f9g7xkd8133tc2r0000gn/T/ipykernel_6567/1531866637.py:24: DeprecationWarning: DataFrameGroupBy.apply operated on the grouping columns. This behavior is deprecated, and in a future version of pandas the grouping columns will be excluded from the operation. Either pass `include_groups=False` to exclude the groupings or explicitly select the grouping columns after groupby to silence this warning.\n",
      "  df.groupby(\"minute\")\n"
     ]
    },
    {
     "name": "stdout",
     "output_type": "stream",
     "text": [
      "Processed data saved for company: CNP\n",
      "Processing data for company: COF\n"
     ]
    },
    {
     "name": "stderr",
     "output_type": "stream",
     "text": [
      "/var/folders/m4/7y6r9d5x1f9g7xkd8133tc2r0000gn/T/ipykernel_6567/1531866637.py:22: FutureWarning: 'T' is deprecated and will be removed in a future version, please use 'min' instead.\n",
      "  df['minute'] = df['datetime'].dt.floor('T')\n",
      "/var/folders/m4/7y6r9d5x1f9g7xkd8133tc2r0000gn/T/ipykernel_6567/1531866637.py:24: DeprecationWarning: DataFrameGroupBy.apply operated on the grouping columns. This behavior is deprecated, and in a future version of pandas the grouping columns will be excluded from the operation. Either pass `include_groups=False` to exclude the groupings or explicitly select the grouping columns after groupby to silence this warning.\n",
      "  df.groupby(\"minute\")\n"
     ]
    },
    {
     "name": "stdout",
     "output_type": "stream",
     "text": [
      "Processed data saved for company: COF\n",
      "Processing data for company: COG\n"
     ]
    },
    {
     "name": "stderr",
     "output_type": "stream",
     "text": [
      "/var/folders/m4/7y6r9d5x1f9g7xkd8133tc2r0000gn/T/ipykernel_6567/1531866637.py:22: FutureWarning: 'T' is deprecated and will be removed in a future version, please use 'min' instead.\n",
      "  df['minute'] = df['datetime'].dt.floor('T')\n",
      "/var/folders/m4/7y6r9d5x1f9g7xkd8133tc2r0000gn/T/ipykernel_6567/1531866637.py:24: DeprecationWarning: DataFrameGroupBy.apply operated on the grouping columns. This behavior is deprecated, and in a future version of pandas the grouping columns will be excluded from the operation. Either pass `include_groups=False` to exclude the groupings or explicitly select the grouping columns after groupby to silence this warning.\n",
      "  df.groupby(\"minute\")\n"
     ]
    },
    {
     "name": "stdout",
     "output_type": "stream",
     "text": [
      "Processed data saved for company: COG\n",
      "Processing data for company: COH\n"
     ]
    },
    {
     "name": "stderr",
     "output_type": "stream",
     "text": [
      "/var/folders/m4/7y6r9d5x1f9g7xkd8133tc2r0000gn/T/ipykernel_6567/1531866637.py:22: FutureWarning: 'T' is deprecated and will be removed in a future version, please use 'min' instead.\n",
      "  df['minute'] = df['datetime'].dt.floor('T')\n",
      "/var/folders/m4/7y6r9d5x1f9g7xkd8133tc2r0000gn/T/ipykernel_6567/1531866637.py:24: DeprecationWarning: DataFrameGroupBy.apply operated on the grouping columns. This behavior is deprecated, and in a future version of pandas the grouping columns will be excluded from the operation. Either pass `include_groups=False` to exclude the groupings or explicitly select the grouping columns after groupby to silence this warning.\n",
      "  df.groupby(\"minute\")\n"
     ]
    },
    {
     "name": "stdout",
     "output_type": "stream",
     "text": [
      "Processed data saved for company: COH\n",
      "Processing data for company: COL\n"
     ]
    },
    {
     "name": "stderr",
     "output_type": "stream",
     "text": [
      "/var/folders/m4/7y6r9d5x1f9g7xkd8133tc2r0000gn/T/ipykernel_6567/1531866637.py:22: FutureWarning: 'T' is deprecated and will be removed in a future version, please use 'min' instead.\n",
      "  df['minute'] = df['datetime'].dt.floor('T')\n",
      "/var/folders/m4/7y6r9d5x1f9g7xkd8133tc2r0000gn/T/ipykernel_6567/1531866637.py:24: DeprecationWarning: DataFrameGroupBy.apply operated on the grouping columns. This behavior is deprecated, and in a future version of pandas the grouping columns will be excluded from the operation. Either pass `include_groups=False` to exclude the groupings or explicitly select the grouping columns after groupby to silence this warning.\n",
      "  df.groupby(\"minute\")\n"
     ]
    },
    {
     "name": "stdout",
     "output_type": "stream",
     "text": [
      "Processed data saved for company: COL\n",
      "Processing data for company: COO\n"
     ]
    },
    {
     "name": "stderr",
     "output_type": "stream",
     "text": [
      "/var/folders/m4/7y6r9d5x1f9g7xkd8133tc2r0000gn/T/ipykernel_6567/1531866637.py:22: FutureWarning: 'T' is deprecated and will be removed in a future version, please use 'min' instead.\n",
      "  df['minute'] = df['datetime'].dt.floor('T')\n",
      "/var/folders/m4/7y6r9d5x1f9g7xkd8133tc2r0000gn/T/ipykernel_6567/1531866637.py:24: DeprecationWarning: DataFrameGroupBy.apply operated on the grouping columns. This behavior is deprecated, and in a future version of pandas the grouping columns will be excluded from the operation. Either pass `include_groups=False` to exclude the groupings or explicitly select the grouping columns after groupby to silence this warning.\n",
      "  df.groupby(\"minute\")\n"
     ]
    },
    {
     "name": "stdout",
     "output_type": "stream",
     "text": [
      "Processed data saved for company: COO\n",
      "Processing data for company: COP\n"
     ]
    },
    {
     "name": "stderr",
     "output_type": "stream",
     "text": [
      "/var/folders/m4/7y6r9d5x1f9g7xkd8133tc2r0000gn/T/ipykernel_6567/1531866637.py:22: FutureWarning: 'T' is deprecated and will be removed in a future version, please use 'min' instead.\n",
      "  df['minute'] = df['datetime'].dt.floor('T')\n",
      "/var/folders/m4/7y6r9d5x1f9g7xkd8133tc2r0000gn/T/ipykernel_6567/1531866637.py:24: DeprecationWarning: DataFrameGroupBy.apply operated on the grouping columns. This behavior is deprecated, and in a future version of pandas the grouping columns will be excluded from the operation. Either pass `include_groups=False` to exclude the groupings or explicitly select the grouping columns after groupby to silence this warning.\n",
      "  df.groupby(\"minute\")\n"
     ]
    },
    {
     "name": "stdout",
     "output_type": "stream",
     "text": [
      "Processed data saved for company: COP\n",
      "Processing data for company: CPB\n"
     ]
    },
    {
     "name": "stderr",
     "output_type": "stream",
     "text": [
      "/var/folders/m4/7y6r9d5x1f9g7xkd8133tc2r0000gn/T/ipykernel_6567/1531866637.py:22: FutureWarning: 'T' is deprecated and will be removed in a future version, please use 'min' instead.\n",
      "  df['minute'] = df['datetime'].dt.floor('T')\n",
      "/var/folders/m4/7y6r9d5x1f9g7xkd8133tc2r0000gn/T/ipykernel_6567/1531866637.py:24: DeprecationWarning: DataFrameGroupBy.apply operated on the grouping columns. This behavior is deprecated, and in a future version of pandas the grouping columns will be excluded from the operation. Either pass `include_groups=False` to exclude the groupings or explicitly select the grouping columns after groupby to silence this warning.\n",
      "  df.groupby(\"minute\")\n"
     ]
    },
    {
     "name": "stdout",
     "output_type": "stream",
     "text": [
      "Processed data saved for company: CPB\n",
      "Processing data for company: CPC\n"
     ]
    },
    {
     "name": "stderr",
     "output_type": "stream",
     "text": [
      "/var/folders/m4/7y6r9d5x1f9g7xkd8133tc2r0000gn/T/ipykernel_6567/1531866637.py:22: FutureWarning: 'T' is deprecated and will be removed in a future version, please use 'min' instead.\n",
      "  df['minute'] = df['datetime'].dt.floor('T')\n",
      "/var/folders/m4/7y6r9d5x1f9g7xkd8133tc2r0000gn/T/ipykernel_6567/1531866637.py:24: DeprecationWarning: DataFrameGroupBy.apply operated on the grouping columns. This behavior is deprecated, and in a future version of pandas the grouping columns will be excluded from the operation. Either pass `include_groups=False` to exclude the groupings or explicitly select the grouping columns after groupby to silence this warning.\n",
      "  df.groupby(\"minute\")\n"
     ]
    },
    {
     "name": "stdout",
     "output_type": "stream",
     "text": [
      "Processed data saved for company: CPC\n",
      "Processing data for company: CRM\n"
     ]
    },
    {
     "name": "stderr",
     "output_type": "stream",
     "text": [
      "/var/folders/m4/7y6r9d5x1f9g7xkd8133tc2r0000gn/T/ipykernel_6567/1531866637.py:22: FutureWarning: 'T' is deprecated and will be removed in a future version, please use 'min' instead.\n",
      "  df['minute'] = df['datetime'].dt.floor('T')\n",
      "/var/folders/m4/7y6r9d5x1f9g7xkd8133tc2r0000gn/T/ipykernel_6567/1531866637.py:24: DeprecationWarning: DataFrameGroupBy.apply operated on the grouping columns. This behavior is deprecated, and in a future version of pandas the grouping columns will be excluded from the operation. Either pass `include_groups=False` to exclude the groupings or explicitly select the grouping columns after groupby to silence this warning.\n",
      "  df.groupby(\"minute\")\n"
     ]
    },
    {
     "name": "stdout",
     "output_type": "stream",
     "text": [
      "Processed data saved for company: CRM\n",
      "Processing data for company: CSC\n"
     ]
    },
    {
     "name": "stderr",
     "output_type": "stream",
     "text": [
      "/var/folders/m4/7y6r9d5x1f9g7xkd8133tc2r0000gn/T/ipykernel_6567/1531866637.py:22: FutureWarning: 'T' is deprecated and will be removed in a future version, please use 'min' instead.\n",
      "  df['minute'] = df['datetime'].dt.floor('T')\n",
      "/var/folders/m4/7y6r9d5x1f9g7xkd8133tc2r0000gn/T/ipykernel_6567/1531866637.py:24: DeprecationWarning: DataFrameGroupBy.apply operated on the grouping columns. This behavior is deprecated, and in a future version of pandas the grouping columns will be excluded from the operation. Either pass `include_groups=False` to exclude the groupings or explicitly select the grouping columns after groupby to silence this warning.\n",
      "  df.groupby(\"minute\")\n"
     ]
    },
    {
     "name": "stdout",
     "output_type": "stream",
     "text": [
      "Processed data saved for company: CSC\n",
      "Processing data for company: CSX\n"
     ]
    },
    {
     "name": "stderr",
     "output_type": "stream",
     "text": [
      "/var/folders/m4/7y6r9d5x1f9g7xkd8133tc2r0000gn/T/ipykernel_6567/1531866637.py:22: FutureWarning: 'T' is deprecated and will be removed in a future version, please use 'min' instead.\n",
      "  df['minute'] = df['datetime'].dt.floor('T')\n",
      "/var/folders/m4/7y6r9d5x1f9g7xkd8133tc2r0000gn/T/ipykernel_6567/1531866637.py:24: DeprecationWarning: DataFrameGroupBy.apply operated on the grouping columns. This behavior is deprecated, and in a future version of pandas the grouping columns will be excluded from the operation. Either pass `include_groups=False` to exclude the groupings or explicitly select the grouping columns after groupby to silence this warning.\n",
      "  df.groupby(\"minute\")\n"
     ]
    },
    {
     "name": "stdout",
     "output_type": "stream",
     "text": [
      "Processed data saved for company: CSX\n",
      "Processing data for company: CTL\n"
     ]
    },
    {
     "name": "stderr",
     "output_type": "stream",
     "text": [
      "/var/folders/m4/7y6r9d5x1f9g7xkd8133tc2r0000gn/T/ipykernel_6567/1531866637.py:22: FutureWarning: 'T' is deprecated and will be removed in a future version, please use 'min' instead.\n",
      "  df['minute'] = df['datetime'].dt.floor('T')\n",
      "/var/folders/m4/7y6r9d5x1f9g7xkd8133tc2r0000gn/T/ipykernel_6567/1531866637.py:24: DeprecationWarning: DataFrameGroupBy.apply operated on the grouping columns. This behavior is deprecated, and in a future version of pandas the grouping columns will be excluded from the operation. Either pass `include_groups=False` to exclude the groupings or explicitly select the grouping columns after groupby to silence this warning.\n",
      "  df.groupby(\"minute\")\n"
     ]
    },
    {
     "name": "stdout",
     "output_type": "stream",
     "text": [
      "Processed data saved for company: CTL\n",
      "Processing data for company: CVS\n"
     ]
    },
    {
     "name": "stderr",
     "output_type": "stream",
     "text": [
      "/var/folders/m4/7y6r9d5x1f9g7xkd8133tc2r0000gn/T/ipykernel_6567/1531866637.py:22: FutureWarning: 'T' is deprecated and will be removed in a future version, please use 'min' instead.\n",
      "  df['minute'] = df['datetime'].dt.floor('T')\n",
      "/var/folders/m4/7y6r9d5x1f9g7xkd8133tc2r0000gn/T/ipykernel_6567/1531866637.py:24: DeprecationWarning: DataFrameGroupBy.apply operated on the grouping columns. This behavior is deprecated, and in a future version of pandas the grouping columns will be excluded from the operation. Either pass `include_groups=False` to exclude the groupings or explicitly select the grouping columns after groupby to silence this warning.\n",
      "  df.groupby(\"minute\")\n"
     ]
    },
    {
     "name": "stdout",
     "output_type": "stream",
     "text": [
      "Processed data saved for company: CVS\n",
      "Processing data for company: CVX\n"
     ]
    },
    {
     "name": "stderr",
     "output_type": "stream",
     "text": [
      "/var/folders/m4/7y6r9d5x1f9g7xkd8133tc2r0000gn/T/ipykernel_6567/1531866637.py:22: FutureWarning: 'T' is deprecated and will be removed in a future version, please use 'min' instead.\n",
      "  df['minute'] = df['datetime'].dt.floor('T')\n",
      "/var/folders/m4/7y6r9d5x1f9g7xkd8133tc2r0000gn/T/ipykernel_6567/1531866637.py:24: DeprecationWarning: DataFrameGroupBy.apply operated on the grouping columns. This behavior is deprecated, and in a future version of pandas the grouping columns will be excluded from the operation. Either pass `include_groups=False` to exclude the groupings or explicitly select the grouping columns after groupby to silence this warning.\n",
      "  df.groupby(\"minute\")\n"
     ]
    },
    {
     "name": "stdout",
     "output_type": "stream",
     "text": [
      "Processed data saved for company: CVX\n",
      "Processing data for company: CXO\n"
     ]
    },
    {
     "name": "stderr",
     "output_type": "stream",
     "text": [
      "/var/folders/m4/7y6r9d5x1f9g7xkd8133tc2r0000gn/T/ipykernel_6567/1531866637.py:22: FutureWarning: 'T' is deprecated and will be removed in a future version, please use 'min' instead.\n",
      "  df['minute'] = df['datetime'].dt.floor('T')\n",
      "/var/folders/m4/7y6r9d5x1f9g7xkd8133tc2r0000gn/T/ipykernel_6567/1531866637.py:30: RuntimeWarning: invalid value encountered in scalar divide\n",
      "  \"weighted_ask_price\": (group[\"weighted_ask_price\"] * group[\"total_ask_quantity\"]).sum() / group[\"total_ask_quantity\"].sum(),\n",
      "/var/folders/m4/7y6r9d5x1f9g7xkd8133tc2r0000gn/T/ipykernel_6567/1531866637.py:24: DeprecationWarning: DataFrameGroupBy.apply operated on the grouping columns. This behavior is deprecated, and in a future version of pandas the grouping columns will be excluded from the operation. Either pass `include_groups=False` to exclude the groupings or explicitly select the grouping columns after groupby to silence this warning.\n",
      "  df.groupby(\"minute\")\n"
     ]
    },
    {
     "name": "stdout",
     "output_type": "stream",
     "text": [
      "Processed data saved for company: CXO\n",
      "Processing data for company: D\n"
     ]
    },
    {
     "name": "stderr",
     "output_type": "stream",
     "text": [
      "/var/folders/m4/7y6r9d5x1f9g7xkd8133tc2r0000gn/T/ipykernel_6567/1531866637.py:22: FutureWarning: 'T' is deprecated and will be removed in a future version, please use 'min' instead.\n",
      "  df['minute'] = df['datetime'].dt.floor('T')\n",
      "/var/folders/m4/7y6r9d5x1f9g7xkd8133tc2r0000gn/T/ipykernel_6567/1531866637.py:24: DeprecationWarning: DataFrameGroupBy.apply operated on the grouping columns. This behavior is deprecated, and in a future version of pandas the grouping columns will be excluded from the operation. Either pass `include_groups=False` to exclude the groupings or explicitly select the grouping columns after groupby to silence this warning.\n",
      "  df.groupby(\"minute\")\n"
     ]
    },
    {
     "name": "stdout",
     "output_type": "stream",
     "text": [
      "Processed data saved for company: D\n",
      "Processing data for company: DAL\n"
     ]
    },
    {
     "name": "stderr",
     "output_type": "stream",
     "text": [
      "/var/folders/m4/7y6r9d5x1f9g7xkd8133tc2r0000gn/T/ipykernel_6567/1531866637.py:22: FutureWarning: 'T' is deprecated and will be removed in a future version, please use 'min' instead.\n",
      "  df['minute'] = df['datetime'].dt.floor('T')\n",
      "/var/folders/m4/7y6r9d5x1f9g7xkd8133tc2r0000gn/T/ipykernel_6567/1531866637.py:24: DeprecationWarning: DataFrameGroupBy.apply operated on the grouping columns. This behavior is deprecated, and in a future version of pandas the grouping columns will be excluded from the operation. Either pass `include_groups=False` to exclude the groupings or explicitly select the grouping columns after groupby to silence this warning.\n",
      "  df.groupby(\"minute\")\n"
     ]
    },
    {
     "name": "stdout",
     "output_type": "stream",
     "text": [
      "Processed data saved for company: DAL\n",
      "Processing data for company: DD\n"
     ]
    },
    {
     "name": "stderr",
     "output_type": "stream",
     "text": [
      "/var/folders/m4/7y6r9d5x1f9g7xkd8133tc2r0000gn/T/ipykernel_6567/1531866637.py:22: FutureWarning: 'T' is deprecated and will be removed in a future version, please use 'min' instead.\n",
      "  df['minute'] = df['datetime'].dt.floor('T')\n",
      "/var/folders/m4/7y6r9d5x1f9g7xkd8133tc2r0000gn/T/ipykernel_6567/1531866637.py:24: DeprecationWarning: DataFrameGroupBy.apply operated on the grouping columns. This behavior is deprecated, and in a future version of pandas the grouping columns will be excluded from the operation. Either pass `include_groups=False` to exclude the groupings or explicitly select the grouping columns after groupby to silence this warning.\n",
      "  df.groupby(\"minute\")\n"
     ]
    },
    {
     "name": "stdout",
     "output_type": "stream",
     "text": [
      "Processed data saved for company: DD\n",
      "Processing data for company: DE\n"
     ]
    },
    {
     "name": "stderr",
     "output_type": "stream",
     "text": [
      "/var/folders/m4/7y6r9d5x1f9g7xkd8133tc2r0000gn/T/ipykernel_6567/1531866637.py:22: FutureWarning: 'T' is deprecated and will be removed in a future version, please use 'min' instead.\n",
      "  df['minute'] = df['datetime'].dt.floor('T')\n",
      "/var/folders/m4/7y6r9d5x1f9g7xkd8133tc2r0000gn/T/ipykernel_6567/1531866637.py:24: DeprecationWarning: DataFrameGroupBy.apply operated on the grouping columns. This behavior is deprecated, and in a future version of pandas the grouping columns will be excluded from the operation. Either pass `include_groups=False` to exclude the groupings or explicitly select the grouping columns after groupby to silence this warning.\n",
      "  df.groupby(\"minute\")\n"
     ]
    },
    {
     "name": "stdout",
     "output_type": "stream",
     "text": [
      "Processed data saved for company: DE\n",
      "Processing data for company: DFS\n"
     ]
    },
    {
     "name": "stderr",
     "output_type": "stream",
     "text": [
      "/var/folders/m4/7y6r9d5x1f9g7xkd8133tc2r0000gn/T/ipykernel_6567/1531866637.py:22: FutureWarning: 'T' is deprecated and will be removed in a future version, please use 'min' instead.\n",
      "  df['minute'] = df['datetime'].dt.floor('T')\n",
      "/var/folders/m4/7y6r9d5x1f9g7xkd8133tc2r0000gn/T/ipykernel_6567/1531866637.py:27: RuntimeWarning: invalid value encountered in scalar divide\n",
      "  \"weighted_bid_price\": (group[\"weighted_bid_price\"] * group[\"total_bid_quantity\"]).sum() / group[\"total_bid_quantity\"].sum(),\n",
      "/var/folders/m4/7y6r9d5x1f9g7xkd8133tc2r0000gn/T/ipykernel_6567/1531866637.py:24: DeprecationWarning: DataFrameGroupBy.apply operated on the grouping columns. This behavior is deprecated, and in a future version of pandas the grouping columns will be excluded from the operation. Either pass `include_groups=False` to exclude the groupings or explicitly select the grouping columns after groupby to silence this warning.\n",
      "  df.groupby(\"minute\")\n"
     ]
    },
    {
     "name": "stdout",
     "output_type": "stream",
     "text": [
      "Processed data saved for company: DFS\n",
      "Processing data for company: DG\n"
     ]
    },
    {
     "name": "stderr",
     "output_type": "stream",
     "text": [
      "/var/folders/m4/7y6r9d5x1f9g7xkd8133tc2r0000gn/T/ipykernel_6567/1531866637.py:22: FutureWarning: 'T' is deprecated and will be removed in a future version, please use 'min' instead.\n",
      "  df['minute'] = df['datetime'].dt.floor('T')\n",
      "/var/folders/m4/7y6r9d5x1f9g7xkd8133tc2r0000gn/T/ipykernel_6567/1531866637.py:24: DeprecationWarning: DataFrameGroupBy.apply operated on the grouping columns. This behavior is deprecated, and in a future version of pandas the grouping columns will be excluded from the operation. Either pass `include_groups=False` to exclude the groupings or explicitly select the grouping columns after groupby to silence this warning.\n",
      "  df.groupby(\"minute\")\n"
     ]
    },
    {
     "name": "stdout",
     "output_type": "stream",
     "text": [
      "Processed data saved for company: DG\n",
      "Processing data for company: DGX\n"
     ]
    },
    {
     "name": "stderr",
     "output_type": "stream",
     "text": [
      "/var/folders/m4/7y6r9d5x1f9g7xkd8133tc2r0000gn/T/ipykernel_6567/1531866637.py:22: FutureWarning: 'T' is deprecated and will be removed in a future version, please use 'min' instead.\n",
      "  df['minute'] = df['datetime'].dt.floor('T')\n",
      "/var/folders/m4/7y6r9d5x1f9g7xkd8133tc2r0000gn/T/ipykernel_6567/1531866637.py:24: DeprecationWarning: DataFrameGroupBy.apply operated on the grouping columns. This behavior is deprecated, and in a future version of pandas the grouping columns will be excluded from the operation. Either pass `include_groups=False` to exclude the groupings or explicitly select the grouping columns after groupby to silence this warning.\n",
      "  df.groupby(\"minute\")\n"
     ]
    },
    {
     "name": "stdout",
     "output_type": "stream",
     "text": [
      "Processed data saved for company: DGX\n",
      "Processing data for company: DHI\n"
     ]
    },
    {
     "name": "stderr",
     "output_type": "stream",
     "text": [
      "/var/folders/m4/7y6r9d5x1f9g7xkd8133tc2r0000gn/T/ipykernel_6567/1531866637.py:22: FutureWarning: 'T' is deprecated and will be removed in a future version, please use 'min' instead.\n",
      "  df['minute'] = df['datetime'].dt.floor('T')\n",
      "/var/folders/m4/7y6r9d5x1f9g7xkd8133tc2r0000gn/T/ipykernel_6567/1531866637.py:24: DeprecationWarning: DataFrameGroupBy.apply operated on the grouping columns. This behavior is deprecated, and in a future version of pandas the grouping columns will be excluded from the operation. Either pass `include_groups=False` to exclude the groupings or explicitly select the grouping columns after groupby to silence this warning.\n",
      "  df.groupby(\"minute\")\n"
     ]
    },
    {
     "name": "stdout",
     "output_type": "stream",
     "text": [
      "Processed data saved for company: DHI\n",
      "Processing data for company: DHR\n"
     ]
    },
    {
     "name": "stderr",
     "output_type": "stream",
     "text": [
      "/var/folders/m4/7y6r9d5x1f9g7xkd8133tc2r0000gn/T/ipykernel_6567/1531866637.py:22: FutureWarning: 'T' is deprecated and will be removed in a future version, please use 'min' instead.\n",
      "  df['minute'] = df['datetime'].dt.floor('T')\n",
      "/var/folders/m4/7y6r9d5x1f9g7xkd8133tc2r0000gn/T/ipykernel_6567/1531866637.py:24: DeprecationWarning: DataFrameGroupBy.apply operated on the grouping columns. This behavior is deprecated, and in a future version of pandas the grouping columns will be excluded from the operation. Either pass `include_groups=False` to exclude the groupings or explicitly select the grouping columns after groupby to silence this warning.\n",
      "  df.groupby(\"minute\")\n"
     ]
    },
    {
     "name": "stdout",
     "output_type": "stream",
     "text": [
      "Processed data saved for company: DHR\n",
      "Processing data for company: DIS\n"
     ]
    },
    {
     "name": "stderr",
     "output_type": "stream",
     "text": [
      "/var/folders/m4/7y6r9d5x1f9g7xkd8133tc2r0000gn/T/ipykernel_6567/1531866637.py:22: FutureWarning: 'T' is deprecated and will be removed in a future version, please use 'min' instead.\n",
      "  df['minute'] = df['datetime'].dt.floor('T')\n",
      "/var/folders/m4/7y6r9d5x1f9g7xkd8133tc2r0000gn/T/ipykernel_6567/1531866637.py:24: DeprecationWarning: DataFrameGroupBy.apply operated on the grouping columns. This behavior is deprecated, and in a future version of pandas the grouping columns will be excluded from the operation. Either pass `include_groups=False` to exclude the groupings or explicitly select the grouping columns after groupby to silence this warning.\n",
      "  df.groupby(\"minute\")\n"
     ]
    },
    {
     "name": "stdout",
     "output_type": "stream",
     "text": [
      "Processed data saved for company: DIS\n",
      "Processing data for company: DLR\n"
     ]
    },
    {
     "name": "stderr",
     "output_type": "stream",
     "text": [
      "/var/folders/m4/7y6r9d5x1f9g7xkd8133tc2r0000gn/T/ipykernel_6567/1531866637.py:22: FutureWarning: 'T' is deprecated and will be removed in a future version, please use 'min' instead.\n",
      "  df['minute'] = df['datetime'].dt.floor('T')\n",
      "/var/folders/m4/7y6r9d5x1f9g7xkd8133tc2r0000gn/T/ipykernel_6567/1531866637.py:24: DeprecationWarning: DataFrameGroupBy.apply operated on the grouping columns. This behavior is deprecated, and in a future version of pandas the grouping columns will be excluded from the operation. Either pass `include_groups=False` to exclude the groupings or explicitly select the grouping columns after groupby to silence this warning.\n",
      "  df.groupby(\"minute\")\n"
     ]
    },
    {
     "name": "stdout",
     "output_type": "stream",
     "text": [
      "Processed data saved for company: DLR\n",
      "Processing data for company: DNB\n"
     ]
    },
    {
     "name": "stderr",
     "output_type": "stream",
     "text": [
      "/var/folders/m4/7y6r9d5x1f9g7xkd8133tc2r0000gn/T/ipykernel_6567/1531866637.py:22: FutureWarning: 'T' is deprecated and will be removed in a future version, please use 'min' instead.\n",
      "  df['minute'] = df['datetime'].dt.floor('T')\n",
      "/var/folders/m4/7y6r9d5x1f9g7xkd8133tc2r0000gn/T/ipykernel_6567/1531866637.py:24: DeprecationWarning: DataFrameGroupBy.apply operated on the grouping columns. This behavior is deprecated, and in a future version of pandas the grouping columns will be excluded from the operation. Either pass `include_groups=False` to exclude the groupings or explicitly select the grouping columns after groupby to silence this warning.\n",
      "  df.groupby(\"minute\")\n"
     ]
    },
    {
     "name": "stdout",
     "output_type": "stream",
     "text": [
      "Processed data saved for company: DNB\n",
      "Processing data for company: DOV\n"
     ]
    },
    {
     "name": "stderr",
     "output_type": "stream",
     "text": [
      "/var/folders/m4/7y6r9d5x1f9g7xkd8133tc2r0000gn/T/ipykernel_6567/1531866637.py:22: FutureWarning: 'T' is deprecated and will be removed in a future version, please use 'min' instead.\n",
      "  df['minute'] = df['datetime'].dt.floor('T')\n",
      "/var/folders/m4/7y6r9d5x1f9g7xkd8133tc2r0000gn/T/ipykernel_6567/1531866637.py:24: DeprecationWarning: DataFrameGroupBy.apply operated on the grouping columns. This behavior is deprecated, and in a future version of pandas the grouping columns will be excluded from the operation. Either pass `include_groups=False` to exclude the groupings or explicitly select the grouping columns after groupby to silence this warning.\n",
      "  df.groupby(\"minute\")\n"
     ]
    },
    {
     "name": "stdout",
     "output_type": "stream",
     "text": [
      "Processed data saved for company: DOV\n",
      "Processing data for company: DOW\n"
     ]
    },
    {
     "name": "stderr",
     "output_type": "stream",
     "text": [
      "/var/folders/m4/7y6r9d5x1f9g7xkd8133tc2r0000gn/T/ipykernel_6567/1531866637.py:22: FutureWarning: 'T' is deprecated and will be removed in a future version, please use 'min' instead.\n",
      "  df['minute'] = df['datetime'].dt.floor('T')\n",
      "/var/folders/m4/7y6r9d5x1f9g7xkd8133tc2r0000gn/T/ipykernel_6567/1531866637.py:24: DeprecationWarning: DataFrameGroupBy.apply operated on the grouping columns. This behavior is deprecated, and in a future version of pandas the grouping columns will be excluded from the operation. Either pass `include_groups=False` to exclude the groupings or explicitly select the grouping columns after groupby to silence this warning.\n",
      "  df.groupby(\"minute\")\n"
     ]
    },
    {
     "name": "stdout",
     "output_type": "stream",
     "text": [
      "Processed data saved for company: DOW\n",
      "Processing data for company: DRE\n"
     ]
    },
    {
     "name": "stderr",
     "output_type": "stream",
     "text": [
      "/var/folders/m4/7y6r9d5x1f9g7xkd8133tc2r0000gn/T/ipykernel_6567/1531866637.py:22: FutureWarning: 'T' is deprecated and will be removed in a future version, please use 'min' instead.\n",
      "  df['minute'] = df['datetime'].dt.floor('T')\n",
      "/var/folders/m4/7y6r9d5x1f9g7xkd8133tc2r0000gn/T/ipykernel_6567/1531866637.py:24: DeprecationWarning: DataFrameGroupBy.apply operated on the grouping columns. This behavior is deprecated, and in a future version of pandas the grouping columns will be excluded from the operation. Either pass `include_groups=False` to exclude the groupings or explicitly select the grouping columns after groupby to silence this warning.\n",
      "  df.groupby(\"minute\")\n"
     ]
    },
    {
     "name": "stdout",
     "output_type": "stream",
     "text": [
      "Processed data saved for company: DRE\n",
      "Processing data for company: DRI\n"
     ]
    },
    {
     "name": "stderr",
     "output_type": "stream",
     "text": [
      "/var/folders/m4/7y6r9d5x1f9g7xkd8133tc2r0000gn/T/ipykernel_6567/1531866637.py:22: FutureWarning: 'T' is deprecated and will be removed in a future version, please use 'min' instead.\n",
      "  df['minute'] = df['datetime'].dt.floor('T')\n",
      "/var/folders/m4/7y6r9d5x1f9g7xkd8133tc2r0000gn/T/ipykernel_6567/1531866637.py:24: DeprecationWarning: DataFrameGroupBy.apply operated on the grouping columns. This behavior is deprecated, and in a future version of pandas the grouping columns will be excluded from the operation. Either pass `include_groups=False` to exclude the groupings or explicitly select the grouping columns after groupby to silence this warning.\n",
      "  df.groupby(\"minute\")\n"
     ]
    },
    {
     "name": "stdout",
     "output_type": "stream",
     "text": [
      "Processed data saved for company: DRI\n",
      "Processing data for company: DTE\n"
     ]
    },
    {
     "name": "stderr",
     "output_type": "stream",
     "text": [
      "/var/folders/m4/7y6r9d5x1f9g7xkd8133tc2r0000gn/T/ipykernel_6567/1531866637.py:22: FutureWarning: 'T' is deprecated and will be removed in a future version, please use 'min' instead.\n",
      "  df['minute'] = df['datetime'].dt.floor('T')\n",
      "/var/folders/m4/7y6r9d5x1f9g7xkd8133tc2r0000gn/T/ipykernel_6567/1531866637.py:24: DeprecationWarning: DataFrameGroupBy.apply operated on the grouping columns. This behavior is deprecated, and in a future version of pandas the grouping columns will be excluded from the operation. Either pass `include_groups=False` to exclude the groupings or explicitly select the grouping columns after groupby to silence this warning.\n",
      "  df.groupby(\"minute\")\n"
     ]
    },
    {
     "name": "stdout",
     "output_type": "stream",
     "text": [
      "Processed data saved for company: DTE\n",
      "Processing data for company: DUK\n"
     ]
    },
    {
     "name": "stderr",
     "output_type": "stream",
     "text": [
      "/var/folders/m4/7y6r9d5x1f9g7xkd8133tc2r0000gn/T/ipykernel_6567/1531866637.py:22: FutureWarning: 'T' is deprecated and will be removed in a future version, please use 'min' instead.\n",
      "  df['minute'] = df['datetime'].dt.floor('T')\n",
      "/var/folders/m4/7y6r9d5x1f9g7xkd8133tc2r0000gn/T/ipykernel_6567/1531866637.py:24: DeprecationWarning: DataFrameGroupBy.apply operated on the grouping columns. This behavior is deprecated, and in a future version of pandas the grouping columns will be excluded from the operation. Either pass `include_groups=False` to exclude the groupings or explicitly select the grouping columns after groupby to silence this warning.\n",
      "  df.groupby(\"minute\")\n"
     ]
    },
    {
     "name": "stdout",
     "output_type": "stream",
     "text": [
      "Processed data saved for company: DUK\n",
      "Processing data for company: DVA\n"
     ]
    },
    {
     "name": "stderr",
     "output_type": "stream",
     "text": [
      "/var/folders/m4/7y6r9d5x1f9g7xkd8133tc2r0000gn/T/ipykernel_6567/1531866637.py:22: FutureWarning: 'T' is deprecated and will be removed in a future version, please use 'min' instead.\n",
      "  df['minute'] = df['datetime'].dt.floor('T')\n",
      "/var/folders/m4/7y6r9d5x1f9g7xkd8133tc2r0000gn/T/ipykernel_6567/1531866637.py:24: DeprecationWarning: DataFrameGroupBy.apply operated on the grouping columns. This behavior is deprecated, and in a future version of pandas the grouping columns will be excluded from the operation. Either pass `include_groups=False` to exclude the groupings or explicitly select the grouping columns after groupby to silence this warning.\n",
      "  df.groupby(\"minute\")\n"
     ]
    },
    {
     "name": "stdout",
     "output_type": "stream",
     "text": [
      "Processed data saved for company: DVA\n",
      "Processing data for company: DVN\n"
     ]
    },
    {
     "name": "stderr",
     "output_type": "stream",
     "text": [
      "/var/folders/m4/7y6r9d5x1f9g7xkd8133tc2r0000gn/T/ipykernel_6567/1531866637.py:22: FutureWarning: 'T' is deprecated and will be removed in a future version, please use 'min' instead.\n",
      "  df['minute'] = df['datetime'].dt.floor('T')\n",
      "/var/folders/m4/7y6r9d5x1f9g7xkd8133tc2r0000gn/T/ipykernel_6567/1531866637.py:27: RuntimeWarning: invalid value encountered in scalar divide\n",
      "  \"weighted_bid_price\": (group[\"weighted_bid_price\"] * group[\"total_bid_quantity\"]).sum() / group[\"total_bid_quantity\"].sum(),\n",
      "/var/folders/m4/7y6r9d5x1f9g7xkd8133tc2r0000gn/T/ipykernel_6567/1531866637.py:24: DeprecationWarning: DataFrameGroupBy.apply operated on the grouping columns. This behavior is deprecated, and in a future version of pandas the grouping columns will be excluded from the operation. Either pass `include_groups=False` to exclude the groupings or explicitly select the grouping columns after groupby to silence this warning.\n",
      "  df.groupby(\"minute\")\n"
     ]
    },
    {
     "name": "stdout",
     "output_type": "stream",
     "text": [
      "Processed data saved for company: DVN\n",
      "Processing data for company: E\n"
     ]
    },
    {
     "name": "stderr",
     "output_type": "stream",
     "text": [
      "/var/folders/m4/7y6r9d5x1f9g7xkd8133tc2r0000gn/T/ipykernel_6567/1531866637.py:22: FutureWarning: 'T' is deprecated and will be removed in a future version, please use 'min' instead.\n",
      "  df['minute'] = df['datetime'].dt.floor('T')\n",
      "/var/folders/m4/7y6r9d5x1f9g7xkd8133tc2r0000gn/T/ipykernel_6567/1531866637.py:24: DeprecationWarning: DataFrameGroupBy.apply operated on the grouping columns. This behavior is deprecated, and in a future version of pandas the grouping columns will be excluded from the operation. Either pass `include_groups=False` to exclude the groupings or explicitly select the grouping columns after groupby to silence this warning.\n",
      "  df.groupby(\"minute\")\n"
     ]
    },
    {
     "name": "stdout",
     "output_type": "stream",
     "text": [
      "Processed data saved for company: E\n",
      "Processing data for company: ECL\n"
     ]
    },
    {
     "name": "stderr",
     "output_type": "stream",
     "text": [
      "/var/folders/m4/7y6r9d5x1f9g7xkd8133tc2r0000gn/T/ipykernel_6567/1531866637.py:22: FutureWarning: 'T' is deprecated and will be removed in a future version, please use 'min' instead.\n",
      "  df['minute'] = df['datetime'].dt.floor('T')\n",
      "/var/folders/m4/7y6r9d5x1f9g7xkd8133tc2r0000gn/T/ipykernel_6567/1531866637.py:24: DeprecationWarning: DataFrameGroupBy.apply operated on the grouping columns. This behavior is deprecated, and in a future version of pandas the grouping columns will be excluded from the operation. Either pass `include_groups=False` to exclude the groupings or explicitly select the grouping columns after groupby to silence this warning.\n",
      "  df.groupby(\"minute\")\n"
     ]
    },
    {
     "name": "stdout",
     "output_type": "stream",
     "text": [
      "Processed data saved for company: ECL\n",
      "Processing data for company: ED\n"
     ]
    },
    {
     "name": "stderr",
     "output_type": "stream",
     "text": [
      "/var/folders/m4/7y6r9d5x1f9g7xkd8133tc2r0000gn/T/ipykernel_6567/1531866637.py:22: FutureWarning: 'T' is deprecated and will be removed in a future version, please use 'min' instead.\n",
      "  df['minute'] = df['datetime'].dt.floor('T')\n",
      "/var/folders/m4/7y6r9d5x1f9g7xkd8133tc2r0000gn/T/ipykernel_6567/1531866637.py:30: RuntimeWarning: invalid value encountered in scalar divide\n",
      "  \"weighted_ask_price\": (group[\"weighted_ask_price\"] * group[\"total_ask_quantity\"]).sum() / group[\"total_ask_quantity\"].sum(),\n",
      "/var/folders/m4/7y6r9d5x1f9g7xkd8133tc2r0000gn/T/ipykernel_6567/1531866637.py:24: DeprecationWarning: DataFrameGroupBy.apply operated on the grouping columns. This behavior is deprecated, and in a future version of pandas the grouping columns will be excluded from the operation. Either pass `include_groups=False` to exclude the groupings or explicitly select the grouping columns after groupby to silence this warning.\n",
      "  df.groupby(\"minute\")\n"
     ]
    },
    {
     "name": "stdout",
     "output_type": "stream",
     "text": [
      "Processed data saved for company: ED\n",
      "Processing data for company: EFX\n"
     ]
    },
    {
     "name": "stderr",
     "output_type": "stream",
     "text": [
      "/var/folders/m4/7y6r9d5x1f9g7xkd8133tc2r0000gn/T/ipykernel_6567/1531866637.py:22: FutureWarning: 'T' is deprecated and will be removed in a future version, please use 'min' instead.\n",
      "  df['minute'] = df['datetime'].dt.floor('T')\n",
      "/var/folders/m4/7y6r9d5x1f9g7xkd8133tc2r0000gn/T/ipykernel_6567/1531866637.py:24: DeprecationWarning: DataFrameGroupBy.apply operated on the grouping columns. This behavior is deprecated, and in a future version of pandas the grouping columns will be excluded from the operation. Either pass `include_groups=False` to exclude the groupings or explicitly select the grouping columns after groupby to silence this warning.\n",
      "  df.groupby(\"minute\")\n"
     ]
    },
    {
     "name": "stdout",
     "output_type": "stream",
     "text": [
      "Processed data saved for company: EFX\n",
      "Processing data for company: EIX\n"
     ]
    },
    {
     "name": "stderr",
     "output_type": "stream",
     "text": [
      "/var/folders/m4/7y6r9d5x1f9g7xkd8133tc2r0000gn/T/ipykernel_6567/1531866637.py:22: FutureWarning: 'T' is deprecated and will be removed in a future version, please use 'min' instead.\n",
      "  df['minute'] = df['datetime'].dt.floor('T')\n",
      "/var/folders/m4/7y6r9d5x1f9g7xkd8133tc2r0000gn/T/ipykernel_6567/1531866637.py:24: DeprecationWarning: DataFrameGroupBy.apply operated on the grouping columns. This behavior is deprecated, and in a future version of pandas the grouping columns will be excluded from the operation. Either pass `include_groups=False` to exclude the groupings or explicitly select the grouping columns after groupby to silence this warning.\n",
      "  df.groupby(\"minute\")\n"
     ]
    },
    {
     "name": "stdout",
     "output_type": "stream",
     "text": [
      "Processed data saved for company: EIX\n",
      "Processing data for company: EL\n"
     ]
    },
    {
     "name": "stderr",
     "output_type": "stream",
     "text": [
      "/var/folders/m4/7y6r9d5x1f9g7xkd8133tc2r0000gn/T/ipykernel_6567/1531866637.py:22: FutureWarning: 'T' is deprecated and will be removed in a future version, please use 'min' instead.\n",
      "  df['minute'] = df['datetime'].dt.floor('T')\n",
      "/var/folders/m4/7y6r9d5x1f9g7xkd8133tc2r0000gn/T/ipykernel_6567/1531866637.py:24: DeprecationWarning: DataFrameGroupBy.apply operated on the grouping columns. This behavior is deprecated, and in a future version of pandas the grouping columns will be excluded from the operation. Either pass `include_groups=False` to exclude the groupings or explicitly select the grouping columns after groupby to silence this warning.\n",
      "  df.groupby(\"minute\")\n"
     ]
    },
    {
     "name": "stdout",
     "output_type": "stream",
     "text": [
      "Processed data saved for company: EL\n",
      "Processing data for company: EMN\n"
     ]
    },
    {
     "name": "stderr",
     "output_type": "stream",
     "text": [
      "/var/folders/m4/7y6r9d5x1f9g7xkd8133tc2r0000gn/T/ipykernel_6567/1531866637.py:22: FutureWarning: 'T' is deprecated and will be removed in a future version, please use 'min' instead.\n",
      "  df['minute'] = df['datetime'].dt.floor('T')\n",
      "/var/folders/m4/7y6r9d5x1f9g7xkd8133tc2r0000gn/T/ipykernel_6567/1531866637.py:24: DeprecationWarning: DataFrameGroupBy.apply operated on the grouping columns. This behavior is deprecated, and in a future version of pandas the grouping columns will be excluded from the operation. Either pass `include_groups=False` to exclude the groupings or explicitly select the grouping columns after groupby to silence this warning.\n",
      "  df.groupby(\"minute\")\n"
     ]
    },
    {
     "name": "stdout",
     "output_type": "stream",
     "text": [
      "Processed data saved for company: EMN\n",
      "Processing data for company: EMR\n"
     ]
    },
    {
     "name": "stderr",
     "output_type": "stream",
     "text": [
      "/var/folders/m4/7y6r9d5x1f9g7xkd8133tc2r0000gn/T/ipykernel_6567/1531866637.py:22: FutureWarning: 'T' is deprecated and will be removed in a future version, please use 'min' instead.\n",
      "  df['minute'] = df['datetime'].dt.floor('T')\n",
      "/var/folders/m4/7y6r9d5x1f9g7xkd8133tc2r0000gn/T/ipykernel_6567/1531866637.py:24: DeprecationWarning: DataFrameGroupBy.apply operated on the grouping columns. This behavior is deprecated, and in a future version of pandas the grouping columns will be excluded from the operation. Either pass `include_groups=False` to exclude the groupings or explicitly select the grouping columns after groupby to silence this warning.\n",
      "  df.groupby(\"minute\")\n"
     ]
    },
    {
     "name": "stdout",
     "output_type": "stream",
     "text": [
      "Processed data saved for company: EMR\n",
      "Processing data for company: EOG\n"
     ]
    },
    {
     "name": "stderr",
     "output_type": "stream",
     "text": [
      "/var/folders/m4/7y6r9d5x1f9g7xkd8133tc2r0000gn/T/ipykernel_6567/1531866637.py:22: FutureWarning: 'T' is deprecated and will be removed in a future version, please use 'min' instead.\n",
      "  df['minute'] = df['datetime'].dt.floor('T')\n",
      "/var/folders/m4/7y6r9d5x1f9g7xkd8133tc2r0000gn/T/ipykernel_6567/1531866637.py:24: DeprecationWarning: DataFrameGroupBy.apply operated on the grouping columns. This behavior is deprecated, and in a future version of pandas the grouping columns will be excluded from the operation. Either pass `include_groups=False` to exclude the groupings or explicitly select the grouping columns after groupby to silence this warning.\n",
      "  df.groupby(\"minute\")\n"
     ]
    },
    {
     "name": "stdout",
     "output_type": "stream",
     "text": [
      "Processed data saved for company: EOG\n",
      "Processing data for company: EQR\n"
     ]
    },
    {
     "name": "stderr",
     "output_type": "stream",
     "text": [
      "/var/folders/m4/7y6r9d5x1f9g7xkd8133tc2r0000gn/T/ipykernel_6567/1531866637.py:22: FutureWarning: 'T' is deprecated and will be removed in a future version, please use 'min' instead.\n",
      "  df['minute'] = df['datetime'].dt.floor('T')\n",
      "/var/folders/m4/7y6r9d5x1f9g7xkd8133tc2r0000gn/T/ipykernel_6567/1531866637.py:24: DeprecationWarning: DataFrameGroupBy.apply operated on the grouping columns. This behavior is deprecated, and in a future version of pandas the grouping columns will be excluded from the operation. Either pass `include_groups=False` to exclude the groupings or explicitly select the grouping columns after groupby to silence this warning.\n",
      "  df.groupby(\"minute\")\n"
     ]
    },
    {
     "name": "stdout",
     "output_type": "stream",
     "text": [
      "Processed data saved for company: EQR\n",
      "Processing data for company: ES\n"
     ]
    },
    {
     "name": "stderr",
     "output_type": "stream",
     "text": [
      "/var/folders/m4/7y6r9d5x1f9g7xkd8133tc2r0000gn/T/ipykernel_6567/1531866637.py:22: FutureWarning: 'T' is deprecated and will be removed in a future version, please use 'min' instead.\n",
      "  df['minute'] = df['datetime'].dt.floor('T')\n",
      "/var/folders/m4/7y6r9d5x1f9g7xkd8133tc2r0000gn/T/ipykernel_6567/1531866637.py:24: DeprecationWarning: DataFrameGroupBy.apply operated on the grouping columns. This behavior is deprecated, and in a future version of pandas the grouping columns will be excluded from the operation. Either pass `include_groups=False` to exclude the groupings or explicitly select the grouping columns after groupby to silence this warning.\n",
      "  df.groupby(\"minute\")\n"
     ]
    },
    {
     "name": "stdout",
     "output_type": "stream",
     "text": [
      "Processed data saved for company: ES\n",
      "Processing data for company: ESS\n"
     ]
    },
    {
     "name": "stderr",
     "output_type": "stream",
     "text": [
      "/var/folders/m4/7y6r9d5x1f9g7xkd8133tc2r0000gn/T/ipykernel_6567/1531866637.py:22: FutureWarning: 'T' is deprecated and will be removed in a future version, please use 'min' instead.\n",
      "  df['minute'] = df['datetime'].dt.floor('T')\n",
      "/var/folders/m4/7y6r9d5x1f9g7xkd8133tc2r0000gn/T/ipykernel_6567/1531866637.py:24: DeprecationWarning: DataFrameGroupBy.apply operated on the grouping columns. This behavior is deprecated, and in a future version of pandas the grouping columns will be excluded from the operation. Either pass `include_groups=False` to exclude the groupings or explicitly select the grouping columns after groupby to silence this warning.\n",
      "  df.groupby(\"minute\")\n"
     ]
    },
    {
     "name": "stdout",
     "output_type": "stream",
     "text": [
      "Processed data saved for company: ESS\n",
      "Processing data for company: ESV\n"
     ]
    },
    {
     "name": "stderr",
     "output_type": "stream",
     "text": [
      "/var/folders/m4/7y6r9d5x1f9g7xkd8133tc2r0000gn/T/ipykernel_6567/1531866637.py:22: FutureWarning: 'T' is deprecated and will be removed in a future version, please use 'min' instead.\n",
      "  df['minute'] = df['datetime'].dt.floor('T')\n",
      "/var/folders/m4/7y6r9d5x1f9g7xkd8133tc2r0000gn/T/ipykernel_6567/1531866637.py:24: DeprecationWarning: DataFrameGroupBy.apply operated on the grouping columns. This behavior is deprecated, and in a future version of pandas the grouping columns will be excluded from the operation. Either pass `include_groups=False` to exclude the groupings or explicitly select the grouping columns after groupby to silence this warning.\n",
      "  df.groupby(\"minute\")\n"
     ]
    },
    {
     "name": "stdout",
     "output_type": "stream",
     "text": [
      "Processed data saved for company: ESV\n",
      "Processing data for company: ETN\n"
     ]
    },
    {
     "name": "stderr",
     "output_type": "stream",
     "text": [
      "/var/folders/m4/7y6r9d5x1f9g7xkd8133tc2r0000gn/T/ipykernel_6567/1531866637.py:22: FutureWarning: 'T' is deprecated and will be removed in a future version, please use 'min' instead.\n",
      "  df['minute'] = df['datetime'].dt.floor('T')\n",
      "/var/folders/m4/7y6r9d5x1f9g7xkd8133tc2r0000gn/T/ipykernel_6567/1531866637.py:30: RuntimeWarning: invalid value encountered in scalar divide\n",
      "  \"weighted_ask_price\": (group[\"weighted_ask_price\"] * group[\"total_ask_quantity\"]).sum() / group[\"total_ask_quantity\"].sum(),\n"
     ]
    },
    {
     "name": "stdout",
     "output_type": "stream",
     "text": [
      "Processed data saved for company: ETN\n"
     ]
    },
    {
     "name": "stderr",
     "output_type": "stream",
     "text": [
      "/var/folders/m4/7y6r9d5x1f9g7xkd8133tc2r0000gn/T/ipykernel_6567/1531866637.py:24: DeprecationWarning: DataFrameGroupBy.apply operated on the grouping columns. This behavior is deprecated, and in a future version of pandas the grouping columns will be excluded from the operation. Either pass `include_groups=False` to exclude the groupings or explicitly select the grouping columns after groupby to silence this warning.\n",
      "  df.groupby(\"minute\")\n"
     ]
    }
   ],
   "source": [
    "import os\n",
    "import pandas as pd\n",
    "import numpy as np\n",
    "\n",
    "def process_all_companies(base_dir):\n",
    "    \"\"\"Process all company data: aggregate by minute, calculate normalized returns.\"\"\"\n",
    "    for company in sorted(os.listdir(base_dir)):\n",
    "        company_dir = os.path.join(base_dir, company)\n",
    "        csv_path = os.path.join(company_dir, f\"merged_data_{company}.csv\")\n",
    "        \n",
    "        if os.path.isdir(company_dir) and os.path.exists(csv_path):\n",
    "            print(f\"Processing data for company: {company}\")\n",
    "            \n",
    "            try:\n",
    "                # Load the CSV file\n",
    "                df = pd.read_csv(csv_path)\n",
    "\n",
    "                # Ensure datetime column is properly formatted\n",
    "                df['datetime'] = pd.to_datetime(df['datetime'], errors='coerce')\n",
    "\n",
    "                # Aggregate data by minute\n",
    "                df['minute'] = df['datetime'].dt.floor('T')\n",
    "                aggregated_df = (\n",
    "                    df.groupby(\"minute\")\n",
    "                    .apply(\n",
    "                        lambda group: pd.Series({\n",
    "                            \"weighted_bid_price\": (group[\"weighted_bid_price\"] * group[\"total_bid_quantity\"]).sum() / group[\"total_bid_quantity\"].sum(),\n",
    "                            \"max_bid_quantity\": group[\"max_bid_quantity\"].max(),\n",
    "                            \"total_bid_quantity\": group[\"total_bid_quantity\"].sum(),\n",
    "                            \"weighted_ask_price\": (group[\"weighted_ask_price\"] * group[\"total_ask_quantity\"]).sum() / group[\"total_ask_quantity\"].sum(),\n",
    "                            \"total_ask_quantity\": group[\"total_ask_quantity\"].sum(),\n",
    "                            \"max_ask_quantity\": group[\"max_ask_quantity\"].max(),\n",
    "                            \"weighted_trade_price\": (group[\"weighted_trade_price\"] * group[\"total_trade_volume\"]).sum() / group[\"total_trade_volume\"].sum(),\n",
    "                            \"total_trade_volume\": group[\"total_trade_volume\"].sum(),\n",
    "                        })\n",
    "                    )\n",
    "                    .reset_index()\n",
    "                )\n",
    "\n",
    "                # Add columns for time differences and returns\n",
    "                aggregated_df['date'] = aggregated_df['minute'].dt.date\n",
    "                aggregated_df['delta_time'] = aggregated_df.groupby('date')['minute'].diff().dt.total_seconds() / 60\n",
    "                aggregated_df['return'] = (\n",
    "                    (aggregated_df['weighted_trade_price'] - aggregated_df['weighted_trade_price'].shift(1))\n",
    "                    / aggregated_df['weighted_trade_price'].shift(1)\n",
    "                )\n",
    "\n",
    "                # Normalize returns by delta time\n",
    "                aggregated_df['normalized_return'] = aggregated_df['return'] / aggregated_df['delta_time']\n",
    "                aggregated_df['normalized_return'] = aggregated_df['normalized_return'].where(\n",
    "                    aggregated_df['delta_time'] > 0, np.nan\n",
    "                )\n",
    "\n",
    "                # Save the processed DataFrame back\n",
    "                output_path = os.path.join(company_dir, f\"processed_data_{company}.csv\")\n",
    "                aggregated_df.to_csv(output_path, index=False)\n",
    "                print(f\"Processed data saved for company: {company}\")\n",
    "            except Exception as e:\n",
    "                print(f\"Error processing data for company {company}: {e}\")\n",
    "        else:\n",
    "            print(f\"Skipping {company}: No valid data found.\")\n",
    "\n",
    "# Example usage\n",
    "base_directory = \"/Users/othmaneio/Documents/financial_big_data/data\"  # Replace with your base directory\n",
    "process_all_companies(base_directory)\n"
   ]
  },
  {
   "cell_type": "code",
   "execution_count": 23,
   "metadata": {},
   "outputs": [],
   "source": [
    "pAdf = pd.read_csv('/Users/othmaneio/Documents/financial_big_data/data/processed_data/processed_data_A.csv')"
   ]
  },
  {
   "cell_type": "code",
   "execution_count": 26,
   "metadata": {},
   "outputs": [
    {
     "data": {
      "text/plain": [
       "13"
      ]
     },
     "execution_count": 26,
     "metadata": {},
     "output_type": "execute_result"
    }
   ],
   "source": [
    "len(pAdf.columns)"
   ]
  },
  {
   "cell_type": "code",
   "execution_count": 22,
   "metadata": {},
   "outputs": [
    {
     "name": "stdout",
     "output_type": "stream",
     "text": [
      "Processed and saved filtered data for 133 files.\n"
     ]
    }
   ],
   "source": [
    "import os\n",
    "import pandas as pd\n",
    "\n",
    "# Path to the folder containing stock data files\n",
    "folder_path = '/Users/othmaneio/Documents/financial_big_data/data/processed_data'\n",
    "\n",
    "# Define the start and end time\n",
    "start_time = pd.to_datetime('09:30:00').time()\n",
    "end_time = pd.to_datetime('16:00:00').time()\n",
    "\n",
    "filtered_dataframes = {}\n",
    "\n",
    "# Iterate through each file in the folder\n",
    "for file_name in os.listdir(folder_path):\n",
    "    if file_name.endswith(\".csv\"):  # Assuming files are in CSV format\n",
    "        # Construct the file path\n",
    "        file_path = os.path.join(folder_path, file_name)\n",
    "\n",
    "        # Load the stock data\n",
    "        stock_df = pd.read_csv(file_path)\n",
    "\n",
    "        # Convert the 'minute' column to datetime\n",
    "        stock_df['minute'] = pd.to_datetime(stock_df['minute'])\n",
    "\n",
    "        # Filter rows between the specified times\n",
    "        df_filtered = stock_df[\n",
    "            (stock_df['minute'].dt.time >= start_time) &\n",
    "            (stock_df['minute'].dt.time <= end_time)&\n",
    "            (stock_df['weighted_ask_price'] > stock_df['weighted_bid_price']) &\n",
    "            (stock_df['weighted_ask_price'] > 0) &\n",
    "            (stock_df['weighted_bid_price'] > 0)\n",
    "        ]\n",
    "\n",
    "        # Store the filtered dataframe in a dictionary\n",
    "        filtered_dataframes[file_name] = df_filtered\n",
    "\n",
    "        # Save the filtered data back to a new file\n",
    "        output_file_name = f\"{file_name}\"\n",
    "        output_path = os.path.join(folder_path, output_file_name)\n",
    "        df_filtered.to_csv(output_path, index=False)\n",
    "\n",
    "# Display a summary message\n",
    "print(f\"Processed and saved filtered data for {len(filtered_dataframes)} files.\")\n"
   ]
  },
  {
   "cell_type": "code",
   "execution_count": 14,
   "metadata": {},
   "outputs": [
    {
     "name": "stdout",
     "output_type": "stream",
     "text": [
      "Moved: /Users/othmaneio/Documents/financial_big_data/data/AHC/processed_data_AHC.csv -> /Users/othmaneio/Documents/financial_big_data/data/processed_data\n",
      "Moved: /Users/othmaneio/Documents/financial_big_data/data/AMR/processed_data_AMR.csv -> /Users/othmaneio/Documents/financial_big_data/data/processed_data\n",
      "Moved: /Users/othmaneio/Documents/financial_big_data/data/CNP/processed_data_CNP.csv -> /Users/othmaneio/Documents/financial_big_data/data/processed_data\n",
      "Moved: /Users/othmaneio/Documents/financial_big_data/data/CAT/processed_data_CAT.csv -> /Users/othmaneio/Documents/financial_big_data/data/processed_data\n",
      "Moved: /Users/othmaneio/Documents/financial_big_data/data/AAP/processed_data_AAP.csv -> /Users/othmaneio/Documents/financial_big_data/data/processed_data\n",
      "Moved: /Users/othmaneio/Documents/financial_big_data/data/AGN/processed_data_AGN.csv -> /Users/othmaneio/Documents/financial_big_data/data/processed_data\n",
      "Moved: /Users/othmaneio/Documents/financial_big_data/data/ADS/processed_data_ADS.csv -> /Users/othmaneio/Documents/financial_big_data/data/processed_data\n",
      "Moved: /Users/othmaneio/Documents/financial_big_data/data/CAH/processed_data_CAH.csv -> /Users/othmaneio/Documents/financial_big_data/data/processed_data\n",
      "Moved: /Users/othmaneio/Documents/financial_big_data/data/CBG/processed_data_CBG.csv -> /Users/othmaneio/Documents/financial_big_data/data/processed_data\n",
      "Moved: /Users/othmaneio/Documents/financial_big_data/data/ABD/processed_data_ABD.csv -> /Users/othmaneio/Documents/financial_big_data/data/processed_data\n",
      "Moved: /Users/othmaneio/Documents/financial_big_data/data/BTM/processed_data_BTM.csv -> /Users/othmaneio/Documents/financial_big_data/data/processed_data\n",
      "Moved: /Users/othmaneio/Documents/financial_big_data/data/ABC/processed_data_ABC.csv -> /Users/othmaneio/Documents/financial_big_data/data/processed_data\n",
      "Moved: /Users/othmaneio/Documents/financial_big_data/data/EMN/processed_data_EMN.csv -> /Users/othmaneio/Documents/financial_big_data/data/processed_data\n",
      "Moved: /Users/othmaneio/Documents/financial_big_data/data/AMT/processed_data_AMT.csv -> /Users/othmaneio/Documents/financial_big_data/data/processed_data\n",
      "Moved: /Users/othmaneio/Documents/financial_big_data/data/ADI/processed_data_ADI.csv -> /Users/othmaneio/Documents/financial_big_data/data/processed_data\n",
      "Moved: /Users/othmaneio/Documents/financial_big_data/data/DRE/processed_data_DRE.csv -> /Users/othmaneio/Documents/financial_big_data/data/processed_data\n",
      "Moved: /Users/othmaneio/Documents/financial_big_data/data/CAG/processed_data_CAG.csv -> /Users/othmaneio/Documents/financial_big_data/data/processed_data\n",
      "Moved: /Users/othmaneio/Documents/financial_big_data/data/CNC/processed_data_CNC.csv -> /Users/othmaneio/Documents/financial_big_data/data/processed_data\n",
      "Moved: /Users/othmaneio/Documents/financial_big_data/data/EMR/processed_data_EMR.csv -> /Users/othmaneio/Documents/financial_big_data/data/processed_data\n",
      "Moved: /Users/othmaneio/Documents/financial_big_data/data/DG/processed_data_DG.csv -> /Users/othmaneio/Documents/financial_big_data/data/processed_data\n",
      "Moved: /Users/othmaneio/Documents/financial_big_data/data/CVX/processed_data_CVX.csv -> /Users/othmaneio/Documents/financial_big_data/data/processed_data\n",
      "Moved: /Users/othmaneio/Documents/financial_big_data/data/DLR/processed_data_DLR.csv -> /Users/othmaneio/Documents/financial_big_data/data/processed_data\n",
      "Moved: /Users/othmaneio/Documents/financial_big_data/data/BK/processed_data_BK.csv -> /Users/othmaneio/Documents/financial_big_data/data/processed_data\n",
      "Moved: /Users/othmaneio/Documents/financial_big_data/data/BLL/processed_data_BLL.csv -> /Users/othmaneio/Documents/financial_big_data/data/processed_data\n",
      "Moved: /Users/othmaneio/Documents/financial_big_data/data/BLK/processed_data_BLK.csv -> /Users/othmaneio/Documents/financial_big_data/data/processed_data\n",
      "Moved: /Users/othmaneio/Documents/financial_big_data/data/DFS/processed_data_DFS.csv -> /Users/othmaneio/Documents/financial_big_data/data/processed_data\n",
      "Moved: /Users/othmaneio/Documents/financial_big_data/data/APD/processed_data_APD.csv -> /Users/othmaneio/Documents/financial_big_data/data/processed_data\n",
      "Moved: /Users/othmaneio/Documents/financial_big_data/data/ESV/processed_data_ESV.csv -> /Users/othmaneio/Documents/financial_big_data/data/processed_data\n",
      "Moved: /Users/othmaneio/Documents/financial_big_data/data/AWK/processed_data_AWK.csv -> /Users/othmaneio/Documents/financial_big_data/data/processed_data\n",
      "Moved: /Users/othmaneio/Documents/financial_big_data/data/CI/processed_data_CI.csv -> /Users/othmaneio/Documents/financial_big_data/data/processed_data\n",
      "Moved: /Users/othmaneio/Documents/financial_big_data/data/EL/processed_data_EL.csv -> /Users/othmaneio/Documents/financial_big_data/data/processed_data\n",
      "Moved: /Users/othmaneio/Documents/financial_big_data/data/BAC/processed_data_BAC.csv -> /Users/othmaneio/Documents/financial_big_data/data/processed_data\n",
      "Moved: /Users/othmaneio/Documents/financial_big_data/data/CF/processed_data_CF.csv -> /Users/othmaneio/Documents/financial_big_data/data/processed_data\n",
      "Moved: /Users/othmaneio/Documents/financial_big_data/data/DHI/processed_data_DHI.csv -> /Users/othmaneio/Documents/financial_big_data/data/processed_data\n",
      "Moved: /Users/othmaneio/Documents/financial_big_data/data/BBY/processed_data_BBY.csv -> /Users/othmaneio/Documents/financial_big_data/data/processed_data\n",
      "Moved: /Users/othmaneio/Documents/financial_big_data/data/DNB/processed_data_DNB.csv -> /Users/othmaneio/Documents/financial_big_data/data/processed_data\n",
      "Moved: /Users/othmaneio/Documents/financial_big_data/data/DGX/processed_data_DGX.csv -> /Users/othmaneio/Documents/financial_big_data/data/processed_data\n",
      "Moved: /Users/othmaneio/Documents/financial_big_data/data/CRM/processed_data_CRM.csv -> /Users/othmaneio/Documents/financial_big_data/data/processed_data\n",
      "Moved: /Users/othmaneio/Documents/financial_big_data/data/EQR/processed_data_EQR.csv -> /Users/othmaneio/Documents/financial_big_data/data/processed_data\n",
      "Moved: /Users/othmaneio/Documents/financial_big_data/data/ED/processed_data_ED.csv -> /Users/othmaneio/Documents/financial_big_data/data/processed_data\n",
      "Moved: /Users/othmaneio/Documents/financial_big_data/data/BAX/processed_data_BAX.csv -> /Users/othmaneio/Documents/financial_big_data/data/processed_data\n",
      "Moved: /Users/othmaneio/Documents/financial_big_data/data/DHR/processed_data_DHR.csv -> /Users/othmaneio/Documents/financial_big_data/data/processed_data\n",
      "Moved: /Users/othmaneio/Documents/financial_big_data/data/ALB/processed_data_ALB.csv -> /Users/othmaneio/Documents/financial_big_data/data/processed_data\n",
      "Moved: /Users/othmaneio/Documents/financial_big_data/data/COG/processed_data_COG.csv -> /Users/othmaneio/Documents/financial_big_data/data/processed_data\n",
      "Moved: /Users/othmaneio/Documents/financial_big_data/data/CCL/processed_data_CCL.csv -> /Users/othmaneio/Documents/financial_big_data/data/processed_data\n",
      "Moved: /Users/othmaneio/Documents/financial_big_data/data/AIZ/processed_data_AIZ.csv -> /Users/othmaneio/Documents/financial_big_data/data/processed_data\n",
      "Moved: /Users/othmaneio/Documents/financial_big_data/data/ALL/processed_data_ALL.csv -> /Users/othmaneio/Documents/financial_big_data/data/processed_data\n",
      "Moved: /Users/othmaneio/Documents/financial_big_data/data/BSX/processed_data_BSX.csv -> /Users/othmaneio/Documents/financial_big_data/data/processed_data\n",
      "Moved: /Users/othmaneio/Documents/financial_big_data/data/ALK/processed_data_ALK.csv -> /Users/othmaneio/Documents/financial_big_data/data/processed_data\n",
      "Moved: /Users/othmaneio/Documents/financial_big_data/data/AFL/processed_data_AFL.csv -> /Users/othmaneio/Documents/financial_big_data/data/processed_data\n",
      "Moved: /Users/othmaneio/Documents/financial_big_data/data/AJG/processed_data_AJG.csv -> /Users/othmaneio/Documents/financial_big_data/data/processed_data\n",
      "Moved: /Users/othmaneio/Documents/financial_big_data/data/EFX/processed_data_EFX.csv -> /Users/othmaneio/Documents/financial_big_data/data/processed_data\n",
      "Moved: /Users/othmaneio/Documents/financial_big_data/data/ACN/processed_data_ACN.csv -> /Users/othmaneio/Documents/financial_big_data/data/processed_data\n",
      "Moved: /Users/othmaneio/Documents/financial_big_data/data/COH/processed_data_COH.csv -> /Users/othmaneio/Documents/financial_big_data/data/processed_data\n",
      "Moved: /Users/othmaneio/Documents/financial_big_data/data/COO/processed_data_COO.csv -> /Users/othmaneio/Documents/financial_big_data/data/processed_data\n",
      "Moved: /Users/othmaneio/Documents/financial_big_data/data/AEP/processed_data_AEP.csv -> /Users/othmaneio/Documents/financial_big_data/data/processed_data\n",
      "Moved: /Users/othmaneio/Documents/financial_big_data/data/COF/processed_data_COF.csv -> /Users/othmaneio/Documents/financial_big_data/data/processed_data\n",
      "Moved: /Users/othmaneio/Documents/financial_big_data/data/DUK/processed_data_DUK.csv -> /Users/othmaneio/Documents/financial_big_data/data/processed_data\n",
      "Moved: /Users/othmaneio/Documents/financial_big_data/data/A/processed_data_A.csv -> /Users/othmaneio/Documents/financial_big_data/data/processed_data\n",
      "Moved: /Users/othmaneio/Documents/financial_big_data/data/AIG/processed_data_AIG.csv -> /Users/othmaneio/Documents/financial_big_data/data/processed_data\n",
      "File not found: /Users/othmaneio/Documents/financial_big_data/data/processed_data/processed_data_processed_data.csv\n",
      "Moved: /Users/othmaneio/Documents/financial_big_data/data/AEE/processed_data_AEE.csv -> /Users/othmaneio/Documents/financial_big_data/data/processed_data\n",
      "Moved: /Users/othmaneio/Documents/financial_big_data/data/DRI/processed_data_DRI.csv -> /Users/othmaneio/Documents/financial_big_data/data/processed_data\n",
      "Moved: /Users/othmaneio/Documents/financial_big_data/data/CMG/processed_data_CMG.csv -> /Users/othmaneio/Documents/financial_big_data/data/processed_data\n",
      "Moved: /Users/othmaneio/Documents/financial_big_data/data/CMI/processed_data_CMI.csv -> /Users/othmaneio/Documents/financial_big_data/data/processed_data\n",
      "Moved: /Users/othmaneio/Documents/financial_big_data/data/AMD/processed_data_AMD.csv -> /Users/othmaneio/Documents/financial_big_data/data/processed_data\n",
      "Moved: /Users/othmaneio/Documents/financial_big_data/data/BWA/processed_data_BWA.csv -> /Users/othmaneio/Documents/financial_big_data/data/processed_data\n",
      "Moved: /Users/othmaneio/Documents/financial_big_data/data/BXP/processed_data_BXP.csv -> /Users/othmaneio/Documents/financial_big_data/data/processed_data\n",
      "Moved: /Users/othmaneio/Documents/financial_big_data/data/CHD/processed_data_CHD.csv -> /Users/othmaneio/Documents/financial_big_data/data/processed_data\n",
      "Moved: /Users/othmaneio/Documents/financial_big_data/data/DTE/processed_data_DTE.csv -> /Users/othmaneio/Documents/financial_big_data/data/processed_data\n",
      "Moved: /Users/othmaneio/Documents/financial_big_data/data/AMB/processed_data_AMB.csv -> /Users/othmaneio/Documents/financial_big_data/data/processed_data\n",
      "Moved: /Users/othmaneio/Documents/financial_big_data/data/AME/processed_data_AME.csv -> /Users/othmaneio/Documents/financial_big_data/data/processed_data\n",
      "Moved: /Users/othmaneio/Documents/financial_big_data/data/CMA/processed_data_CMA.csv -> /Users/othmaneio/Documents/financial_big_data/data/processed_data\n",
      "Moved: /Users/othmaneio/Documents/financial_big_data/data/CHP/processed_data_CHP.csv -> /Users/othmaneio/Documents/financial_big_data/data/processed_data\n",
      "Moved: /Users/othmaneio/Documents/financial_big_data/data/CMT/processed_data_CMT.csv -> /Users/othmaneio/Documents/financial_big_data/data/processed_data\n",
      "Moved: /Users/othmaneio/Documents/financial_big_data/data/CMS/processed_data_CMS.csv -> /Users/othmaneio/Documents/financial_big_data/data/processed_data\n",
      "Moved: /Users/othmaneio/Documents/financial_big_data/data/CHL/processed_data_CHL.csv -> /Users/othmaneio/Documents/financial_big_data/data/processed_data\n",
      "Moved: /Users/othmaneio/Documents/financial_big_data/data/ABT/processed_data_ABT.csv -> /Users/othmaneio/Documents/financial_big_data/data/processed_data\n",
      "Moved: /Users/othmaneio/Documents/financial_big_data/data/ADM/processed_data_ADM.csv -> /Users/othmaneio/Documents/financial_big_data/data/processed_data\n",
      "Moved: /Users/othmaneio/Documents/financial_big_data/data/AMP/processed_data_AMP.csv -> /Users/othmaneio/Documents/financial_big_data/data/processed_data\n",
      "Moved: /Users/othmaneio/Documents/financial_big_data/data/BH/processed_data_BH.csv -> /Users/othmaneio/Documents/financial_big_data/data/processed_data\n",
      "Moved: /Users/othmaneio/Documents/financial_big_data/data/CSX/processed_data_CSX.csv -> /Users/othmaneio/Documents/financial_big_data/data/processed_data\n",
      "Moved: /Users/othmaneio/Documents/financial_big_data/data/AZO/processed_data_AZO.csv -> /Users/othmaneio/Documents/financial_big_data/data/processed_data\n",
      "Moved: /Users/othmaneio/Documents/financial_big_data/data/DOW/processed_data_DOW.csv -> /Users/othmaneio/Documents/financial_big_data/data/processed_data\n",
      "Moved: /Users/othmaneio/Documents/financial_big_data/data/BA/processed_data_BA.csv -> /Users/othmaneio/Documents/financial_big_data/data/processed_data\n",
      "Moved: /Users/othmaneio/Documents/financial_big_data/data/CSC/processed_data_CSC.csv -> /Users/othmaneio/Documents/financial_big_data/data/processed_data\n",
      "Moved: /Users/othmaneio/Documents/financial_big_data/data/APA/processed_data_APA.csv -> /Users/othmaneio/Documents/financial_big_data/data/processed_data\n",
      "Moved: /Users/othmaneio/Documents/financial_big_data/data/ESS/processed_data_ESS.csv -> /Users/othmaneio/Documents/financial_big_data/data/processed_data\n",
      "Moved: /Users/othmaneio/Documents/financial_big_data/data/BFO/processed_data_BFO.csv -> /Users/othmaneio/Documents/financial_big_data/data/processed_data\n",
      "Moved: /Users/othmaneio/Documents/financial_big_data/data/DD/processed_data_DD.csv -> /Users/othmaneio/Documents/financial_big_data/data/processed_data\n",
      "Moved: /Users/othmaneio/Documents/financial_big_data/data/CPB/processed_data_CPB.csv -> /Users/othmaneio/Documents/financial_big_data/data/processed_data\n",
      "Moved: /Users/othmaneio/Documents/financial_big_data/data/BEN/processed_data_BEN.csv -> /Users/othmaneio/Documents/financial_big_data/data/processed_data\n",
      "Moved: /Users/othmaneio/Documents/financial_big_data/data/APH/processed_data_APH.csv -> /Users/othmaneio/Documents/financial_big_data/data/processed_data\n",
      "Moved: /Users/othmaneio/Documents/financial_big_data/data/DOV/processed_data_DOV.csv -> /Users/othmaneio/Documents/financial_big_data/data/processed_data\n",
      "Moved: /Users/othmaneio/Documents/financial_big_data/data/AA/processed_data_AA.csv -> /Users/othmaneio/Documents/financial_big_data/data/processed_data\n",
      "Moved: /Users/othmaneio/Documents/financial_big_data/data/AVB/processed_data_AVB.csv -> /Users/othmaneio/Documents/financial_big_data/data/processed_data\n",
      "Moved: /Users/othmaneio/Documents/financial_big_data/data/DIS/processed_data_DIS.csv -> /Users/othmaneio/Documents/financial_big_data/data/processed_data\n",
      "Moved: /Users/othmaneio/Documents/financial_big_data/data/CPC/processed_data_CPC.csv -> /Users/othmaneio/Documents/financial_big_data/data/processed_data\n",
      "Moved: /Users/othmaneio/Documents/financial_big_data/data/DE/processed_data_DE.csv -> /Users/othmaneio/Documents/financial_big_data/data/processed_data\n",
      "Moved: /Users/othmaneio/Documents/financial_big_data/data/CVS/processed_data_CVS.csv -> /Users/othmaneio/Documents/financial_big_data/data/processed_data\n",
      "Moved: /Users/othmaneio/Documents/financial_big_data/data/AVY/processed_data_AVY.csv -> /Users/othmaneio/Documents/financial_big_data/data/processed_data\n",
      "Moved: /Users/othmaneio/Documents/financial_big_data/data/BR/processed_data_BR.csv -> /Users/othmaneio/Documents/financial_big_data/data/processed_data\n",
      "Moved: /Users/othmaneio/Documents/financial_big_data/data/AXP/processed_data_AXP.csv -> /Users/othmaneio/Documents/financial_big_data/data/processed_data\n",
      "Moved: /Users/othmaneio/Documents/financial_big_data/data/ARE/processed_data_ARE.csv -> /Users/othmaneio/Documents/financial_big_data/data/processed_data\n",
      "Moved: /Users/othmaneio/Documents/financial_big_data/data/ES/processed_data_ES.csv -> /Users/othmaneio/Documents/financial_big_data/data/processed_data\n",
      "Moved: /Users/othmaneio/Documents/financial_big_data/data/CXO/processed_data_CXO.csv -> /Users/othmaneio/Documents/financial_big_data/data/processed_data\n",
      "Moved: /Users/othmaneio/Documents/financial_big_data/data/ETN/processed_data_ETN.csv -> /Users/othmaneio/Documents/financial_big_data/data/processed_data\n",
      "Moved: /Users/othmaneio/Documents/financial_big_data/data/BMY/processed_data_BMY.csv -> /Users/othmaneio/Documents/financial_big_data/data/processed_data\n",
      "Moved: /Users/othmaneio/Documents/financial_big_data/data/DAL/processed_data_DAL.csv -> /Users/othmaneio/Documents/financial_big_data/data/processed_data\n",
      "Moved: /Users/othmaneio/Documents/financial_big_data/data/CL/processed_data_CL.csv -> /Users/othmaneio/Documents/financial_big_data/data/processed_data\n",
      "Moved: /Users/othmaneio/Documents/financial_big_data/data/BDX/processed_data_BDX.csv -> /Users/othmaneio/Documents/financial_big_data/data/processed_data\n",
      "Moved: /Users/othmaneio/Documents/financial_big_data/data/ATO/processed_data_ATO.csv -> /Users/othmaneio/Documents/financial_big_data/data/processed_data\n",
      "Moved: /Users/othmaneio/Documents/financial_big_data/data/CB/processed_data_CB.csv -> /Users/othmaneio/Documents/financial_big_data/data/processed_data\n",
      "Moved: /Users/othmaneio/Documents/financial_big_data/data/CE/processed_data_CE.csv -> /Users/othmaneio/Documents/financial_big_data/data/processed_data\n",
      "Moved: /Users/othmaneio/Documents/financial_big_data/data/BKR/processed_data_BKR.csv -> /Users/othmaneio/Documents/financial_big_data/data/processed_data\n",
      "Moved: /Users/othmaneio/Documents/financial_big_data/data/CTL/processed_data_CTL.csv -> /Users/othmaneio/Documents/financial_big_data/data/processed_data\n",
      "Moved: /Users/othmaneio/Documents/financial_big_data/data/EIX/processed_data_EIX.csv -> /Users/othmaneio/Documents/financial_big_data/data/processed_data\n",
      "Moved: /Users/othmaneio/Documents/financial_big_data/data/C/processed_data_C.csv -> /Users/othmaneio/Documents/financial_big_data/data/processed_data\n",
      "Moved: /Users/othmaneio/Documents/financial_big_data/data/D/processed_data_D.csv -> /Users/othmaneio/Documents/financial_big_data/data/processed_data\n",
      "Moved: /Users/othmaneio/Documents/financial_big_data/data/DVA/processed_data_DVA.csv -> /Users/othmaneio/Documents/financial_big_data/data/processed_data\n",
      "Moved: /Users/othmaneio/Documents/financial_big_data/data/ACE/processed_data_ACE.csv -> /Users/othmaneio/Documents/financial_big_data/data/processed_data\n",
      "Moved: /Users/othmaneio/Documents/financial_big_data/data/AON/processed_data_AON.csv -> /Users/othmaneio/Documents/financial_big_data/data/processed_data\n",
      "Moved: /Users/othmaneio/Documents/financial_big_data/data/ACL/processed_data_ACL.csv -> /Users/othmaneio/Documents/financial_big_data/data/processed_data\n",
      "Moved: /Users/othmaneio/Documents/financial_big_data/data/ECL/processed_data_ECL.csv -> /Users/othmaneio/Documents/financial_big_data/data/processed_data\n",
      "Moved: /Users/othmaneio/Documents/financial_big_data/data/EOG/processed_data_EOG.csv -> /Users/othmaneio/Documents/financial_big_data/data/processed_data\n",
      "Moved: /Users/othmaneio/Documents/financial_big_data/data/CLX/processed_data_CLX.csv -> /Users/othmaneio/Documents/financial_big_data/data/processed_data\n",
      "Moved: /Users/othmaneio/Documents/financial_big_data/data/E/processed_data_E.csv -> /Users/othmaneio/Documents/financial_big_data/data/processed_data\n",
      "Moved: /Users/othmaneio/Documents/financial_big_data/data/COP/processed_data_COP.csv -> /Users/othmaneio/Documents/financial_big_data/data/processed_data\n",
      "Moved: /Users/othmaneio/Documents/financial_big_data/data/DVN/processed_data_DVN.csv -> /Users/othmaneio/Documents/financial_big_data/data/processed_data\n",
      "Moved: /Users/othmaneio/Documents/financial_big_data/data/AOS/processed_data_AOS.csv -> /Users/othmaneio/Documents/financial_big_data/data/processed_data\n",
      "Moved: /Users/othmaneio/Documents/financial_big_data/data/COL/processed_data_COL.csv -> /Users/othmaneio/Documents/financial_big_data/data/processed_data\n",
      "Moved: /Users/othmaneio/Documents/financial_big_data/data/AES/processed_data_AES.csv -> /Users/othmaneio/Documents/financial_big_data/data/processed_data\n",
      "Moved: /Users/othmaneio/Documents/financial_big_data/data/CCI/processed_data_CCI.csv -> /Users/othmaneio/Documents/financial_big_data/data/processed_data\n",
      "Moved: /Users/othmaneio/Documents/financial_big_data/data/AIV/processed_data_AIV.csv -> /Users/othmaneio/Documents/financial_big_data/data/processed_data\n"
     ]
    }
   ],
   "source": [
    "import shutil \n",
    "def create_processed_data_dir(base_dir):\n",
    "    main_directory = base_dir\n",
    "\n",
    "    # Define the target directory for processed data files\n",
    "    target_directory = os.path.join(main_directory, 'processed_data')\n",
    "\n",
    "    # Create the target directory if it doesn't exist\n",
    "    os.makedirs(target_directory, exist_ok=True)\n",
    "\n",
    "    # Loop through the subdirectories\n",
    "    for subdir in os.listdir(main_directory):\n",
    "        subdir_path = os.path.join(main_directory, subdir)\n",
    "        if os.path.isdir(subdir_path):  # Check if it's a directory\n",
    "            # Construct the expected file name\n",
    "            processed_file_name = f\"processed_data_{subdir}.csv\"\n",
    "            processed_file_path = os.path.join(subdir_path, processed_file_name)\n",
    "        \n",
    "            # Check if the processed data file exists\n",
    "            if os.path.exists(processed_file_path):\n",
    "                # Move the file to the target directory\n",
    "                shutil.copy(processed_file_path, os.path.join(target_directory, processed_file_name))\n",
    "                print(f\"Moved: {processed_file_path} -> {target_directory}\")\n",
    "            else:\n",
    "                print(f\"File not found: {processed_file_path}\")\n",
    "\n",
    "\n",
    "create_processed_data_dir('/Users/othmaneio/Documents/financial_big_data/data')"
   ]
  },
  {
   "cell_type": "code",
   "execution_count": 27,
   "metadata": {},
   "outputs": [],
   "source": [
    "import os\n",
    "import pandas as pd\n",
    "\n",
    "# Path to the folder containing stock data files\n",
    "folder_path = '/Users/othmaneio/Documents/financial_big_data/data/processed_data'\n",
    "\n",
    "# List to store individual DataFrames\n",
    "all_dfs = []\n",
    "\n",
    "# Iterate through each file in the folder\n",
    "for file_name in os.listdir(folder_path):\n",
    "    if file_name.endswith(\".csv\"):\n",
    "        # Load the stock data\n",
    "        file_path = os.path.join(folder_path, file_name)\n",
    "        df = pd.read_csv(file_path)\n",
    "        \n",
    "        # Extract stock name from the file name\n",
    "        stock_name = file_name.split(\"_\")[-1].replace(\".csv\", \"\")\n",
    "        \n",
    "        # Add a column identifying the stock\n",
    "        df['stock'] = stock_name\n",
    "        \n",
    "        # Append to the list\n",
    "        all_dfs.append(df)\n",
    "\n",
    "# Concatenate all DataFrames\n",
    "combined_df = pd.concat(all_dfs, ignore_index=True)\n",
    "\n",
    "# Save the combined DataFrame to disk\n",
    "combined_df.to_csv('/Users/othmaneio/Documents/financial_big_data/combined_stock_data.csv', index=False)\n"
   ]
  },
  {
   "cell_type": "code",
   "execution_count": 28,
   "metadata": {},
   "outputs": [],
   "source": [
    "df = pd.read_csv('/Users/othmaneio/Documents/financial_big_data/combined_stock_data.csv')"
   ]
  },
  {
   "cell_type": "code",
   "execution_count": 32,
   "metadata": {},
   "outputs": [
    {
     "data": {
      "text/html": [
       "<div>\n",
       "<style scoped>\n",
       "    .dataframe tbody tr th:only-of-type {\n",
       "        vertical-align: middle;\n",
       "    }\n",
       "\n",
       "    .dataframe tbody tr th {\n",
       "        vertical-align: top;\n",
       "    }\n",
       "\n",
       "    .dataframe thead th {\n",
       "        text-align: right;\n",
       "    }\n",
       "</style>\n",
       "<table border=\"1\" class=\"dataframe\">\n",
       "  <thead>\n",
       "    <tr style=\"text-align: right;\">\n",
       "      <th></th>\n",
       "      <th>minute</th>\n",
       "      <th>weighted_bid_price</th>\n",
       "      <th>max_bid_quantity</th>\n",
       "      <th>total_bid_quantity</th>\n",
       "      <th>weighted_ask_price</th>\n",
       "      <th>total_ask_quantity</th>\n",
       "      <th>max_ask_quantity</th>\n",
       "      <th>weighted_trade_price</th>\n",
       "      <th>total_trade_volume</th>\n",
       "      <th>date</th>\n",
       "      <th>delta_time</th>\n",
       "      <th>return</th>\n",
       "      <th>normalized_return</th>\n",
       "      <th>stock</th>\n",
       "    </tr>\n",
       "  </thead>\n",
       "  <tbody>\n",
       "    <tr>\n",
       "      <th>0</th>\n",
       "      <td>2010-05-03 09:30:00-04:00</td>\n",
       "      <td>58.960000</td>\n",
       "      <td>6.0</td>\n",
       "      <td>35.0</td>\n",
       "      <td>59.065455</td>\n",
       "      <td>11.0</td>\n",
       "      <td>2.0</td>\n",
       "      <td>59.030000</td>\n",
       "      <td>1200.0</td>\n",
       "      <td>2010-05-03</td>\n",
       "      <td>NaN</td>\n",
       "      <td>NaN</td>\n",
       "      <td>NaN</td>\n",
       "      <td>DLR</td>\n",
       "    </tr>\n",
       "    <tr>\n",
       "      <th>1</th>\n",
       "      <td>2010-05-03 09:32:00-04:00</td>\n",
       "      <td>59.028846</td>\n",
       "      <td>5.0</td>\n",
       "      <td>26.0</td>\n",
       "      <td>59.143333</td>\n",
       "      <td>12.0</td>\n",
       "      <td>2.0</td>\n",
       "      <td>59.103284</td>\n",
       "      <td>1218.0</td>\n",
       "      <td>2010-05-03</td>\n",
       "      <td>2.0</td>\n",
       "      <td>0.001241</td>\n",
       "      <td>0.000621</td>\n",
       "      <td>DLR</td>\n",
       "    </tr>\n",
       "    <tr>\n",
       "      <th>2</th>\n",
       "      <td>2010-05-03 09:33:00-04:00</td>\n",
       "      <td>59.304444</td>\n",
       "      <td>4.0</td>\n",
       "      <td>9.0</td>\n",
       "      <td>59.555000</td>\n",
       "      <td>10.0</td>\n",
       "      <td>3.0</td>\n",
       "      <td>59.518000</td>\n",
       "      <td>500.0</td>\n",
       "      <td>2010-05-03</td>\n",
       "      <td>1.0</td>\n",
       "      <td>0.007017</td>\n",
       "      <td>0.007017</td>\n",
       "      <td>DLR</td>\n",
       "    </tr>\n",
       "    <tr>\n",
       "      <th>3</th>\n",
       "      <td>2010-05-03 09:34:00-04:00</td>\n",
       "      <td>59.560000</td>\n",
       "      <td>1.0</td>\n",
       "      <td>2.0</td>\n",
       "      <td>59.660000</td>\n",
       "      <td>4.0</td>\n",
       "      <td>2.0</td>\n",
       "      <td>59.560000</td>\n",
       "      <td>400.0</td>\n",
       "      <td>2010-05-03</td>\n",
       "      <td>1.0</td>\n",
       "      <td>0.000706</td>\n",
       "      <td>0.000706</td>\n",
       "      <td>DLR</td>\n",
       "    </tr>\n",
       "    <tr>\n",
       "      <th>4</th>\n",
       "      <td>2010-05-03 09:35:00-04:00</td>\n",
       "      <td>59.570000</td>\n",
       "      <td>1.0</td>\n",
       "      <td>1.0</td>\n",
       "      <td>59.710000</td>\n",
       "      <td>5.0</td>\n",
       "      <td>5.0</td>\n",
       "      <td>59.680000</td>\n",
       "      <td>100.0</td>\n",
       "      <td>2010-05-03</td>\n",
       "      <td>1.0</td>\n",
       "      <td>0.002015</td>\n",
       "      <td>0.002015</td>\n",
       "      <td>DLR</td>\n",
       "    </tr>\n",
       "  </tbody>\n",
       "</table>\n",
       "</div>"
      ],
      "text/plain": [
       "                      minute  weighted_bid_price  max_bid_quantity  \\\n",
       "0  2010-05-03 09:30:00-04:00           58.960000               6.0   \n",
       "1  2010-05-03 09:32:00-04:00           59.028846               5.0   \n",
       "2  2010-05-03 09:33:00-04:00           59.304444               4.0   \n",
       "3  2010-05-03 09:34:00-04:00           59.560000               1.0   \n",
       "4  2010-05-03 09:35:00-04:00           59.570000               1.0   \n",
       "\n",
       "   total_bid_quantity  weighted_ask_price  total_ask_quantity  \\\n",
       "0                35.0           59.065455                11.0   \n",
       "1                26.0           59.143333                12.0   \n",
       "2                 9.0           59.555000                10.0   \n",
       "3                 2.0           59.660000                 4.0   \n",
       "4                 1.0           59.710000                 5.0   \n",
       "\n",
       "   max_ask_quantity  weighted_trade_price  total_trade_volume        date  \\\n",
       "0               2.0             59.030000              1200.0  2010-05-03   \n",
       "1               2.0             59.103284              1218.0  2010-05-03   \n",
       "2               3.0             59.518000               500.0  2010-05-03   \n",
       "3               2.0             59.560000               400.0  2010-05-03   \n",
       "4               5.0             59.680000               100.0  2010-05-03   \n",
       "\n",
       "   delta_time    return  normalized_return stock  \n",
       "0         NaN       NaN                NaN   DLR  \n",
       "1         2.0  0.001241           0.000621   DLR  \n",
       "2         1.0  0.007017           0.007017   DLR  \n",
       "3         1.0  0.000706           0.000706   DLR  \n",
       "4         1.0  0.002015           0.002015   DLR  "
      ]
     },
     "execution_count": 32,
     "metadata": {},
     "output_type": "execute_result"
    }
   ],
   "source": [
    "df[df['stock'] == 'DLR'].head()"
   ]
  }
 ],
 "metadata": {
  "kernelspec": {
   "display_name": "adaexam",
   "language": "python",
   "name": "python3"
  },
  "language_info": {
   "codemirror_mode": {
    "name": "ipython",
    "version": 3
   },
   "file_extension": ".py",
   "mimetype": "text/x-python",
   "name": "python",
   "nbconvert_exporter": "python",
   "pygments_lexer": "ipython3",
   "version": "3.9.7"
  }
 },
 "nbformat": 4,
 "nbformat_minor": 2
}
